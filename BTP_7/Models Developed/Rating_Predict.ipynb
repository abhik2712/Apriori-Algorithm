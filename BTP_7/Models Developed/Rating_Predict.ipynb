{
  "nbformat": 4,
  "nbformat_minor": 0,
  "metadata": {
    "colab": {
      "name": "Rating_Predict.ipynb",
      "provenance": []
    },
    "kernelspec": {
      "name": "python3",
      "display_name": "Python 3"
    },
    "accelerator": "GPU"
  },
  "cells": [
    {
      "cell_type": "code",
      "metadata": {
        "colab": {
          "base_uri": "https://localhost:8080/"
        },
        "id": "MPsNAqRGxOZP",
        "outputId": "ae98f406-318b-4813-8ef2-67b67c6de2fe"
      },
      "source": [
        "import nltk\n",
        "\n",
        "nltk.download('stopwords')\n",
        "nltk.download('vader_lexicon')"
      ],
      "execution_count": 1,
      "outputs": [
        {
          "output_type": "stream",
          "text": [
            "[nltk_data] Downloading package stopwords to /root/nltk_data...\n",
            "[nltk_data]   Unzipping corpora/stopwords.zip.\n",
            "[nltk_data] Downloading package vader_lexicon to /root/nltk_data...\n"
          ],
          "name": "stdout"
        },
        {
          "output_type": "execute_result",
          "data": {
            "text/plain": [
              "True"
            ]
          },
          "metadata": {
            "tags": []
          },
          "execution_count": 1
        }
      ]
    },
    {
      "cell_type": "code",
      "metadata": {
        "id": "FclRRM21xiP8"
      },
      "source": [
        "import tensorflow as tf\n",
        "\n",
        "keras = tf.keras"
      ],
      "execution_count": 2,
      "outputs": []
    },
    {
      "cell_type": "code",
      "metadata": {
        "id": "Xe3-7qZExnSK"
      },
      "source": [
        "%matplotlib inline\n",
        "import re\n",
        "import seaborn as sbn\n",
        "import nltk\n",
        "import tqdm as tqdm\n",
        "import sqlite3\n",
        "import pandas as pd\n",
        "import numpy as np\n",
        "\n",
        "import string\n",
        "from nltk.corpus import stopwords\n",
        "stop = stopwords.words(\"english\")\n",
        "import matplotlib.pyplot as plt\n",
        "\n",
        "from sklearn.metrics import accuracy_score\n",
        "from sklearn.metrics import confusion_matrix\n",
        "from math import floor,ceil\n",
        "from nltk.stem.porter import PorterStemmer\n",
        "english_stemmer=nltk.stem.SnowballStemmer('english')\n",
        "from nltk.stem import SnowballStemmer\n",
        "\n",
        "from sklearn.feature_extraction.text import TfidfTransformer\n",
        "from sklearn.feature_extraction.text import CountVectorizer\n",
        "from sklearn.model_selection import train_test_split\n",
        "from sklearn.metrics import confusion_matrix\n",
        "from sklearn import metrics\n",
        "from sklearn.metrics import roc_curve, auc\n",
        "\n",
        "from sklearn.svm import LinearSVC\n",
        "from keras.preprocessing.sequence import pad_sequences\n",
        "from keras.preprocessing.text import Tokenizer\n",
        "from keras.models import Sequential\n",
        "from keras.layers import Dense, Dropout, Reshape, Flatten, concatenate, Input, Conv1D, GlobalMaxPooling1D, Embedding\n",
        "from keras.layers import LSTM, Dense, Embedding\n",
        "from keras.models import Model\n",
        "\n",
        "\n",
        "from gensim import summarization\n",
        "from nltk.tokenize import word_tokenize\n",
        "from sklearn.feature_extraction.text import TfidfVectorizer\n",
        "from sklearn.model_selection import train_test_split"
      ],
      "execution_count": 3,
      "outputs": []
    },
    {
      "cell_type": "code",
      "metadata": {
        "id": "GpmSXERNxrXZ"
      },
      "source": [
        "df = pd.read_csv('Reviews1.csv')"
      ],
      "execution_count": 4,
      "outputs": []
    },
    {
      "cell_type": "code",
      "metadata": {
        "colab": {
          "base_uri": "https://localhost:8080/",
          "height": 204
        },
        "id": "7aCZVSw2xyPj",
        "outputId": "4b99eb46-c20b-46b6-94a1-a2974aab31a6"
      },
      "source": [
        "review_data = df[['UserId', 'ProductId', 'Score','Summary','Text']]\n",
        "review_data.head()"
      ],
      "execution_count": 5,
      "outputs": [
        {
          "output_type": "execute_result",
          "data": {
            "text/html": [
              "<div>\n",
              "<style scoped>\n",
              "    .dataframe tbody tr th:only-of-type {\n",
              "        vertical-align: middle;\n",
              "    }\n",
              "\n",
              "    .dataframe tbody tr th {\n",
              "        vertical-align: top;\n",
              "    }\n",
              "\n",
              "    .dataframe thead th {\n",
              "        text-align: right;\n",
              "    }\n",
              "</style>\n",
              "<table border=\"1\" class=\"dataframe\">\n",
              "  <thead>\n",
              "    <tr style=\"text-align: right;\">\n",
              "      <th></th>\n",
              "      <th>UserId</th>\n",
              "      <th>ProductId</th>\n",
              "      <th>Score</th>\n",
              "      <th>Summary</th>\n",
              "      <th>Text</th>\n",
              "    </tr>\n",
              "  </thead>\n",
              "  <tbody>\n",
              "    <tr>\n",
              "      <th>0</th>\n",
              "      <td>A3SGXH7AUHU8GW</td>\n",
              "      <td>B001E4KFG0</td>\n",
              "      <td>5</td>\n",
              "      <td>Good Quality Dog Food</td>\n",
              "      <td>I have bought several of the Vitality canned d...</td>\n",
              "    </tr>\n",
              "    <tr>\n",
              "      <th>1</th>\n",
              "      <td>A1D87F6ZCVE5NK</td>\n",
              "      <td>B00813GRG4</td>\n",
              "      <td>1</td>\n",
              "      <td>Not as Advertised</td>\n",
              "      <td>Product arrived labeled as Jumbo Salted Peanut...</td>\n",
              "    </tr>\n",
              "    <tr>\n",
              "      <th>2</th>\n",
              "      <td>ABXLMWJIXXAIN</td>\n",
              "      <td>B000LQOCH0</td>\n",
              "      <td>4</td>\n",
              "      <td>\"Delight\" says it all</td>\n",
              "      <td>This is a confection that has been around a fe...</td>\n",
              "    </tr>\n",
              "    <tr>\n",
              "      <th>3</th>\n",
              "      <td>A395BORC6FGVXV</td>\n",
              "      <td>B000UA0QIQ</td>\n",
              "      <td>2</td>\n",
              "      <td>Cough Medicine</td>\n",
              "      <td>If you are looking for the secret ingredient i...</td>\n",
              "    </tr>\n",
              "    <tr>\n",
              "      <th>4</th>\n",
              "      <td>A1UQRSCLF8GW1T</td>\n",
              "      <td>B006K2ZZ7K</td>\n",
              "      <td>5</td>\n",
              "      <td>Great taffy</td>\n",
              "      <td>Great taffy at a great price.  There was a wid...</td>\n",
              "    </tr>\n",
              "  </tbody>\n",
              "</table>\n",
              "</div>"
            ],
            "text/plain": [
              "           UserId  ...                                               Text\n",
              "0  A3SGXH7AUHU8GW  ...  I have bought several of the Vitality canned d...\n",
              "1  A1D87F6ZCVE5NK  ...  Product arrived labeled as Jumbo Salted Peanut...\n",
              "2   ABXLMWJIXXAIN  ...  This is a confection that has been around a fe...\n",
              "3  A395BORC6FGVXV  ...  If you are looking for the secret ingredient i...\n",
              "4  A1UQRSCLF8GW1T  ...  Great taffy at a great price.  There was a wid...\n",
              "\n",
              "[5 rows x 5 columns]"
            ]
          },
          "metadata": {
            "tags": []
          },
          "execution_count": 5
        }
      ]
    },
    {
      "cell_type": "code",
      "metadata": {
        "colab": {
          "base_uri": "https://localhost:8080/"
        },
        "id": "biqnLYWvy0l8",
        "outputId": "890fddda-5e68-484c-9857-d99b742976a6"
      },
      "source": [
        "review_data['UserId'].value_counts()"
      ],
      "execution_count": 6,
      "outputs": [
        {
          "output_type": "execute_result",
          "data": {
            "text/plain": [
              "A3NHUQ33CFH3VM    5\n",
              "A3PJZ8TU8FDQ1K    5\n",
              "A2NLZ3M0OJV9NX    4\n",
              "A3RMGIKUWGPZOK    4\n",
              "A31N6KB160O508    3\n",
              "                 ..\n",
              "A3MA4VWLFOCJ41    1\n",
              "A2NT2JB4DBPPVP    1\n",
              "A2FOXRMJA0T9M7    1\n",
              "A3TXK9O5IP3CWQ    1\n",
              "A1BQK9Q5K8MHWM    1\n",
              "Name: UserId, Length: 2890, dtype: int64"
            ]
          },
          "metadata": {
            "tags": []
          },
          "execution_count": 6
        }
      ]
    },
    {
      "cell_type": "code",
      "metadata": {
        "id": "cMfIt9Sbx1Mp",
        "colab": {
          "base_uri": "https://localhost:8080/"
        },
        "outputId": "1a8dbf35-e66b-4d3c-9d30-31b4a23d212f"
      },
      "source": [
        "\n",
        "# user1_data = review_data.loc[review_data['UserId'] == 'A3NHUQ33CFH3VM']\n",
        "labels = review_data['Score'].map(lambda x : 1 if int(x) > 3 else 0)\n",
        "print(np.array(labels))"
      ],
      "execution_count": 7,
      "outputs": [
        {
          "output_type": "stream",
          "text": [
            "[1 0 1 ... 1 0 1]\n"
          ],
          "name": "stdout"
        }
      ]
    },
    {
      "cell_type": "code",
      "metadata": {
        "colab": {
          "base_uri": "https://localhost:8080/"
        },
        "id": "yh-mZevFyWRl",
        "outputId": "472cfcbe-0c9f-4407-a03d-4f5a851f3ec6"
      },
      "source": [
        "review_data['Score'] = review_data['Score'].map(lambda x : 1 if int(x) > 3 else 0)"
      ],
      "execution_count": 8,
      "outputs": [
        {
          "output_type": "stream",
          "text": [
            "/usr/local/lib/python3.6/dist-packages/ipykernel_launcher.py:1: SettingWithCopyWarning: \n",
            "A value is trying to be set on a copy of a slice from a DataFrame.\n",
            "Try using .loc[row_indexer,col_indexer] = value instead\n",
            "\n",
            "See the caveats in the documentation: https://pandas.pydata.org/pandas-docs/stable/user_guide/indexing.html#returning-a-view-versus-a-copy\n",
            "  \"\"\"Entry point for launching an IPython kernel.\n"
          ],
          "name": "stderr"
        }
      ]
    },
    {
      "cell_type": "code",
      "metadata": {
        "colab": {
          "base_uri": "https://localhost:8080/",
          "height": 204
        },
        "id": "DAiCNt8SzE-r",
        "outputId": "52033d49-9b4c-4f1c-d7b5-aed096383cb6"
      },
      "source": [
        "review_data.head()"
      ],
      "execution_count": 9,
      "outputs": [
        {
          "output_type": "execute_result",
          "data": {
            "text/html": [
              "<div>\n",
              "<style scoped>\n",
              "    .dataframe tbody tr th:only-of-type {\n",
              "        vertical-align: middle;\n",
              "    }\n",
              "\n",
              "    .dataframe tbody tr th {\n",
              "        vertical-align: top;\n",
              "    }\n",
              "\n",
              "    .dataframe thead th {\n",
              "        text-align: right;\n",
              "    }\n",
              "</style>\n",
              "<table border=\"1\" class=\"dataframe\">\n",
              "  <thead>\n",
              "    <tr style=\"text-align: right;\">\n",
              "      <th></th>\n",
              "      <th>UserId</th>\n",
              "      <th>ProductId</th>\n",
              "      <th>Score</th>\n",
              "      <th>Summary</th>\n",
              "      <th>Text</th>\n",
              "    </tr>\n",
              "  </thead>\n",
              "  <tbody>\n",
              "    <tr>\n",
              "      <th>0</th>\n",
              "      <td>A3SGXH7AUHU8GW</td>\n",
              "      <td>B001E4KFG0</td>\n",
              "      <td>1</td>\n",
              "      <td>Good Quality Dog Food</td>\n",
              "      <td>I have bought several of the Vitality canned d...</td>\n",
              "    </tr>\n",
              "    <tr>\n",
              "      <th>1</th>\n",
              "      <td>A1D87F6ZCVE5NK</td>\n",
              "      <td>B00813GRG4</td>\n",
              "      <td>0</td>\n",
              "      <td>Not as Advertised</td>\n",
              "      <td>Product arrived labeled as Jumbo Salted Peanut...</td>\n",
              "    </tr>\n",
              "    <tr>\n",
              "      <th>2</th>\n",
              "      <td>ABXLMWJIXXAIN</td>\n",
              "      <td>B000LQOCH0</td>\n",
              "      <td>1</td>\n",
              "      <td>\"Delight\" says it all</td>\n",
              "      <td>This is a confection that has been around a fe...</td>\n",
              "    </tr>\n",
              "    <tr>\n",
              "      <th>3</th>\n",
              "      <td>A395BORC6FGVXV</td>\n",
              "      <td>B000UA0QIQ</td>\n",
              "      <td>0</td>\n",
              "      <td>Cough Medicine</td>\n",
              "      <td>If you are looking for the secret ingredient i...</td>\n",
              "    </tr>\n",
              "    <tr>\n",
              "      <th>4</th>\n",
              "      <td>A1UQRSCLF8GW1T</td>\n",
              "      <td>B006K2ZZ7K</td>\n",
              "      <td>1</td>\n",
              "      <td>Great taffy</td>\n",
              "      <td>Great taffy at a great price.  There was a wid...</td>\n",
              "    </tr>\n",
              "  </tbody>\n",
              "</table>\n",
              "</div>"
            ],
            "text/plain": [
              "           UserId  ...                                               Text\n",
              "0  A3SGXH7AUHU8GW  ...  I have bought several of the Vitality canned d...\n",
              "1  A1D87F6ZCVE5NK  ...  Product arrived labeled as Jumbo Salted Peanut...\n",
              "2   ABXLMWJIXXAIN  ...  This is a confection that has been around a fe...\n",
              "3  A395BORC6FGVXV  ...  If you are looking for the secret ingredient i...\n",
              "4  A1UQRSCLF8GW1T  ...  Great taffy at a great price.  There was a wid...\n",
              "\n",
              "[5 rows x 5 columns]"
            ]
          },
          "metadata": {
            "tags": []
          },
          "execution_count": 9
        }
      ]
    },
    {
      "cell_type": "code",
      "metadata": {
        "id": "8uvQKPr5z3kQ"
      },
      "source": [
        "def data_clean(text):\n",
        "    \n",
        "    ## Remove puncuation\n",
        "    text = text.translate(string.punctuation)\n",
        "    \n",
        "    ## Convert words to lower case and split them\n",
        "    text = text.lower().split()\n",
        "    \n",
        "    ## Remove stop words\n",
        "    stops = set(stopwords.words(\"english\"))\n",
        "    text = [w for w in text if not w in stops and len(w) >= 3]\n",
        "    \n",
        "    text = \" \".join(text)\n",
        "\n",
        "    # Clean the text\n",
        "    text = re.sub(r\"[^A-Za-z0-9^,!.\\/'+-=]\", \" \", text)\n",
        "    text = re.sub(r\"what's\", \"what is \", text)\n",
        "    text = re.sub(r\"\\'s\", \" \", text)\n",
        "    text = re.sub(r\"\\'ve\", \" have \", text)\n",
        "    text = re.sub(r\"n't\", \" not \", text)\n",
        "    text = re.sub(r\"i'm\", \"i am \", text)\n",
        "    text = re.sub(r\"\\'re\", \" are \", text)\n",
        "    text = re.sub(r\"\\'d\", \" would \", text)\n",
        "    text = re.sub(r\"\\'ll\", \" will \", text)\n",
        "    text = re.sub(r\",\", \" \", text)\n",
        "    text = re.sub(r\"\\.\", \" \", text)\n",
        "    text = re.sub(r\"!\", \" ! \", text)\n",
        "    text = re.sub(r\"\\/\", \" \", text)\n",
        "    text = re.sub(r\"\\^\", \" ^ \", text)\n",
        "    text = re.sub(r\"\\+\", \" + \", text)\n",
        "    text = re.sub(r\"\\-\", \" - \", text)\n",
        "    text = re.sub(r\"\\=\", \" = \", text)\n",
        "    text = re.sub(r\"'\", \" \", text)\n",
        "    text = re.sub(r\"(\\d+)(k)\", r\"\\g<1>000\", text)\n",
        "    text = re.sub(r\":\", \" : \", text)\n",
        "    text = re.sub(r\" e g \", \" eg \", text)\n",
        "    text = re.sub(r\" b g \", \" bg \", text)\n",
        "    text = re.sub(r\" u s \", \" american \", text)\n",
        "    text = re.sub(r\"\\0s\", \"0\", text)\n",
        "    text = re.sub(r\" 9 11 \", \"911\", text)\n",
        "    text = re.sub(r\"e - mail\", \"email\", text)\n",
        "    text = re.sub(r\"j k\", \"jk\", text)\n",
        "    text = re.sub(r\"\\s{2,}\", \" \", text)\n",
        "    \n",
        "    text = text.split()\n",
        "    stemmer = SnowballStemmer('english')\n",
        "    stemmed_words = [stemmer.stem(word) for word in text]\n",
        "    text = \" \".join(stemmed_words)\n",
        "\n",
        "    return text"
      ],
      "execution_count": 10,
      "outputs": []
    },
    {
      "cell_type": "code",
      "metadata": {
        "id": "0adCr7uq0AQn"
      },
      "source": [
        "clean_reviewData = []\n",
        "for rev in review_data['Text']:\n",
        "    clean_reviewData.append( \" \".join(data_clean(rev)))\n",
        "\n",
        "clean_summaryData = []\n",
        "for rev in review_data['Summary']:\n",
        "    clean_summaryData.append( \" \".join(data_clean(rev)))"
      ],
      "execution_count": 11,
      "outputs": []
    },
    {
      "cell_type": "code",
      "metadata": {
        "colab": {
          "base_uri": "https://localhost:8080/"
        },
        "id": "s51ay5xJ0C2P",
        "outputId": "399febf3-ce9a-455c-bfd1-4ff92694d4da"
      },
      "source": [
        "Data = review_data[['Text','Score']]\n",
        "print(Data.head())\n",
        "Data_x= Data['Text']\n",
        "Data_y= Data['Score']\n",
        "#calculate padding length\n",
        "MAX_LEN = 0\n",
        "for i in range(1,2999):\n",
        "  if(MAX_LEN < len(Data_x[i])):\n",
        "    MAX_LEN = len(Data_x[i])\n",
        "print(MAX_LEN)"
      ],
      "execution_count": 12,
      "outputs": [
        {
          "output_type": "stream",
          "text": [
            "                                                Text  Score\n",
            "0  I have bought several of the Vitality canned d...      1\n",
            "1  Product arrived labeled as Jumbo Salted Peanut...      0\n",
            "2  This is a confection that has been around a fe...      1\n",
            "3  If you are looking for the secret ingredient i...      0\n",
            "4  Great taffy at a great price.  There was a wid...      1\n",
            "5276\n"
          ],
          "name": "stdout"
        }
      ]
    },
    {
      "cell_type": "code",
      "metadata": {
        "colab": {
          "base_uri": "https://localhost:8080/"
        },
        "id": "sNdLtpwM0Frv",
        "outputId": "b9dffd90-3e8a-4989-c8aa-3a1c69f28287"
      },
      "source": [
        "vocabulary_size = 20000\n",
        "tokenizer = Tokenizer(num_words= vocabulary_size)\n",
        "tokenizer.fit_on_texts(Data_x)\n",
        "sequences = tokenizer.texts_to_sequences(Data_x)\n",
        "data = pad_sequences(sequences, maxlen=MAX_LEN)\n",
        "print(data.shape)"
      ],
      "execution_count": 13,
      "outputs": [
        {
          "output_type": "stream",
          "text": [
            "(2999, 5276)\n"
          ],
          "name": "stdout"
        }
      ]
    },
    {
      "cell_type": "code",
      "metadata": {
        "colab": {
          "base_uri": "https://localhost:8080/"
        },
        "id": "eql5fnhz3z1J",
        "outputId": "17058df9-3fd7-4cc5-ed64-39c6097ab1da"
      },
      "source": [
        "!wget http://nlp.stanford.edu/data/glove.6B.zip"
      ],
      "execution_count": 14,
      "outputs": [
        {
          "output_type": "stream",
          "text": [
            "--2020-11-22 17:51:20--  http://nlp.stanford.edu/data/glove.6B.zip\n",
            "Resolving nlp.stanford.edu (nlp.stanford.edu)... 171.64.67.140\n",
            "Connecting to nlp.stanford.edu (nlp.stanford.edu)|171.64.67.140|:80... connected.\n",
            "HTTP request sent, awaiting response... 302 Found\n",
            "Location: https://nlp.stanford.edu/data/glove.6B.zip [following]\n",
            "--2020-11-22 17:51:20--  https://nlp.stanford.edu/data/glove.6B.zip\n",
            "Connecting to nlp.stanford.edu (nlp.stanford.edu)|171.64.67.140|:443... connected.\n",
            "HTTP request sent, awaiting response... 301 Moved Permanently\n",
            "Location: http://downloads.cs.stanford.edu/nlp/data/glove.6B.zip [following]\n",
            "--2020-11-22 17:51:20--  http://downloads.cs.stanford.edu/nlp/data/glove.6B.zip\n",
            "Resolving downloads.cs.stanford.edu (downloads.cs.stanford.edu)... 171.64.64.22\n",
            "Connecting to downloads.cs.stanford.edu (downloads.cs.stanford.edu)|171.64.64.22|:80... connected.\n",
            "HTTP request sent, awaiting response... 200 OK\n",
            "Length: 862182613 (822M) [application/zip]\n",
            "Saving to: ‘glove.6B.zip’\n",
            "\n",
            "glove.6B.zip        100%[===================>] 822.24M  2.22MB/s    in 6m 26s  \n",
            "\n",
            "2020-11-22 17:57:46 (2.13 MB/s) - ‘glove.6B.zip’ saved [862182613/862182613]\n",
            "\n"
          ],
          "name": "stdout"
        }
      ]
    },
    {
      "cell_type": "code",
      "metadata": {
        "colab": {
          "base_uri": "https://localhost:8080/"
        },
        "id": "BaJ_hiOx34pw",
        "outputId": "38424157-6cd5-4060-db3d-b64641e7b649"
      },
      "source": [
        "!unzip glove*.zip"
      ],
      "execution_count": 15,
      "outputs": [
        {
          "output_type": "stream",
          "text": [
            "Archive:  glove.6B.zip\n",
            "  inflating: glove.6B.50d.txt        \n",
            "  inflating: glove.6B.100d.txt       \n",
            "  inflating: glove.6B.200d.txt       \n",
            "  inflating: glove.6B.300d.txt       \n"
          ],
          "name": "stdout"
        }
      ]
    },
    {
      "cell_type": "code",
      "metadata": {
        "colab": {
          "base_uri": "https://localhost:8080/"
        },
        "id": "y53F-T1_0Vde",
        "outputId": "2c4792b9-b644-4ad9-89b2-1505a1eae40c"
      },
      "source": [
        "#using glove model for word embeddings\n",
        "embeddings_index = dict()\n",
        "f = open('glove.6B.300d.txt')\n",
        "for line in f:\n",
        "    values = line.split()\n",
        "    word = values[0]\n",
        "    coefs = np.asarray(values[1:], dtype='float32')\n",
        "    embeddings_index[word] = coefs\n",
        "f.close()\n",
        "print('Loaded %s word vectors.' % len(embeddings_index))"
      ],
      "execution_count": 16,
      "outputs": [
        {
          "output_type": "stream",
          "text": [
            "Loaded 400000 word vectors.\n"
          ],
          "name": "stdout"
        }
      ]
    },
    {
      "cell_type": "code",
      "metadata": {
        "colab": {
          "base_uri": "https://localhost:8080/"
        },
        "id": "Cg1k-g-Z1M2i",
        "outputId": "056c50bf-7436-4b79-a61e-5f4208ed4894"
      },
      "source": [
        "# create a weight matrix for words in training docs\n",
        "embedding_matrix = np.zeros((vocabulary_size, 300))\n",
        "for word, index in tokenizer.word_index.items():\n",
        "    if index > vocabulary_size - 1:\n",
        "        break\n",
        "    else:\n",
        "        embedding_vector = embeddings_index.get(word)\n",
        "        if embedding_vector is not None:\n",
        "            embedding_matrix[index] = embedding_vector\n",
        "\n",
        "print(embedding_matrix[1])"
      ],
      "execution_count": 17,
      "outputs": [
        {
          "output_type": "stream",
          "text": [
            "[ 4.65600006e-02  2.13180006e-01 -7.43639981e-03 -4.58539993e-01\n",
            " -3.56389992e-02  2.36430004e-01 -2.88360000e-01  2.15210006e-01\n",
            " -1.34859994e-01 -1.64129996e+00 -2.60910004e-01  3.24340016e-02\n",
            "  5.66210002e-02 -4.32960019e-02 -2.16719992e-02  2.24759996e-01\n",
            " -7.51290023e-02 -6.70180023e-02 -1.42470002e-01  3.88250016e-02\n",
            " -1.89510003e-01  2.99769998e-01  3.93049985e-01  1.78870007e-01\n",
            " -1.73429996e-01 -2.11779997e-01  2.36169994e-01 -6.36809990e-02\n",
            " -4.23180014e-01 -1.16609998e-01  9.37540010e-02  1.72959998e-01\n",
            " -3.30729991e-01  4.91120011e-01 -6.89949989e-01 -9.24620032e-02\n",
            "  2.47419998e-01 -1.79910004e-01  9.79079977e-02  8.31179991e-02\n",
            "  1.52989998e-01 -2.72760004e-01 -3.89339998e-02  5.44529974e-01\n",
            "  5.37370026e-01  2.91049987e-01 -7.35139987e-03  4.78800014e-02\n",
            " -4.07599986e-01 -2.67590005e-02  1.79189995e-01  1.09770000e-02\n",
            " -1.09630004e-01 -2.63949990e-01  7.39900023e-02  2.62360007e-01\n",
            " -1.50800005e-01  3.46230000e-01  2.57580012e-01  1.19709998e-01\n",
            " -3.71350013e-02 -7.15930015e-02  4.38980013e-01 -4.07640003e-02\n",
            "  1.64250005e-02 -4.46399987e-01  1.71969995e-01  4.62459996e-02\n",
            "  5.86390011e-02  4.14990000e-02  5.39479971e-01  5.24950027e-01\n",
            "  1.13609999e-01 -4.83149998e-02 -3.63849998e-01  1.87040001e-01\n",
            "  9.27610025e-02 -1.11290000e-01 -4.20850009e-01  1.39919996e-01\n",
            " -3.93379986e-01 -6.79450035e-02  1.21880002e-01  1.67070001e-01\n",
            "  7.51689970e-02 -1.55290002e-02 -1.94989994e-01  1.96380004e-01\n",
            "  5.31940013e-02  2.51700014e-01 -3.48450005e-01 -1.06380001e-01\n",
            " -3.46920013e-01 -1.90239996e-01 -2.00399995e-01  1.21540003e-01\n",
            " -2.92079985e-01  2.33529992e-02 -1.16180003e-01 -3.57679993e-01\n",
            "  6.23040013e-02  3.58839989e-01  2.90600006e-02  7.30049983e-03\n",
            "  4.94820019e-03 -1.50480002e-01 -1.23130001e-01  1.93370000e-01\n",
            "  1.21730000e-01  4.45030004e-01  2.51470000e-01  1.07809998e-01\n",
            " -1.77159995e-01  3.86909992e-02  8.15299973e-02  1.46669999e-01\n",
            "  6.36660010e-02  6.13319986e-02 -7.55689964e-02 -3.77240002e-01\n",
            "  1.58500001e-02 -3.03420007e-01  2.83740014e-01 -4.20130007e-02\n",
            " -4.07150015e-02 -1.52689993e-01  7.49799982e-02  1.55770004e-01\n",
            "  1.04330003e-01  3.13930005e-01  1.93090007e-01  1.94289997e-01\n",
            "  1.51850000e-01 -1.01920001e-01 -1.87849998e-02  2.07910001e-01\n",
            "  1.33660004e-01  1.90380007e-01 -2.55580008e-01  3.03999990e-01\n",
            " -1.89599991e-02  2.01470003e-01 -4.21099991e-01 -7.51559995e-03\n",
            " -2.79769987e-01 -1.93140000e-01  4.62040007e-02  1.99709997e-01\n",
            " -3.02069992e-01  2.57349998e-01  6.81070030e-01 -1.94089994e-01\n",
            "  2.39840001e-01  2.24930003e-01  6.52239978e-01 -1.35609999e-01\n",
            " -1.73830003e-01 -4.82090004e-02 -1.18600003e-01  2.15879991e-03\n",
            " -1.95250008e-02  1.19479999e-01  1.93460003e-01 -4.08199996e-01\n",
            " -8.29659998e-02  1.66260004e-01 -1.06009997e-01  3.58610004e-01\n",
            "  1.69220001e-01  7.25900009e-02 -2.48030007e-01 -1.00240000e-01\n",
            " -5.24909973e-01 -1.77450001e-01 -3.66470009e-01  2.61799991e-01\n",
            " -1.20770000e-02  8.31900015e-02 -2.15279996e-01  4.10450011e-01\n",
            "  2.91359991e-01  3.08690012e-01  7.88640007e-02  3.22070003e-01\n",
            " -4.10230011e-02 -1.09700002e-01 -9.20410007e-02 -1.23389997e-01\n",
            " -1.64159998e-01  3.53819996e-01 -8.27739984e-02  3.31710011e-01\n",
            " -2.47380003e-01 -4.89280000e-02  1.57460004e-01  1.89879999e-01\n",
            " -2.66420003e-02  6.33149967e-02 -1.06729995e-02  3.40889990e-01\n",
            "  1.41059995e+00  1.34169996e-01  2.81910002e-01 -2.59400010e-01\n",
            "  5.52669987e-02 -5.24250008e-02 -2.57889986e-01  1.91270001e-02\n",
            " -2.20839996e-02  3.21130008e-01  6.88180029e-02  5.12070000e-01\n",
            "  1.64780006e-01 -2.01940000e-01  2.92320013e-01  9.85750034e-02\n",
            "  1.31449997e-02 -1.06519997e-01  1.35100007e-01 -4.53319997e-02\n",
            "  2.06970006e-01 -4.84250009e-01 -4.47059989e-01  3.33050010e-03\n",
            "  2.92639993e-03 -1.09750003e-01 -2.33250007e-01  2.24419996e-01\n",
            " -1.05030000e-01  1.23389997e-01  1.09779999e-01  4.89940010e-02\n",
            " -2.51569986e-01  4.03189987e-01  3.53179991e-01  1.86509997e-01\n",
            " -2.36220006e-02 -1.27340004e-01  1.14749998e-01  2.73589998e-01\n",
            " -2.18659997e-01  1.57939997e-02  8.17539990e-01 -2.37920005e-02\n",
            " -8.54690015e-01 -1.62029997e-01  1.80759996e-01  2.80140005e-02\n",
            " -1.43399999e-01  1.31389999e-03 -9.17349979e-02 -8.97039995e-02\n",
            "  1.11050002e-01 -1.67030007e-01  6.83770031e-02 -8.73880014e-02\n",
            " -3.97889987e-02  1.41840000e-02  2.11870000e-01  2.85789996e-01\n",
            " -2.87970006e-01 -5.89959994e-02 -3.24359983e-02 -4.70090006e-03\n",
            " -1.70519993e-01 -3.47409993e-02 -1.14890002e-01  7.50930011e-02\n",
            "  9.95260030e-02  4.81830016e-02 -7.37750009e-02 -4.18170005e-01\n",
            "  4.12680022e-03  4.44139987e-01 -1.60620004e-01  1.42940000e-01\n",
            " -2.26279998e+00 -2.73470003e-02  8.13109994e-01  7.74169981e-01\n",
            " -2.56390005e-01 -1.15759999e-01 -1.19819999e-01 -2.13630006e-01\n",
            "  2.84289997e-02  2.72610009e-01  3.10260002e-02  9.67819989e-02\n",
            "  6.77690003e-03  1.40819997e-01 -1.30639998e-02 -2.96860009e-01\n",
            " -7.99129978e-02  1.94999993e-01  3.15489992e-02  2.85059988e-01\n",
            " -8.74610022e-02  9.06109996e-03 -2.09889993e-01  5.39130010e-02]\n"
          ],
          "name": "stdout"
        }
      ]
    },
    {
      "cell_type": "code",
      "metadata": {
        "id": "yrRbCrzN1O1q"
      },
      "source": [
        "#create the model with CNN 5 filters are used and with a hidden layer and non trainable embedding layer\n",
        "def ConvNet(embeddings, max_sequence_length, num_words, embedding_dim, labels_index):\n",
        "  embedding_layer = Embedding(num_words, embedding_dim, weights=[embeddings],\n",
        "                              input_length=max_sequence_length, trainable=False)\n",
        "  sequence_input = Input(shape=(max_sequence_length,), dtype='int32')\n",
        "  embedded_sequences = embedding_layer(sequence_input)\n",
        "\n",
        "  convs = []\n",
        "  filter_sizes = [2,3,4,5,6]\n",
        "\n",
        "  for filter_size in filter_sizes:\n",
        "    l_conv = Conv1D(filters=200, kernel_size=filter_size, activation='relu')(embedded_sequences)\n",
        "    l_pool = GlobalMaxPooling1D()(l_conv)\n",
        "    convs.append(l_pool)\n",
        "  \n",
        "  l_merge = concatenate(convs, axis=1)\n",
        "  x = Dropout(0.1)(l_merge)\n",
        "  x = Dense(128, activation='relu')(x)\n",
        "  x = Dropout(0.2)(x)\n",
        "  preds = Dense(1, activation='sigmoid')(x)\n",
        "\n",
        "  model = Model(sequence_input, preds)\n",
        "  model.compile(loss='binary_crossentropy', optimizer='adam',\n",
        "                metrics=['mse'])\n",
        "  model.summary()\n",
        "  return model"
      ],
      "execution_count": 18,
      "outputs": []
    },
    {
      "cell_type": "code",
      "metadata": {
        "colab": {
          "base_uri": "https://localhost:8080/"
        },
        "id": "8LgjX7NwE2ci",
        "outputId": "cde79edb-7a1e-4901-f4e4-5218ae627875"
      },
      "source": [
        "label_names = ['1','0']\n",
        "model = ConvNet(embedding_matrix, 50, vocabulary_size, 300, len(list(label_names)))"
      ],
      "execution_count": 19,
      "outputs": [
        {
          "output_type": "stream",
          "text": [
            "Model: \"functional_1\"\n",
            "__________________________________________________________________________________________________\n",
            "Layer (type)                    Output Shape         Param #     Connected to                     \n",
            "==================================================================================================\n",
            "input_1 (InputLayer)            [(None, 50)]         0                                            \n",
            "__________________________________________________________________________________________________\n",
            "embedding (Embedding)           (None, 50, 300)      6000000     input_1[0][0]                    \n",
            "__________________________________________________________________________________________________\n",
            "conv1d (Conv1D)                 (None, 49, 200)      120200      embedding[0][0]                  \n",
            "__________________________________________________________________________________________________\n",
            "conv1d_1 (Conv1D)               (None, 48, 200)      180200      embedding[0][0]                  \n",
            "__________________________________________________________________________________________________\n",
            "conv1d_2 (Conv1D)               (None, 47, 200)      240200      embedding[0][0]                  \n",
            "__________________________________________________________________________________________________\n",
            "conv1d_3 (Conv1D)               (None, 46, 200)      300200      embedding[0][0]                  \n",
            "__________________________________________________________________________________________________\n",
            "conv1d_4 (Conv1D)               (None, 45, 200)      360200      embedding[0][0]                  \n",
            "__________________________________________________________________________________________________\n",
            "global_max_pooling1d (GlobalMax (None, 200)          0           conv1d[0][0]                     \n",
            "__________________________________________________________________________________________________\n",
            "global_max_pooling1d_1 (GlobalM (None, 200)          0           conv1d_1[0][0]                   \n",
            "__________________________________________________________________________________________________\n",
            "global_max_pooling1d_2 (GlobalM (None, 200)          0           conv1d_2[0][0]                   \n",
            "__________________________________________________________________________________________________\n",
            "global_max_pooling1d_3 (GlobalM (None, 200)          0           conv1d_3[0][0]                   \n",
            "__________________________________________________________________________________________________\n",
            "global_max_pooling1d_4 (GlobalM (None, 200)          0           conv1d_4[0][0]                   \n",
            "__________________________________________________________________________________________________\n",
            "concatenate (Concatenate)       (None, 1000)         0           global_max_pooling1d[0][0]       \n",
            "                                                                 global_max_pooling1d_1[0][0]     \n",
            "                                                                 global_max_pooling1d_2[0][0]     \n",
            "                                                                 global_max_pooling1d_3[0][0]     \n",
            "                                                                 global_max_pooling1d_4[0][0]     \n",
            "__________________________________________________________________________________________________\n",
            "dropout (Dropout)               (None, 1000)         0           concatenate[0][0]                \n",
            "__________________________________________________________________________________________________\n",
            "dense (Dense)                   (None, 128)          128128      dropout[0][0]                    \n",
            "__________________________________________________________________________________________________\n",
            "dropout_1 (Dropout)             (None, 128)          0           dense[0][0]                      \n",
            "__________________________________________________________________________________________________\n",
            "dense_1 (Dense)                 (None, 1)            129         dropout_1[0][0]                  \n",
            "==================================================================================================\n",
            "Total params: 7,329,257\n",
            "Trainable params: 1,329,257\n",
            "Non-trainable params: 6,000,000\n",
            "__________________________________________________________________________________________________\n"
          ],
          "name": "stdout"
        }
      ]
    },
    {
      "cell_type": "code",
      "metadata": {
        "colab": {
          "base_uri": "https://localhost:8080/"
        },
        "id": "O5ShIEr-GaBt",
        "outputId": "79502ce2-8c73-4892-e249-56b9f11a6937"
      },
      "source": [
        "history = model.fit(data, np.array(labels), validation_split=0.4, epochs = 3)"
      ],
      "execution_count": 20,
      "outputs": [
        {
          "output_type": "stream",
          "text": [
            "Epoch 1/3\n",
            "WARNING:tensorflow:Model was constructed with shape (None, 50) for input Tensor(\"input_1:0\", shape=(None, 50), dtype=int32), but it was called on an input with incompatible shape (None, 5276).\n",
            "WARNING:tensorflow:Model was constructed with shape (None, 50) for input Tensor(\"input_1:0\", shape=(None, 50), dtype=int32), but it was called on an input with incompatible shape (None, 5276).\n",
            "57/57 [==============================] - ETA: 0s - loss: 0.5435 - mse: 0.1687WARNING:tensorflow:Model was constructed with shape (None, 50) for input Tensor(\"input_1:0\", shape=(None, 50), dtype=int32), but it was called on an input with incompatible shape (None, 5276).\n",
            "57/57 [==============================] - 21s 366ms/step - loss: 0.5435 - mse: 0.1687 - val_loss: 0.5433 - val_mse: 0.1843\n",
            "Epoch 2/3\n",
            "57/57 [==============================] - 20s 360ms/step - loss: 0.3729 - mse: 0.1167 - val_loss: 0.4796 - val_mse: 0.1591\n",
            "Epoch 3/3\n",
            "57/57 [==============================] - 21s 363ms/step - loss: 0.1807 - mse: 0.0491 - val_loss: 0.4792 - val_mse: 0.1524\n"
          ],
          "name": "stdout"
        }
      ]
    },
    {
      "cell_type": "code",
      "metadata": {
        "id": "XIQpE64HKQt7"
      },
      "source": [
        "sentence = \"Worst\"\n",
        "clean_reviewData = []\n",
        "clean_reviewData.append( \" \".join(data_clean(sentence)))"
      ],
      "execution_count": 42,
      "outputs": []
    },
    {
      "cell_type": "code",
      "metadata": {
        "colab": {
          "base_uri": "https://localhost:8080/"
        },
        "id": "J3LxIZd0PBLD",
        "outputId": "4ec9a0f3-9b34-4c45-dfd5-a0cea58c6270"
      },
      "source": [
        "print(clean_reviewData)"
      ],
      "execution_count": 43,
      "outputs": [
        {
          "output_type": "stream",
          "text": [
            "['w o r s t']\n"
          ],
          "name": "stdout"
        }
      ]
    },
    {
      "cell_type": "code",
      "metadata": {
        "colab": {
          "base_uri": "https://localhost:8080/"
        },
        "id": "Ttedvyq-PDJN",
        "outputId": "b6ee8dc9-cec4-4494-9366-b0b151286320"
      },
      "source": [
        "vocabulary_size = 20000\n",
        "tokenizer = Tokenizer(num_words= vocabulary_size)\n",
        "tokenizer.fit_on_texts(clean_reviewData)\n",
        "sequences = tokenizer.texts_to_sequences(clean_reviewData)\n",
        "final_string = pad_sequences(sequences, maxlen=MAX_LEN)\n",
        "print(final_string.shape)"
      ],
      "execution_count": 44,
      "outputs": [
        {
          "output_type": "stream",
          "text": [
            "(1, 5276)\n"
          ],
          "name": "stdout"
        }
      ]
    },
    {
      "cell_type": "code",
      "metadata": {
        "colab": {
          "base_uri": "https://localhost:8080/"
        },
        "id": "-8QnC0fqPG18",
        "outputId": "03c5316a-55c8-4a67-82b9-6f65092422c8"
      },
      "source": [
        "print(final_string)\n",
        "what= ''\n",
        "if (round(float(model.predict(final_string)))==1):\n",
        "    what= 'Positive'\n",
        "    acc= round(float(model.predict(final_string))*100,2)\n",
        "else:\n",
        "    what='Negative'\n",
        "    acc= 100- round(float(model.predict(final_string))*100,2)\n",
        "print(what,'review with',acc,'% Accuracy')"
      ],
      "execution_count": 45,
      "outputs": [
        {
          "output_type": "stream",
          "text": [
            "[[0 0 0 ... 3 4 5]]\n",
            "Positive review with 77.24 % Accuracy\n"
          ],
          "name": "stdout"
        }
      ]
    },
    {
      "cell_type": "code",
      "metadata": {
        "id": "crwaBB5FPgDp"
      },
      "source": [
        ""
      ],
      "execution_count": null,
      "outputs": []
    }
  ]
}