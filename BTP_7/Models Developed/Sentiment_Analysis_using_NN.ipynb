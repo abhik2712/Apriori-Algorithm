{
  "nbformat": 4,
  "nbformat_minor": 0,
  "metadata": {
    "colab": {
      "name": "Sentiment Analysis using NN.ipynb",
      "provenance": []
    },
    "kernelspec": {
      "name": "python3",
      "display_name": "Python 3"
    }
  },
  "cells": [
    {
      "cell_type": "code",
      "metadata": {
        "id": "gw484-uUEEzc",
        "outputId": "4894926a-edb4-49b5-c487-ee9795226c1e",
        "colab": {
          "base_uri": "https://localhost:8080/"
        }
      },
      "source": [
        "import nltk\n",
        "\n",
        "nltk.download('stopwords')\n",
        "nltk.download('vader_lexicon')"
      ],
      "execution_count": 55,
      "outputs": [
        {
          "output_type": "stream",
          "text": [
            "[nltk_data] Downloading package stopwords to /root/nltk_data...\n",
            "[nltk_data]   Package stopwords is already up-to-date!\n",
            "[nltk_data] Downloading package vader_lexicon to /root/nltk_data...\n",
            "[nltk_data]   Package vader_lexicon is already up-to-date!\n"
          ],
          "name": "stdout"
        },
        {
          "output_type": "execute_result",
          "data": {
            "text/plain": [
              "True"
            ]
          },
          "metadata": {
            "tags": []
          },
          "execution_count": 55
        }
      ]
    },
    {
      "cell_type": "code",
      "metadata": {
        "id": "6MfjxfMxlgBY"
      },
      "source": [
        "import tensorflow as tf\n",
        "\n",
        "keras = tf.keras"
      ],
      "execution_count": 56,
      "outputs": []
    },
    {
      "cell_type": "code",
      "metadata": {
        "id": "mnfG5Zz7DqmT"
      },
      "source": [
        "%matplotlib inline\n",
        "import re\n",
        "import seaborn as sbn\n",
        "import nltk\n",
        "import tqdm as tqdm\n",
        "import sqlite3\n",
        "import pandas as pd\n",
        "import numpy as np\n",
        "\n",
        "import string\n",
        "from nltk.corpus import stopwords\n",
        "stop = stopwords.words(\"english\")\n",
        "import matplotlib.pyplot as plt\n",
        "\n",
        "from sklearn.metrics import accuracy_score\n",
        "from sklearn.metrics import confusion_matrix\n",
        "from math import floor,ceil\n",
        "from nltk.stem.porter import PorterStemmer\n",
        "english_stemmer=nltk.stem.SnowballStemmer('english')\n",
        "\n",
        "from sklearn.feature_extraction.text import TfidfTransformer\n",
        "from sklearn.feature_extraction.text import CountVectorizer\n",
        "from sklearn.model_selection import train_test_split\n",
        "from sklearn.metrics import confusion_matrix\n",
        "from sklearn import metrics\n",
        "from sklearn.metrics import roc_curve, auc\n",
        "\n",
        "from sklearn.svm import LinearSVC\n",
        "\n",
        "from keras.models import Sequential\n",
        "from keras.layers import LSTM, Dense, Embedding\n",
        "\n",
        "\n",
        "from gensim import summarization\n",
        "from nltk.tokenize import word_tokenize\n",
        "from sklearn.feature_extraction.text import TfidfVectorizer\n",
        "from sklearn.model_selection import train_test_split"
      ],
      "execution_count": 57,
      "outputs": []
    },
    {
      "cell_type": "code",
      "metadata": {
        "id": "5nE84tUxEAZI"
      },
      "source": [
        "df = pd.read_csv('Reviews1.csv')"
      ],
      "execution_count": 58,
      "outputs": []
    },
    {
      "cell_type": "code",
      "metadata": {
        "id": "cFeDYmOWEy_X",
        "outputId": "82b3e5b1-18ed-4572-e5da-77f74689c00f",
        "colab": {
          "base_uri": "https://localhost:8080/"
        }
      },
      "source": [
        "df.columns"
      ],
      "execution_count": 59,
      "outputs": [
        {
          "output_type": "execute_result",
          "data": {
            "text/plain": [
              "Index(['Id', 'ProductId', 'UserId', 'ProfileName', 'HelpfulnessNumerator',\n",
              "       'HelpfulnessDenominator', 'Score', 'Time', 'Summary', 'Text'],\n",
              "      dtype='object')"
            ]
          },
          "metadata": {
            "tags": []
          },
          "execution_count": 59
        }
      ]
    },
    {
      "cell_type": "code",
      "metadata": {
        "id": "lf9X4M_IE0vP"
      },
      "source": [
        "review_data = df[['UserId', 'ProductId', 'Score','Summary','Text']]"
      ],
      "execution_count": 60,
      "outputs": []
    },
    {
      "cell_type": "code",
      "metadata": {
        "id": "tEQK_A9aFA7W",
        "outputId": "7b37c4f7-6f6c-4dce-8b8e-c69ecbc74a1d",
        "colab": {
          "base_uri": "https://localhost:8080/",
          "height": 204
        }
      },
      "source": [
        "review_data.head()"
      ],
      "execution_count": 61,
      "outputs": [
        {
          "output_type": "execute_result",
          "data": {
            "text/html": [
              "<div>\n",
              "<style scoped>\n",
              "    .dataframe tbody tr th:only-of-type {\n",
              "        vertical-align: middle;\n",
              "    }\n",
              "\n",
              "    .dataframe tbody tr th {\n",
              "        vertical-align: top;\n",
              "    }\n",
              "\n",
              "    .dataframe thead th {\n",
              "        text-align: right;\n",
              "    }\n",
              "</style>\n",
              "<table border=\"1\" class=\"dataframe\">\n",
              "  <thead>\n",
              "    <tr style=\"text-align: right;\">\n",
              "      <th></th>\n",
              "      <th>UserId</th>\n",
              "      <th>ProductId</th>\n",
              "      <th>Score</th>\n",
              "      <th>Summary</th>\n",
              "      <th>Text</th>\n",
              "    </tr>\n",
              "  </thead>\n",
              "  <tbody>\n",
              "    <tr>\n",
              "      <th>0</th>\n",
              "      <td>A3SGXH7AUHU8GW</td>\n",
              "      <td>B001E4KFG0</td>\n",
              "      <td>5</td>\n",
              "      <td>Good Quality Dog Food</td>\n",
              "      <td>I have bought several of the Vitality canned d...</td>\n",
              "    </tr>\n",
              "    <tr>\n",
              "      <th>1</th>\n",
              "      <td>A1D87F6ZCVE5NK</td>\n",
              "      <td>B00813GRG4</td>\n",
              "      <td>1</td>\n",
              "      <td>Not as Advertised</td>\n",
              "      <td>Product arrived labeled as Jumbo Salted Peanut...</td>\n",
              "    </tr>\n",
              "    <tr>\n",
              "      <th>2</th>\n",
              "      <td>ABXLMWJIXXAIN</td>\n",
              "      <td>B000LQOCH0</td>\n",
              "      <td>4</td>\n",
              "      <td>\"Delight\" says it all</td>\n",
              "      <td>This is a confection that has been around a fe...</td>\n",
              "    </tr>\n",
              "    <tr>\n",
              "      <th>3</th>\n",
              "      <td>A395BORC6FGVXV</td>\n",
              "      <td>B000UA0QIQ</td>\n",
              "      <td>2</td>\n",
              "      <td>Cough Medicine</td>\n",
              "      <td>If you are looking for the secret ingredient i...</td>\n",
              "    </tr>\n",
              "    <tr>\n",
              "      <th>4</th>\n",
              "      <td>A1UQRSCLF8GW1T</td>\n",
              "      <td>B006K2ZZ7K</td>\n",
              "      <td>5</td>\n",
              "      <td>Great taffy</td>\n",
              "      <td>Great taffy at a great price.  There was a wid...</td>\n",
              "    </tr>\n",
              "  </tbody>\n",
              "</table>\n",
              "</div>"
            ],
            "text/plain": [
              "           UserId  ...                                               Text\n",
              "0  A3SGXH7AUHU8GW  ...  I have bought several of the Vitality canned d...\n",
              "1  A1D87F6ZCVE5NK  ...  Product arrived labeled as Jumbo Salted Peanut...\n",
              "2   ABXLMWJIXXAIN  ...  This is a confection that has been around a fe...\n",
              "3  A395BORC6FGVXV  ...  If you are looking for the secret ingredient i...\n",
              "4  A1UQRSCLF8GW1T  ...  Great taffy at a great price.  There was a wid...\n",
              "\n",
              "[5 rows x 5 columns]"
            ]
          },
          "metadata": {
            "tags": []
          },
          "execution_count": 61
        }
      ]
    },
    {
      "cell_type": "code",
      "metadata": {
        "id": "2YxF7Xj1FClG",
        "outputId": "c4dc386b-ee2d-4d32-8522-c6eecd79e294",
        "colab": {
          "base_uri": "https://localhost:8080/",
          "height": 350
        }
      },
      "source": [
        "sbn.countplot(review_data['Score'])"
      ],
      "execution_count": 62,
      "outputs": [
        {
          "output_type": "stream",
          "text": [
            "/usr/local/lib/python3.6/dist-packages/seaborn/_decorators.py:43: FutureWarning: Pass the following variable as a keyword arg: x. From version 0.12, the only valid positional argument will be `data`, and passing other arguments without an explicit keyword will result in an error or misinterpretation.\n",
            "  FutureWarning\n"
          ],
          "name": "stderr"
        },
        {
          "output_type": "execute_result",
          "data": {
            "text/plain": [
              "<matplotlib.axes._subplots.AxesSubplot at 0x7fa60b837940>"
            ]
          },
          "metadata": {
            "tags": []
          },
          "execution_count": 62
        },
        {
          "output_type": "display_data",
          "data": {
            "image/png": "[encoded data removed]",
            "text/plain": [
              "<Figure size 432x288 with 1 Axes>"
            ]
          },
          "metadata": {
            "tags": [],
            "needs_background": "light"
          }
        }
      ]
    },
    {
      "cell_type": "code",
      "metadata": {
        "id": "BCS-P0NhFLf1"
      },
      "source": [
        "def data_clean( rev, remove_stopwords=True): \n",
        "\n",
        "    new_text = re.sub(\"[^a-zA-Z]\",\" \", rev) #replace regex apart from english alphabets with ' '\n",
        "    words = new_text.lower().split()\n",
        "    if remove_stopwords:\n",
        "        sts = set(stopwords.words(\"english\"))\n",
        "        words = [w for w in words if not w in sts]\n",
        "    ary=[]\n",
        "    eng_stemmer = english_stemmer \n",
        "    for word in words:\n",
        "        ary.append(eng_stemmer.stem(word))  #stem the words to retain the root/base word\n",
        "    return(ary)"
      ],
      "execution_count": 63,
      "outputs": []
    },
    {
      "cell_type": "code",
      "metadata": {
        "id": "Pyg5H-zEGGVe"
      },
      "source": [
        "clean_reviewData = []\n",
        "for rev in review_data['Text']:\n",
        "    clean_reviewData.append( \" \".join(data_clean(rev)))\n",
        "\n",
        "clean_summaryData = []\n",
        "for rev in review_data['Summary']:\n",
        "    clean_summaryData.append( \" \".join(data_clean(rev)))"
      ],
      "execution_count": 64,
      "outputs": []
    },
    {
      "cell_type": "code",
      "metadata": {
        "id": "oZfPvd-SGKoF",
        "outputId": "3608f2bd-d467-4065-a8ac-d58368a74de5",
        "colab": {
          "base_uri": "https://localhost:8080/"
        }
      },
      "source": [
        "Most_used_Words_Review =pd.Series(' '.join(clean_reviewData).lower().split()).value_counts()[:20]\n",
        "print (Most_used_Words_Review)"
      ],
      "execution_count": 65,
      "outputs": [
        {
          "output_type": "stream",
          "text": [
            "br         3364\n",
            "like       1437\n",
            "flavor     1369\n",
            "tast       1254\n",
            "chip       1216\n",
            "good       1084\n",
            "product     993\n",
            "love        960\n",
            "one         930\n",
            "great       906\n",
            "tri         847\n",
            "use         821\n",
            "tea         752\n",
            "bag         745\n",
            "food        716\n",
            "make        616\n",
            "get         606\n",
            "eat         553\n",
            "order       538\n",
            "realli      531\n",
            "dtype: int64\n"
          ],
          "name": "stdout"
        }
      ]
    },
    {
      "cell_type": "code",
      "metadata": {
        "id": "QevCiYLFGPq1",
        "outputId": "0fa68e35-d18e-474f-d6a6-e4742a46eace",
        "colab": {
          "base_uri": "https://localhost:8080/"
        }
      },
      "source": [
        "Most_used_Words_Summary = pd.Series(' '.join(clean_summaryData).lower().split()).value_counts()[:20]\n",
        "print (Most_used_Words_Summary)"
      ],
      "execution_count": 66,
      "outputs": [
        {
          "output_type": "stream",
          "text": [
            "great      402\n",
            "good       256\n",
            "best       214\n",
            "chip       196\n",
            "tast       194\n",
            "love       187\n",
            "delici     112\n",
            "tea        108\n",
            "product    101\n",
            "flavor     100\n",
            "food        74\n",
            "ever        71\n",
            "excel       70\n",
            "yummi       69\n",
            "coffe       69\n",
            "tasti       67\n",
            "dog         66\n",
            "favorit     56\n",
            "like        56\n",
            "price       53\n",
            "dtype: int64\n"
          ],
          "name": "stdout"
        }
      ]
    },
    {
      "cell_type": "code",
      "metadata": {
        "id": "xx7_KPNTG7I1",
        "outputId": "c49cbf12-8204-447a-b2e5-9a45df83534b",
        "colab": {
          "base_uri": "https://localhost:8080/"
        }
      },
      "source": [
        "from sklearn.feature_extraction.text import TfidfVectorizer\n",
        "#min_df is the threshold above which words are to be considered\n",
        "#max_features is used to build vocabulary with top max_features\n",
        "text_vectorizer = TfidfVectorizer(min_df=4, max_features = 1000)\n",
        "test_vecor = text_vectorizer.fit_transform(clean_reviewData)\n",
        "print(test_vecor)\n",
        "tfidf_vector = dict(zip(text_vectorizer.get_feature_names(), text_vectorizer.idf_))\n",
        "print(tfidf_vector)"
      ],
      "execution_count": 67,
      "outputs": [
        {
          "output_type": "stream",
          "text": [
            "  (0, 85)\t0.361576128474339\n",
            "  (0, 810)\t0.27521879635556235\n",
            "  (0, 539)\t0.2993208704802744\n",
            "  (0, 696)\t0.3092523287912508\n",
            "  (0, 496)\t0.1212111739042072\n",
            "  (0, 510)\t0.19512217146659916\n",
            "  (0, 707)\t0.2228708848948376\n",
            "  (0, 382)\t0.13208228028440147\n",
            "  (0, 351)\t0.20232438574563788\n",
            "  (0, 698)\t0.4354638186636946\n",
            "  (0, 346)\t0.17665816632279474\n",
            "  (0, 265)\t0.23136418417619917\n",
            "  (0, 132)\t0.2589439218495502\n",
            "  (0, 784)\t0.25460432854668835\n",
            "  (0, 103)\t0.20304840272237437\n",
            "  (1, 944)\t0.36631043444292416\n",
            "  (1, 870)\t0.23813366806308553\n",
            "  (1, 804)\t0.233975328661809\n",
            "  (1, 808)\t0.23774347884298752\n",
            "  (1, 3)\t0.24345197087878556\n",
            "  (1, 645)\t0.5924607634116343\n",
            "  (1, 751)\t0.21530165178533953\n",
            "  (1, 476)\t0.2884913957800785\n",
            "  (1, 45)\t0.2568168935778304\n",
            "  (1, 698)\t0.303359495918006\n",
            "  :\t:\n",
            "  (2998, 364)\t0.21946194969006805\n",
            "  (2998, 525)\t0.22106450857406004\n",
            "  (2998, 121)\t0.22825858848264252\n",
            "  (2998, 113)\t0.20419438394679024\n",
            "  (2998, 206)\t0.5129055133671485\n",
            "  (2998, 228)\t0.19750389689730502\n",
            "  (2998, 892)\t0.21233614622857802\n",
            "  (2998, 662)\t0.16497901082450264\n",
            "  (2998, 788)\t0.1405779199806577\n",
            "  (2998, 23)\t0.19034790950613886\n",
            "  (2998, 641)\t0.2263271676807265\n",
            "  (2998, 316)\t0.15823704810021375\n",
            "  (2998, 358)\t0.16079087068019662\n",
            "  (2998, 313)\t0.17140382086772096\n",
            "  (2998, 848)\t0.14019368756244116\n",
            "  (2998, 904)\t0.11106494722206732\n",
            "  (2998, 377)\t0.122162942393727\n",
            "  (2998, 782)\t0.19496443254447599\n",
            "  (2998, 526)\t0.10557675446668338\n",
            "  (2998, 474)\t0.13725331039703248\n",
            "  (2998, 242)\t0.15278698643695388\n",
            "  (2998, 614)\t0.2268609943170827\n",
            "  (2998, 870)\t0.14971144508122486\n",
            "  (2998, 45)\t0.16145733852561536\n",
            "  (2998, 698)\t0.09535902437148253\n",
            "{'abl': 4.715908126501855, 'absolut': 4.506557897319982, 'acid': 5.54063166485052, 'actual': 4.064725145040942, 'ad': 4.131170244449095, 'add': 3.8023608805734512, 'addict': 4.945924557103828, 'addit': 4.847484484290575, 'adult': 5.639071737663773, 'advertis': 5.605170185988092, 'afford': 5.870873351721097, 'afternoon': 6.061928588483807, 'aftertast': 5.368781407923861, 'agav': 6.173154223594031, 'age': 5.961845129926823, 'ago': 4.649658740960655, 'agre': 5.605170185988092, 'air': 5.639071737663773, 'allerg': 6.115995809754082, 'allergi': 5.674163057475043, 'allow': 5.5723803631651005, 'almond': 5.509860006183766, 'almost': 4.287868696355153, 'along': 5.05512384906882, 'alreadi': 5.509860006183766, 'also': 3.1258345812495465, 'altern': 4.495508061133396, 'although': 4.879233182605155, 'alway': 4.009155293886131, 'amaz': 4.662562145796563, 'amazon': 3.004952689689097, 'american': 6.115995809754082, 'amount': 4.252777376543882, 'anim': 6.061928588483807, 'anoth': 4.484578990601206, 'anymor': 5.5723803631651005, 'anyon': 4.928830123744527, 'anyth': 4.381394754365976, 'anyway': 5.509860006183766, 'anywher': 5.915325114291931, 'appear': 5.870873351721097, 'appl': 5.222177933731985, 'area': 5.787491742782046, 'aroma': 5.870873351721097, 'around': 4.411247717515657, 'arriv': 4.287868696355153, 'artifici': 5.199705077879927, 'asian': 6.061928588483807, 'ask': 5.292795500945939, 'ate': 5.177726171161152, 'avail': 4.5996483203859935, 'averag': 5.915325114291931, 'avoid': 5.787491742782046, 'aw': 5.710530701645918, 'awar': 6.521460917862246, 'away': 4.261435439286997, 'awesom': 4.999034382417776, 'babi': 4.611918412977808, 'back': 4.101092789211817, 'bacon': 6.367310238034988, 'bad': 3.962942450731, 'bag': 2.8882703696088985, 'bake': 4.352407217492724, 'balanc': 5.05512384906882, 'banana': 5.8283137373023015, 'bar': 5.156219965940188, 'barbecu': 6.061928588483807, 'barbequ': 6.0106352940962555, 'base': 5.017383521085972, 'basic': 5.480007043034085, 'basil': 6.298317366548036, 'basket': 6.367310238034988, 'batch': 5.961845129926823, 'bbq': 4.9633162998156966, 'bean': 4.8954937034769355, 'beat': 5.268697949366879, 'beauti': 5.870873351721097, 'becam': 5.915325114291931, 'becom': 5.31748811353631, 'beef': 6.0106352940962555, 'beer': 5.961845129926823, 'believ': 4.702302474446077, 'benefit': 5.639071737663773, 'berri': 6.061928588483807, 'best': 3.0874737133771, 'better': 3.1541650878757723, 'beverag': 5.870873351721097, 'big': 4.19418321227783, 'bigger': 5.8283137373023015, 'birthday': 6.061928588483807, 'biscotti': 6.521460917862246, 'bit': 3.7130627429257546, 'bite': 5.135166556742356, 'bitter': 4.611918412977808, 'black': 4.743687690608931, 'bland': 5.451019506160833, 'blend': 4.662562145796563, 'blood': 6.061928588483807, 'blueberri': 5.674163057475043, 'bodi': 5.135166556742356, 'bold': 5.509860006183766, 'bottl': 4.5996483203859935, 'bottom': 5.074541934925921, 'bought': 3.5425357626246368, 'bowl': 5.245167451956684, 'box': 3.559630195983937, 'br': 2.4092218657635955, 'brand': 3.441847160327553, 'bread': 6.0106352940962555, 'break': 5.710530701645918, 'breakfast': 5.05512384906882, 'brew': 5.11454726953962, 'bring': 5.480007043034085, 'broken': 5.422848629194137, 'brought': 5.787491742782046, 'brown': 4.928830123744527, 'bubbl': 6.061928588483807, 'bulk': 5.480007043034085, 'bunch': 5.915325114291931, 'burn': 5.710530701645918, 'burnt': 6.061928588483807, 'busi': 6.061928588483807, 'butter': 4.863232841258714, 'buy': 2.8664830154239915, 'cacao': 6.809142990314028, 'caffein': 5.961845129926823, 'cake': 4.945924557103828, 'cakest': 7.214608098422191, 'calcium': 6.061928588483807, 'call': 4.772261063052987, 'calori': 3.743677378745361, 'came': 4.270169119255751, 'can': 4.517731197918107, 'candi': 4.879233182605155, 'cane': 6.0106352940962555, 'cannot': 5.292795500945939, 'car': 5.915325114291931, 'caramel': 5.870873351721097, 'carb': 5.870873351721097, 'care': 4.7297014486341915, 'caribou': 5.8283137373023015, 'carri': 4.772261063052987, 'carrot': 5.639071737663773, 'case': 4.116018439428493, 'cat': 5.074541934925921, 'caus': 5.54063166485052, 'cereal': 5.222177933731985, 'certain': 5.0943445622221, 'certifi': 5.54063166485052, 'chanc': 5.748271029628765, 'chang': 4.8954937034769355, 'charg': 5.748271029628765, 'cheap': 5.31748811353631, 'cheaper': 4.611918412977808, 'check': 5.54063166485052, 'cheddar': 5.11454726953962, 'chees': 4.928830123744527, 'chemic': 5.395449655006022, 'cherri': 5.54063166485052, 'chew': 5.451019506160833, 'chewi': 6.115995809754082, 'chicken': 4.847484484290575, 'children': 6.115995809754082, 'china': 6.115995809754082, 'chip': 2.7372712839439854, 'chocol': 4.18608600204521, 'choic': 4.715908126501855, 'cholesterol': 6.0106352940962555, 'choos': 6.0106352940962555, 'chowder': 5.605170185988092, 'christma': 5.422848629194137, 'cinnamon': 5.395449655006022, 'claim': 6.0106352940962555, 'clam': 5.710530701645918, 'classic': 5.870873351721097, 'clean': 5.0943445622221, 'clear': 5.0943445622221, 'close': 5.3428059215206005, 'coat': 5.292795500945939, 'coco': 5.961845129926823, 'cocoa': 6.233778845410465, 'coconut': 4.506557897319982, 'coffe': 3.617295837833746, 'cold': 5.0943445622221, 'color': 4.552020271396739, 'com': 4.506557897319982, 'combin': 5.368781407923861, 'come': 3.7385094085869186, 'common': 5.961845129926823, 'compani': 4.506557897319982, 'compar': 4.945924557103828, 'complain': 5.8283137373023015, 'complaint': 5.509860006183766, 'complet': 5.3428059215206005, 'concentr': 6.0106352940962555, 'concern': 5.674163057475043, 'condit': 5.639071737663773, 'consid': 5.036075654098125, 'consist': 4.928830123744527, 'consum': 5.245167451956684, 'contain': 4.178053830347945, 'content': 5.292795500945939, 'continu': 5.3428059215206005, 'control': 5.395449655006022, 'conveni': 4.863232841258714, 'cook': 4.131170244449095, 'cooki': 4.540459448995663, 'corn': 4.772261063052987, 'cost': 4.78685986247414, 'could': 3.6736487743848776, 'count': 5.3428059215206005, 'countri': 5.674163057475043, 'coupl': 4.801674948259281, 'cours': 5.156219965940188, 'cover': 5.710530701645918, 'cracker': 5.222177933731985, 'crave': 5.177726171161152, 'crazi': 5.54063166485052, 'cream': 4.401197381662156, 'creamer': 6.44141821018871, 'creami': 6.0106352940962555, 'creat': 6.0106352940962555, 'crisp': 4.912023005428146, 'crispi': 5.31748811353631, 'crumbl': 6.173154223594031, 'crunch': 4.7297014486341915, 'crunchi': 4.463072785380243, 'cup': 3.9374633654300153, 'custom': 5.245167451956684, 'cut': 4.7578723256008875, 'cute': 5.915325114291931, 'daili': 5.54063166485052, 'damag': 6.061928588483807, 'dark': 4.912023005428146, 'date': 5.268697949366879, 'daughter': 4.816712825623821, 'day': 3.6036901857779675, 'deal': 4.391247050808987, 'decaf': 6.0106352940962555, 'decent': 5.54063166485052, 'decid': 4.636919715183225, 'deep': 6.0106352940962555, 'definit': 4.057607677272078, 'delici': 3.594721515795207, 'delight': 5.480007043034085, 'deliv': 5.135166556742356, 'deliveri': 5.177726171161152, 'dent': 6.115995809754082, 'describ': 5.8283137373023015, 'descript': 5.639071737663773, 'design': 6.115995809754082, 'dessert': 5.787491742782046, 'diet': 4.381394754365976, 'differ': 3.786011742571922, 'difficult': 5.3428059215206005, 'digest': 5.5723803631651005, 'dijon': 6.233778845410465, 'dinner': 5.135166556742356, 'dip': 5.292795500945939, 'direct': 5.509860006183766, 'disappoint': 4.19418321227783, 'discount': 6.115995809754082, 'discov': 5.199705077879927, 'dish': 5.222177933731985, 'dissolv': 5.915325114291931, 'dog': 4.036554268074246, 'dollar': 5.748271029628765, 'done': 5.31748811353631, 'donut': 6.521460917862246, 'door': 5.870873351721097, 'doubl': 5.961845129926823, 'dress': 5.748271029628765, 'dri': 4.529030753172041, 'drink': 3.559630195983937, 'drop': 5.961845129926823, 'due': 5.395449655006022, 'earth': 5.8283137373023015, 'easi': 3.9126173668434845, 'easier': 5.5723803631651005, 'easili': 4.999034382417776, 'eat': 2.9926524116074447, 'eaten': 5.177726171161152, 'eater': 5.787491742782046, 'edibl': 6.0106352940962555, 'effect': 5.480007043034085, 'egg': 5.05512384906882, 'either': 4.801674948259281, 'electrolyt': 5.961845129926823, 'els': 4.801674948259281, 'end': 4.816712825623821, 'energi': 5.135166556742356, 'enjoy': 3.599195796190128, 'enough': 3.9374633654300153, 'entir': 5.222177933731985, 'equal': 5.8283137373023015, 'especi': 4.529030753172041, 'etc': 4.912023005428146, 'even': 3.2506253540633345, 'ever': 3.7806208939370456, 'everi': 3.8588730908367936, 'everyon': 4.662562145796563, 'everyth': 4.7578723256008875, 'exact': 5.135166556742356, 'excel': 4.19418321227783, 'except': 5.395449655006022, 'excit': 5.422848629194137, 'expect': 4.270169119255751, 'expens': 4.421400088979675, 'experi': 5.05512384906882, 'expir': 5.961845129926823, 'extra': 4.83198029775461, 'extract': 5.748271029628765, 'extrem': 5.31748811353631, 'fact': 4.552020271396739, 'fair': 5.135166556742356, 'fall': 5.639071737663773, 'famili': 4.20234652291699, 'fan': 4.7578723256008875, 'fantast': 5.222177933731985, 'far': 4.2105770220535055, 'farm': 5.54063166485052, 'fast': 4.816712825623821, 'fat': 4.029633825229672, 'favor': 5.605170185988092, 'favorit': 3.441847160327553, 'feed': 4.8954937034769355, 'feel': 4.333538733188341, 'felt': 5.8283137373023015, 'fiber': 5.422848629194137, 'figur': 5.54063166485052, 'fill': 4.5996483203859935, 'final': 5.222177933731985, 'find': 3.0661963149298153, 'fine': 4.879233182605155, 'finish': 5.245167451956684, 'first': 3.445685936634719, 'fish': 5.605170185988092, 'fit': 5.674163057475043, 'five': 5.480007043034085, 'flavor': 2.229860575278064, 'flavour': 6.703782474656201, 'flaxse': 6.298317366548036, 'flour': 5.480007043034085, 'flower': 6.44141821018871, 'fluffi': 5.748271029628765, 'follow': 5.11454726953962, 'food': 3.082111770235715, 'forget': 6.0106352940962555, 'form': 5.451019506160833, 'formula': 5.451019506160833, 'forward': 5.710530701645918, 'found': 3.5299040157187362, 'four': 5.422848629194137, 'free': 3.8764688527271733, 'french': 5.480007043034085, 'fresh': 3.888373755233492, 'fri': 5.222177933731985, 'fridg': 5.8283137373023015, 'friend': 4.270169119255751, 'frost': 6.173154223594031, 'frozen': 5.961845129926823, 'fruit': 4.7578723256008875, 'full': 4.287868696355153, 'fun': 5.480007043034085, 'futur': 5.8283137373023015, 'garlic': 5.292795500945939, 'gas': 6.233778845410465, 'gave': 4.7297014486341915, 'general': 5.54063166485052, 'get': 2.805858393607557, 'gift': 4.772261063052987, 'ginger': 5.3428059215206005, 'give': 3.563949857128453, 'given': 5.245167451956684, 'glad': 4.912023005428146, 'glass': 5.480007043034085, 'gluten': 5.05512384906882, 'go': 3.24431618487007, 'goe': 5.074541934925921, 'gold': 5.870873351721097, 'golden': 5.961845129926823, 'gone': 5.509860006183766, 'good': 2.3044072016477064, 'got': 3.8134107167600364, 'gourmet': 5.451019506160833, 'gp': 4.999034382417776, 'grain': 5.748271029628765, 'gram': 5.8283137373023015, 'greasi': 5.135166556742356, 'great': 2.394326532817155, 'green': 4.218875824868201, 'grind': 5.961845129926823, 'groceri': 4.252777376543882, 'ground': 5.605170185988092, 'grow': 5.961845129926823, 'guess': 5.268697949366879, 'gum': 5.8283137373023015, 'guy': 5.710530701645918, 'half': 4.401197381662156, 'hand': 4.636919715183225, 'happen': 5.422848629194137, 'happi': 4.30588720185783, 'hard': 3.9187712324178627, 'harmoni': 6.367310238034988, 'hate': 5.222177933731985, 'health': 4.575550768806933, 'healthi': 3.8473122684357177, 'healthier': 4.83198029775461, 'heard': 5.674163057475043, 'heart': 6.115995809754082, 'heat': 5.31748811353631, 'heavi': 5.710530701645918, 'help': 4.287868696355153, 'herb': 5.710530701645918, 'high': 3.50510935710552, 'higher': 5.368781407923861, 'hint': 5.31748811353631, 'hit': 5.268697949366879, 'hold': 5.54063166485052, 'home': 4.495508061133396, 'homemad': 5.961845129926823, 'honest': 5.54063166485052, 'honey': 5.017383521085972, 'hook': 5.5723803631651005, 'hope': 4.5996483203859935, 'horribl': 5.8283137373023015, 'hot': 4.178053830347945, 'hour': 5.5723803631651005, 'hous': 5.245167451956684, 'howev': 4.057607677272078, 'href': 5.017383521085972, 'http': 4.945924557103828, 'huge': 5.54063166485052, 'hull': 6.233778845410465, 'hungri': 6.233778845410465, 'husband': 4.473768074496991, 'ice': 4.484578990601206, 'idea': 5.017383521085972, 'imagin': 5.961845129926823, 'immedi': 5.451019506160833, 'import': 5.422848629194137, 'impress': 5.3428059215206005, 'improv': 5.915325114291931, 'includ': 4.847484484290575, 'increas': 5.8283137373023015, 'incred': 5.710530701645918, 'individu': 5.135166556742356, 'inform': 5.674163057475043, 'ingredi': 3.9249632026657837, 'insid': 5.199705077879927, 'instant': 5.268697949366879, 'instead': 4.463072785380243, 'instruct': 5.915325114291931, 'intak': 6.061928588483807, 'interest': 5.605170185988092, 'introduc': 5.748271029628765, 'iron': 5.8283137373023015, 'issu': 4.945924557103828, 'item': 4.170085660698769, 'jalapeno': 6.173154223594031, 'japanes': 6.233778845410465, 'jar': 5.177726171161152, 'juic': 4.863232841258714, 'keep': 3.835883572612095, 'kept': 5.961845129926823, 'kernel': 5.710530701645918, 'kettl': 4.30588720185783, 'keurig': 5.961845129926823, 'kibbl': 5.915325114291931, 'kick': 5.451019506160833, 'kid': 4.421400088979675, 'kind': 4.484578990601206, 'kitchen': 5.674163057475043, 'knew': 5.639071737663773, 'know': 3.645075401940822, 'known': 6.061928588483807, 'label': 4.816712825623821, 'lack': 5.639071737663773, 'larg': 4.743687690608931, 'larger': 5.222177933731985, 'last': 4.296837366337913, 'later': 5.480007043034085, 'lay': 5.605170185988092, 'lb': 5.748271029628765, 'lbs': 5.748271029628765, 'learn': 5.787491742782046, 'least': 4.715908126501855, 'leav': 4.863232841258714, 'left': 5.268697949366879, 'lemon': 5.480007043034085, 'less': 3.995732273553991, 'let': 4.7297014486341915, 'level': 5.5723803631651005, 'licoric': 5.8283137373023015, 'life': 5.31748811353631, 'light': 4.162180481191656, 'like': 2.1147416705979936, 'limit': 5.748271029628765, 'line': 4.847484484290575, 'liquid': 5.748271029628765, 'list': 4.912023005428146, 'liter': 6.115995809754082, 'littl': 3.201232598733758, 'live': 4.611918412977808, 'load': 5.961845129926823, 'lobster': 6.233778845410465, 'local': 3.870569130599985, 'lollipop': 6.298317366548036, 'long': 4.050540510048986, 'longer': 4.945924557103828, 'look': 3.404248746770546, 'loos': 5.509860006183766, 'lose': 5.870873351721097, 'lost': 6.0106352940962555, 'lot': 3.743677378745361, 'love': 2.3783261914707134, 'lover': 5.639071737663773, 'low': 4.252777376543882, 'lower': 5.5723803631651005, 'lunch': 4.945924557103828, 'machin': 6.061928588483807, 'made': 3.6218725048611575, 'mahogani': 5.961845129926823, 'mail': 5.870873351721097, 'main': 5.54063166485052, 'major': 5.870873351721097, 'make': 2.803832050462324, 'maker': 5.710530701645918, 'mani': 3.6931615886084597, 'manufactur': 5.480007043034085, 'mapl': 5.915325114291931, 'market': 4.552020271396739, 'marzano': 6.298317366548036, 'matter': 5.961845129926823, 'may': 4.235682943184582, 'mayb': 4.7297014486341915, 'mccann': 6.521460917862246, 'meal': 4.5996483203859935, 'mean': 4.8954937034769355, 'meat': 5.222177933731985, 'medium': 5.915325114291931, 'melt': 5.245167451956684, 'mention': 5.368781407923861, 'mess': 5.639071737663773, 'mg': 5.915325114291931, 'microwav': 5.54063166485052, 'middl': 5.787491742782046, 'might': 4.662562145796563, 'mild': 5.245167451956684, 'milk': 4.442019376182411, 'mill': 6.173154223594031, 'mind': 5.3428059215206005, 'mine': 5.422848629194137, 'mini': 6.44141821018871, 'mint': 5.748271029628765, 'minut': 4.847484484290575, 'miss': 5.245167451956684, 'mix': 3.4534079827286295, 'moist': 5.915325114291931, 'money': 4.421400088979675, 'month': 4.116018439428493, 'morn': 4.83198029775461, 'most': 5.395449655006022, 'mother': 5.870873351721097, 'mountain': 6.061928588483807, 'mouth': 4.662562145796563, 'move': 5.870873351721097, 'mrs': 6.298317366548036, 'msg': 5.8283137373023015, 'much': 3.017406150760383, 'muffin': 6.0106352940962555, 'must': 4.863232841258714, 'mustard': 6.367310238034988, 'nabisco': 6.926926025970411, 'name': 5.177726171161152, 'nasti': 5.674163057475043, 'natur': 4.02276094594191, 'near': 5.199705077879927, 'need': 3.70805020110221, 'never': 3.870569130599985, 'new': 4.34292847353818, 'next': 4.847484484290575, 'nice': 3.7385094085869186, 'night': 5.870873351721097, 'non': 5.268697949366879, 'none': 5.451019506160833, 'noodl': 5.422848629194137, 'normal': 4.928830123744527, 'note': 5.292795500945939, 'noth': 4.611918412977808, 'notic': 4.863232841258714, 'number': 5.870873351721097, 'nut': 5.074541934925921, 'nutrit': 5.074541934925921, 'oat': 6.44141821018871, 'oatmeal': 5.451019506160833, 'offer': 5.156219965940188, 'offic': 5.870873351721097, 'often': 5.11454726953962, 'oh': 5.605170185988092, 'oil': 4.540459448995663, 'oili': 5.8283137373023015, 'ok': 4.863232841258714, 'okay': 5.674163057475043, 'old': 4.0937126819141945, 'oliv': 5.674163057475043, 'omaha': 6.233778845410465, 'one': 2.5080854181738133, 'onion': 5.135166556742356, 'onlin': 4.928830123744527, 'open': 4.20234652291699, 'opinion': 5.451019506160833, 'option': 5.199705077879927, 'orang': 6.061928588483807, 'order': 3.0124061403436775, 'oreo': 5.674163057475043, 'organ': 4.278979748937906, 'origin': 4.675634227363916, 'other': 4.552020271396739, 'otherwis': 5.639071737663773, 'ounc': 4.702302474446077, 'outsid': 5.748271029628765, 'oven': 5.915325114291931, 'over': 5.54063166485052, 'overal': 5.245167451956684, 'overpow': 5.5723803631651005, 'overwhelm': 5.870873351721097, 'oz': 4.296837366337913, 'pack': 3.419118909249997, 'packag': 3.6882475738060303, 'packet': 4.8954937034769355, 'page': 6.367310238034988, 'paid': 5.710530701645918, 'pain': 5.870873351721097, 'palat': 5.870873351721097, 'pan': 6.115995809754082, 'pancak': 4.702302474446077, 'paper': 5.915325114291931, 'part': 4.9633162998156966, 'parti': 5.480007043034085, 'particular': 5.3428059215206005, 'pass': 6.0106352940962555, 'past': 5.05512384906882, 'pasta': 5.787491742782046, 'pay': 5.017383521085972, 'peanut': 4.945924557103828, 'peopl': 4.270169119255751, 'pepper': 4.529030753172041, 'per': 4.15433730373063, 'perfect': 3.796881414808826, 'perhap': 5.8283137373023015, 'person': 4.772261063052987, 'pet': 5.710530701645918, 'pick': 5.017383521085972, 'picki': 5.710530701645918, 'pictur': 5.710530701645918, 'piec': 5.017383521085972, 'pineappl': 4.912023005428146, 'place': 4.772261063052987, 'plain': 4.715908126501855, 'plan': 5.135166556742356, 'plastic': 5.156219965940188, 'pleas': 4.381394754365976, 'pleasant': 5.422848629194137, 'plenti': 5.915325114291931, 'plus': 4.649658740960655, 'pocki': 6.703782474656201, 'pod': 6.115995809754082, 'point': 4.945924557103828, 'poor': 5.915325114291931, 'pop': 4.287868696355153, 'popchip': 4.702302474446077, 'popcorn': 4.847484484290575, 'popper': 5.961845129926823, 'portion': 5.177726171161152, 'possibl': 5.787491742782046, 'post': 6.0106352940962555, 'pot': 5.8283137373023015, 'potassium': 5.710530701645918, 'potato': 3.635729539522584, 'pouch': 6.115995809754082, 'pound': 4.879233182605155, 'pour': 6.061928588483807, 'powder': 4.540459448995663, 'power': 5.787491742782046, 'prefer': 4.56371631115993, 'prepar': 5.199705077879927, 'present': 5.915325114291931, 'preserv': 5.748271029628765, 'pretti': 4.20234652291699, 'previous': 5.8283137373023015, 'price': 3.162823150618887, 'pricey': 5.961845129926823, 'prime': 5.5723803631651005, 'probabl': 4.442019376182411, 'problem': 4.227244074538717, 'process': 5.395449655006022, 'produc': 5.480007043034085, 'product': 2.5324768712979724, 'protein': 5.05512384906882, 'provid': 5.639071737663773, 'pud': 6.173154223594031, 'pull': 5.915325114291931, 'puppi': 6.115995809754082, 'purchas': 3.4572914827550267, 'pure': 5.5723803631651005, 'put': 4.050540510048986, 'qualiti': 3.888373755233492, 'quantiti': 5.710530701645918, 'quick': 4.401197381662156, 'quit': 4.484578990601206, 'rare': 6.0106352940962555, 'rate': 5.54063166485052, 'rather': 4.7297014486341915, 'raw': 5.292795500945939, 'read': 4.517731197918107, 'readi': 5.8283137373023015, 'real': 4.34292847353818, 'realiz': 5.31748811353631, 'realli': 2.9379419794061366, 'reason': 4.442019376182411, 'receiv': 4.278979748937906, 'recent': 4.78685986247414, 'recip': 4.772261063052987, 'recommend': 3.3823500614629083, 'red': 4.981015876915098, 'reduc': 5.674163057475043, 'refresh': 5.199705077879927, 'regular': 3.9249632026657837, 'rememb': 5.480007043034085, 'remind': 5.710530701645918, 'replac': 5.509860006183766, 'requir': 5.787491742782046, 'rest': 5.135166556742356, 'restaur': 5.605170185988092, 'result': 5.245167451956684, 'return': 5.395449655006022, 'review': 3.7181005369557116, 'rice': 4.675634227363916, 'rich': 5.017383521085972, 'right': 3.94377253462328, 'roast': 5.05512384906882, 'rock': 6.173154223594031, 'roll': 6.173154223594031, 'rose': 5.915325114291931, 'run': 4.928830123744527, 'safe': 5.870873351721097, 'said': 4.442019376182411, 'salad': 5.368781407923861, 'sale': 5.268697949366879, 'salsa': 5.870873351721097, 'salt': 3.594721515795207, 'salti': 4.3619766685088734, 'sampl': 5.710530701645918, 'sampler': 6.173154223594031, 'san': 5.961845129926823, 'sandwich': 5.710530701645918, 'satisfi': 4.847484484290575, 'sauc': 4.649658740960655, 'save': 4.34292847353818, 'saw': 5.368781407923861, 'say': 3.5215706341595916, 'school': 5.8283137373023015, 'scienc': 6.521460917862246, 'scratch': 5.961845129926823, 'sea': 4.9633162998156966, 'seal': 5.961845129926823, 'search': 5.422848629194137, 'season': 4.981015876915098, 'second': 4.912023005428146, 'see': 4.218875824868201, 'seed': 5.54063166485052, 'seem': 3.9065011398260485, 'seen': 5.54063166485052, 'select': 5.961845129926823, 'sell': 5.05512384906882, 'seller': 5.870873351721097, 'send': 5.674163057475043, 'sensit': 5.787491742782046, 'sent': 5.5723803631651005, 'serious': 5.674163057475043, 'serv': 4.0937126819141945, 'servic': 5.177726171161152, 'set': 5.54063166485052, 'sever': 4.442019376182411, 'shake': 6.0106352940962555, 'shape': 5.605170185988092, 'share': 5.11454726953962, 'ship': 3.7333680090865, 'shipment': 5.480007043034085, 'shop': 5.31748811353631, 'short': 5.639071737663773, 'shot': 5.915325114291931, 'show': 5.639071737663773, 'shown': 6.298317366548036, 'side': 4.7578723256008875, 'similar': 5.11454726953962, 'simpl': 5.915325114291931, 'simpli': 5.31748811353631, 'sinc': 3.70805020110221, 'singl': 4.847484484290575, 'sit': 5.509860006183766, 'site': 5.5723803631651005, 'six': 5.54063166485052, 'size': 3.9065011398260485, 'skin': 6.061928588483807, 'slice': 6.0106352940962555, 'slight': 4.816712825623821, 'small': 3.9694149652366177, 'smaller': 5.017383521085972, 'smell': 4.801674948259281, 'smooth': 4.945924557103828, 'snack': 3.4729780789227265, 'soda': 5.961845129926823, 'sodium': 5.177726171161152, 'soft': 5.31748811353631, 'sold': 5.422848629194137, 'someon': 5.3428059215206005, 'someth': 3.888373755233492, 'sometim': 5.177726171161152, 'somewhat': 5.674163057475043, 'son': 4.649658740960655, 'soon': 5.245167451956684, 'sort': 5.368781407923861, 'sound': 5.8283137373023015, 'soup': 4.999034382417776, 'sour': 4.928830123744527, 'sourc': 5.605170185988092, 'soy': 5.639071737663773, 'special': 5.31748811353631, 'specif': 5.961845129926823, 'spice': 4.816712825623821, 'spici': 4.517731197918107, 'splash': 5.915325114291931, 'spoon': 6.115995809754082, 'sprinkl': 6.0106352940962555, 'stale': 5.422848629194137, 'stand': 5.639071737663773, 'standard': 5.870873351721097, 'star': 4.296837366337913, 'starbuck': 5.710530701645918, 'start': 4.371638579420611, 'stash': 5.509860006183766, 'state': 5.368781407923861, 'stay': 4.9633162998156966, 'steak': 6.298317366548036, 'stevia': 5.292795500945939, 'stick': 5.156219965940188, 'still': 3.7231638389122583, 'stock': 5.05512384906882, 'stomach': 5.605170185988092, 'stonewal': 5.961845129926823, 'stop': 4.879233182605155, 'store': 3.2601643771100934, 'straight': 5.870873351721097, 'strawberri': 5.480007043034085, 'strong': 4.18608600204521, 'stuck': 5.674163057475043, 'stuff': 4.138833117194665, 'style': 5.639071737663773, 'subscrib': 5.177726171161152, 'subscript': 5.748271029628765, 'substitut': 5.509860006183766, 'subtl': 5.870873351721097, 'sugar': 3.7231638389122583, 'suggest': 5.3428059215206005, 'summer': 5.451019506160833, 'super': 4.9633162998156966, 'supermarket': 5.605170185988092, 'suppos': 5.710530701645918, 'sure': 3.9759296462578115, 'surpris': 4.78685986247414, 'sweet': 3.5510464522925456, 'sweeten': 4.772261063052987, 'switch': 5.368781407923861, 'syrup': 4.999034382417776, 'tablespoon': 5.787491742782046, 'take': 3.870569130599985, 'talk': 6.0106352940962555, 'tangi': 5.8283137373023015, 'target': 6.0106352940962555, 'tart': 5.870873351721097, 'tassimo': 6.44141821018871, 'tast': 2.173335834864046, 'tasti': 3.8473122684357177, 'tea': 3.4228712588685477, 'teeth': 5.870873351721097, 'tell': 5.017383521085972, 'tend': 5.787491742782046, 'tender': 5.870873351721097, 'term': 5.748271029628765, 'terribl': 5.451019506160833, 'test': 5.639071737663773, 'textur': 4.278979748937906, 'thai': 5.451019506160833, 'thank': 4.287868696355153, 'thick': 5.177726171161152, 'thin': 5.245167451956684, 'thing': 3.645075401940822, 'think': 3.534096893978772, 'though': 4.086386641822122, 'thought': 4.19418321227783, 'three': 4.743687690608931, 'throw': 5.395449655006022, 'time': 2.949583554421622, 'tin': 6.173154223594031, 'tini': 5.292795500945939, 'tire': 5.787491742782046, 'toast': 6.061928588483807, 'today': 5.54063166485052, 'togeth': 5.395449655006022, 'told': 5.368781407923861, 'tomato': 5.074541934925921, 'took': 5.017383521085972, 'top': 4.529030753172041, 'toss': 6.0106352940962555, 'total': 5.156219965940188, 'tradit': 6.0106352940962555, 'train': 5.787491742782046, 'tran': 5.605170185988092, 'treat': 4.19418321227783, 'tri': 2.5065805269943926, 'trick': 5.961845129926823, 'trip': 5.5723803631651005, 'true': 5.54063166485052, 'truli': 5.395449655006022, 'turn': 5.074541934925921, 'twice': 5.422848629194137, 'two': 3.7806208939370456, 'type': 4.688879454113936, 'typic': 5.915325114291931, 'unfortun': 5.036075654098125, 'uniqu': 5.480007043034085, 'unless': 5.3428059215206005, 'unlik': 5.639071737663773, 'us': 4.575550768806933, 'use': 2.6713133161521876, 'usual': 4.278979748937906, 'valu': 5.0943445622221, 'vanilla': 5.156219965940188, 'varieti': 3.9890877308353225, 'various': 6.061928588483807, 'veget': 5.156219965940188, 'veggi': 5.674163057475043, 'vendor': 6.115995809754082, 'version': 5.0943445622221, 'vet': 5.674163057475043, 'vinegar': 4.3619766685088734, 'visit': 5.8283137373023015, 'vita': 6.298317366548036, 'vitamin': 5.54063166485052, 'wafer': 6.521460917862246, 'waffl': 4.945924557103828, 'wait': 5.451019506160833, 'walk': 6.173154223594031, 'want': 3.3895964699836756, 'warm': 5.674163057475043, 'wast': 5.156219965940188, 'watch': 5.268697949366879, 'watcher': 5.54063166485052, 'water': 3.5383074265151158, 'way': 3.65450943417418, 'weak': 5.710530701645918, 'websit': 5.5723803631651005, 'week': 4.411247717515657, 'weight': 4.552020271396739, 'weird': 5.870873351721097, 'well': 3.282782465697866, 'went': 4.928830123744527, 'whatev': 5.605170185988092, 'wheat': 5.451019506160833, 'whenev': 6.0106352940962555, 'whip': 6.298317366548036, 'white': 4.552020271396739, 'whole': 4.050540510048986, 'wife': 5.605170185988092, 'wine': 6.233778845410465, 'wish': 4.540459448995663, 'within': 5.639071737663773, 'without': 3.7593434954897607, 'wonder': 4.009155293886131, 'work': 3.8588730908367936, 'world': 5.509860006183766, 'worri': 5.710530701645918, 'wors': 5.915325114291931, 'worst': 6.0106352940962555, 'worth': 4.381394754365976, 'would': 2.935629839647757, 'wow': 5.451019506160833, 'wrap': 5.451019506160833, 'write': 5.8283137373023015, 'wrong': 5.0943445622221, 'www': 4.928830123744527, 'year': 3.555329114084546, 'yellow': 6.061928588483807, 'yes': 5.509860006183766, 'yet': 4.879233182605155, 'yogurt': 5.8283137373023015, 'yum': 5.8283137373023015, 'yummi': 5.156219965940188}\n"
          ],
          "name": "stdout"
        }
      ]
    },
    {
      "cell_type": "code",
      "metadata": {
        "id": "16NQOlBHHBvF",
        "outputId": "ed89536e-5b12-4f11-8fb0-15e23bd63588",
        "colab": {
          "base_uri": "https://localhost:8080/"
        }
      },
      "source": [
        "from nltk.sentiment.vader import SentimentIntensityAnalyzer\n",
        "analyser = SentimentIntensityAnalyzer()\n",
        "sample_review = review_data.Text[:10]\n",
        "for test in sample_review:\n",
        "    ss = analyser.polarity_scores(test)\n",
        "    #dict consists of compound[-1,1], neg, neu and pos scores for a sentence\n",
        "    for k in sorted(ss):\n",
        "        print('{0}: {1}, '.format(k, ss[k]))\n",
        "    print(test)"
      ],
      "execution_count": 68,
      "outputs": [
        {
          "output_type": "stream",
          "text": [
            "compound: 0.9441, \n",
            "neg: 0.0, \n",
            "neu: 0.695, \n",
            "pos: 0.305, \n",
            "I have bought several of the Vitality canned dog food products and have found them all to be of good quality. The product looks more like a stew than a processed meat and it smells better. My Labrador is finicky and she appreciates this product better than  most.\n",
            "compound: -0.5664, \n",
            "neg: 0.138, \n",
            "neu: 0.862, \n",
            "pos: 0.0, \n",
            "Product arrived labeled as Jumbo Salted Peanuts...the peanuts were actually small sized unsalted. Not sure if this was an error or if the vendor intended to represent the product as \"Jumbo\".\n",
            "compound: 0.8265, \n",
            "neg: 0.091, \n",
            "neu: 0.754, \n",
            "pos: 0.155, \n",
            "This is a confection that has been around a few centuries.  It is a light, pillowy citrus gelatin with nuts - in this case Filberts. And it is cut into tiny squares and then liberally coated with powdered sugar.  And it is a tiny mouthful of heaven.  Not too chewy, and very flavorful.  I highly recommend this yummy treat.  If you are familiar with the story of C.S. Lewis' \"The Lion, The Witch, and The Wardrobe\" - this is the treat that seduces Edmund into selling out his Brother and Sisters to the Witch.\n",
            "compound: 0.0, \n",
            "neg: 0.0, \n",
            "neu: 1.0, \n",
            "pos: 0.0, \n",
            "If you are looking for the secret ingredient in Robitussin I believe I have found it.  I got this in addition to the Root Beer Extract I ordered (which was good) and made some cherry soda.  The flavor is very medicinal.\n",
            "compound: 0.9468, \n",
            "neg: 0.0, \n",
            "neu: 0.552, \n",
            "pos: 0.448, \n",
            "Great taffy at a great price.  There was a wide assortment of yummy taffy.  Delivery was very quick.  If your a taffy lover, this is a deal.\n",
            "compound: 0.883, \n",
            "neg: 0.029, \n",
            "neu: 0.809, \n",
            "pos: 0.163, \n",
            "I got a wild hair for taffy and ordered this five pound bag. The taffy was all very enjoyable with many flavors: watermelon, root beer, melon, peppermint, grape, etc. My only complaint is there was a bit too much red/black licorice-flavored pieces (just not my particular favorites). Between me, my kids, and my husband, this lasted only two weeks! I would recommend this brand of taffy -- it was a delightful treat.\n",
            "compound: 0.9346, \n",
            "neg: 0.034, \n",
            "neu: 0.693, \n",
            "pos: 0.273, \n",
            "This saltwater taffy had great flavors and was very soft and chewy.  Each candy was individually wrapped well.  None of the candies were stuck together, which did happen in the expensive version, Fralinger's.  Would highly recommend this candy!  I served it at a beach-themed party and everyone loved it!\n",
            "compound: 0.9487, \n",
            "neg: 0.0, \n",
            "neu: 0.52, \n",
            "pos: 0.48, \n",
            "This taffy is so good.  It is very soft and chewy.  The flavors are amazing.  I would definitely recommend you buying it.  Very satisfying!!\n",
            "compound: 0.6369, \n",
            "neg: 0.0, \n",
            "neu: 0.851, \n",
            "pos: 0.149, \n",
            "Right now I'm mostly just sprouting this so my cats can eat the grass. They love it. I rotate it around with Wheatgrass and Rye too\n",
            "compound: 0.8313, \n",
            "neg: 0.0, \n",
            "neu: 0.705, \n",
            "pos: 0.295, \n",
            "This is a very healthy dog food. Good for their digestion. Also good for small puppies. My dog eats her required amount at every feeding.\n"
          ],
          "name": "stdout"
        }
      ]
    },
    {
      "cell_type": "code",
      "metadata": {
        "id": "LvQ2MLSCHDfT",
        "outputId": "6ef5c16c-dff0-459d-836d-fe7ded538273",
        "colab": {
          "base_uri": "https://localhost:8080/"
        }
      },
      "source": [
        "from sklearn.cluster import MiniBatchKMeans\n",
        "\n",
        "clusters = 20\n",
        "kmeans_model = MiniBatchKMeans(n_clusters=clusters, init='k-means++', n_init=1, \n",
        "                         init_size=1000, batch_size=1000, verbose=False, max_iter=1000)\n",
        "kmodel = kmeans_model.fit(test_vecor)\n",
        "kmodel_clusters = kmodel.predict(test_vecor)\n",
        "kmodel_distances = kmodel.transform(test_vecor)\n",
        "centroids = kmodel.cluster_centers_.argsort()[:, ::-1]\n",
        "values = text_vectorizer.get_feature_names()\n",
        "for i in range(clusters):\n",
        "    print(\"Cluster %d:\" % i)\n",
        "    for j in centroids[i, :5]:\n",
        "        print(' %s' % values[j])\n",
        "    print()"
      ],
      "execution_count": 69,
      "outputs": [
        {
          "output_type": "stream",
          "text": [
            "Cluster 0:\n",
            " tea\n",
            " drink\n",
            " green\n",
            " ice\n",
            " br\n",
            "\n",
            "Cluster 1:\n",
            " br\n",
            " flavor\n",
            " like\n",
            " chip\n",
            " product\n",
            "\n",
            "Cluster 2:\n",
            " chip\n",
            " bag\n",
            " flavor\n",
            " salt\n",
            " potato\n",
            "\n",
            "Cluster 3:\n",
            " cereal\n",
            " famili\n",
            " flour\n",
            " box\n",
            " pocki\n",
            "\n",
            "Cluster 4:\n",
            " product\n",
            " order\n",
            " amazon\n",
            " price\n",
            " ship\n",
            "\n",
            "Cluster 5:\n",
            " box\n",
            " order\n",
            " lollipop\n",
            " bag\n",
            " pack\n",
            "\n",
            "Cluster 6:\n",
            " dog\n",
            " food\n",
            " cat\n",
            " treat\n",
            " eat\n",
            "\n",
            "Cluster 7:\n",
            " real\n",
            " good\n",
            " orang\n",
            " product\n",
            " realli\n",
            "\n",
            "Cluster 8:\n",
            " coffe\n",
            " cup\n",
            " tast\n",
            " bold\n",
            " roast\n",
            "\n",
            "Cluster 9:\n",
            " snack\n",
            " tast\n",
            " calori\n",
            " great\n",
            " love\n",
            "\n",
            "Cluster 10:\n",
            " popcorn\n",
            " pop\n",
            " kernel\n",
            " popper\n",
            " white\n",
            "\n",
            "Cluster 11:\n",
            " babi\n",
            " son\n",
            " food\n",
            " formula\n",
            " love\n",
            "\n",
            "Cluster 12:\n",
            " tomato\n",
            " can\n",
            " clam\n",
            " chowder\n",
            " soup\n",
            "\n",
            "Cluster 13:\n",
            " local\n",
            " store\n",
            " groceri\n",
            " find\n",
            " price\n",
            "\n",
            "Cluster 14:\n",
            " waffl\n",
            " mix\n",
            " pancak\n",
            " make\n",
            " stonewal\n",
            "\n",
            "Cluster 15:\n",
            " flavor\n",
            " one\n",
            " good\n",
            " like\n",
            " love\n",
            "\n",
            "Cluster 16:\n",
            " water\n",
            " coconut\n",
            " drink\n",
            " pineappl\n",
            " use\n",
            "\n",
            "Cluster 17:\n",
            " chocol\n",
            " pasta\n",
            " tast\n",
            " melt\n",
            " great\n",
            "\n",
            "Cluster 18:\n",
            " fruit\n",
            " dri\n",
            " frozen\n",
            " pouch\n",
            " veggi\n",
            "\n",
            "Cluster 19:\n",
            " sugar\n",
            " use\n",
            " good\n",
            " raw\n",
            " great\n",
            "\n"
          ],
          "name": "stdout"
        }
      ]
    },
    {
      "cell_type": "code",
      "metadata": {
        "id": "M0ENfrFeHbCx"
      },
      "source": [
        "test_reviewText = review_data.Text\n",
        "test_Ratings = review_data.Score\n",
        "text_vectorizer = TfidfVectorizer(max_df=.8)\n",
        "text_vectorizer.fit(test_reviewText)\n",
        "def rate(r):\n",
        "    ary2 = []\n",
        "    for rating in r:\n",
        "        tv = [0,0,0,0,0]\n",
        "        tv[rating-1] = 1\n",
        "        ary2.append(tv)\n",
        "    return np.array(ary2)"
      ],
      "execution_count": 70,
      "outputs": []
    },
    {
      "cell_type": "code",
      "metadata": {
        "id": "JPvdWugZHfMw",
        "outputId": "afa29464-cd32-4eb4-d7ca-4432dd1297a6",
        "colab": {
          "base_uri": "https://localhost:8080/"
        }
      },
      "source": [
        "test_reviewText =test_reviewText[:3001]\n",
        "test_reviewText"
      ],
      "execution_count": 71,
      "outputs": [
        {
          "output_type": "execute_result",
          "data": {
            "text/plain": [
              "0       I have bought several of the Vitality canned d...\n",
              "1       Product arrived labeled as Jumbo Salted Peanut...\n",
              "2       This is a confection that has been around a fe...\n",
              "3       If you are looking for the secret ingredient i...\n",
              "4       Great taffy at a great price.  There was a wid...\n",
              "                              ...                        \n",
              "2994    The cookies were kind of stail but other than ...\n",
              "2995    My primary reason for ordering, was the pictur...\n",
              "2996    The cookie is crispy good and flavorful.  The ...\n",
              "2997    I was expecting these cookies were going to be...\n",
              "2998    I ordered these fortune cookies as rewards for...\n",
              "Name: Text, Length: 2999, dtype: object"
            ]
          },
          "metadata": {
            "tags": []
          },
          "execution_count": 71
        }
      ]
    },
    {
      "cell_type": "code",
      "metadata": {
        "id": "wYT2VqleHlyJ",
        "outputId": "5333a9c6-b787-44de-d2c3-f46695715911",
        "colab": {
          "base_uri": "https://localhost:8080/"
        }
      },
      "source": [
        "test_Ratings = test_Ratings[:3001]\n",
        "test_Ratings"
      ],
      "execution_count": 72,
      "outputs": [
        {
          "output_type": "execute_result",
          "data": {
            "text/plain": [
              "0       5\n",
              "1       1\n",
              "2       4\n",
              "3       2\n",
              "4       5\n",
              "       ..\n",
              "2994    4\n",
              "2995    4\n",
              "2996    5\n",
              "2997    2\n",
              "2998    5\n",
              "Name: Score, Length: 2999, dtype: int64"
            ]
          },
          "metadata": {
            "tags": []
          },
          "execution_count": 72
        }
      ]
    },
    {
      "cell_type": "code",
      "metadata": {
        "id": "0l9pwPqXHpfo",
        "outputId": "4a2d9a92-d636-4224-948b-c0fde5d01e04",
        "colab": {
          "base_uri": "https://localhost:8080/"
        }
      },
      "source": [
        "X = text_vectorizer.transform(test_reviewText).toarray()\n",
        "print(X.shape)\n",
        "y = rate(test_Ratings.values)\n",
        "print(y.shape)"
      ],
      "execution_count": 73,
      "outputs": [
        {
          "output_type": "stream",
          "text": [
            "(2999, 10419)\n",
            "(2999, 5)\n"
          ],
          "name": "stdout"
        }
      ]
    },
    {
      "cell_type": "code",
      "metadata": {
        "id": "olFHQJPzHsw9",
        "outputId": "18e78a70-649f-40b1-9bff-cad920727edf",
        "colab": {
          "base_uri": "https://localhost:8080/"
        }
      },
      "source": [
        "X_train, X_test, y_train, y_test = train_test_split(X,y,test_size=.2)\n",
        "\n",
        "model = Sequential()\n",
        "model.add(Dense(64,input_dim=X_train.shape[1]))\n",
        "# model.add(Dense(128,activation='relu'))\n",
        "model.add(Dense(5,activation='softmax'))\n",
        "model.compile(loss='categorical_crossentropy',optimizer='adam',metrics=['accuracy'])\n",
        "print(model.summary())\n",
        "history = model.fit(X_train,y_train,validation_data=(X_test, y_test),epochs=10,batch_size=32,verbose=1)\n",
        "model.evaluate(X_test,y_test)[1]"
      ],
      "execution_count": 96,
      "outputs": [
        {
          "output_type": "stream",
          "text": [
            "Model: \"sequential_12\"\n",
            "_________________________________________________________________\n",
            "Layer (type)                 Output Shape              Param #   \n",
            "=================================================================\n",
            "dense_26 (Dense)             (None, 64)                666880    \n",
            "_________________________________________________________________\n",
            "dense_27 (Dense)             (None, 5)                 325       \n",
            "=================================================================\n",
            "Total params: 667,205\n",
            "Trainable params: 667,205\n",
            "Non-trainable params: 0\n",
            "_________________________________________________________________\n",
            "None\n",
            "Epoch 1/10\n",
            "75/75 [==============================] - 1s 11ms/step - loss: 1.2570 - accuracy: 0.6203 - val_loss: 1.1303 - val_accuracy: 0.6317\n",
            "Epoch 2/10\n",
            "75/75 [==============================] - 1s 9ms/step - loss: 0.9901 - accuracy: 0.6290 - val_loss: 1.0378 - val_accuracy: 0.6333\n",
            "Epoch 3/10\n",
            "75/75 [==============================] - 1s 9ms/step - loss: 0.7959 - accuracy: 0.6636 - val_loss: 0.9575 - val_accuracy: 0.6583\n",
            "Epoch 4/10\n",
            "75/75 [==============================] - 1s 9ms/step - loss: 0.6046 - accuracy: 0.7995 - val_loss: 0.9113 - val_accuracy: 0.6800\n",
            "Epoch 5/10\n",
            "75/75 [==============================] - 1s 9ms/step - loss: 0.4421 - accuracy: 0.9095 - val_loss: 0.8911 - val_accuracy: 0.6900\n",
            "Epoch 6/10\n",
            "75/75 [==============================] - 1s 9ms/step - loss: 0.3133 - accuracy: 0.9554 - val_loss: 0.8985 - val_accuracy: 0.6783\n",
            "Epoch 7/10\n",
            "75/75 [==============================] - 1s 9ms/step - loss: 0.2183 - accuracy: 0.9775 - val_loss: 0.9169 - val_accuracy: 0.6733\n",
            "Epoch 8/10\n",
            "75/75 [==============================] - 1s 9ms/step - loss: 0.1510 - accuracy: 0.9900 - val_loss: 0.9338 - val_accuracy: 0.6800\n",
            "Epoch 9/10\n",
            "75/75 [==============================] - 1s 9ms/step - loss: 0.1070 - accuracy: 0.9962 - val_loss: 0.9595 - val_accuracy: 0.6817\n",
            "Epoch 10/10\n",
            "75/75 [==============================] - 1s 9ms/step - loss: 0.0773 - accuracy: 0.9983 - val_loss: 0.9920 - val_accuracy: 0.6750\n",
            "19/19 [==============================] - 0s 3ms/step - loss: 0.9920 - accuracy: 0.6750\n"
          ],
          "name": "stdout"
        },
        {
          "output_type": "execute_result",
          "data": {
            "text/plain": [
              "0.675000011920929"
            ]
          },
          "metadata": {
            "tags": []
          },
          "execution_count": 96
        }
      ]
    },
    {
      "cell_type": "code",
      "metadata": {
        "id": "ZGI8cdDNsPzc",
        "outputId": "321bf226-b186-455f-b83b-8ffefea68610",
        "colab": {
          "base_uri": "https://localhost:8080/"
        }
      },
      "source": [
        "history_dict = history.history\n",
        "history_dict.keys()"
      ],
      "execution_count": 97,
      "outputs": [
        {
          "output_type": "execute_result",
          "data": {
            "text/plain": [
              "dict_keys(['loss', 'accuracy', 'val_loss', 'val_accuracy'])"
            ]
          },
          "metadata": {
            "tags": []
          },
          "execution_count": 97
        }
      ]
    },
    {
      "cell_type": "code",
      "metadata": {
        "id": "G649SID3HvJn",
        "outputId": "0ca51291-b94f-4aad-92c1-1019a85a91e2",
        "colab": {
          "base_uri": "https://localhost:8080/",
          "height": 295
        }
      },
      "source": [
        "loss_train = history.history['loss']\n",
        "loss_val = history.history['val_loss']\n",
        "epochs = range(1,11)\n",
        "plt.plot(epochs, loss_train, 'g', label='Training loss')\n",
        "plt.plot(epochs, loss_val, 'b', label='validation loss')\n",
        "plt.title('Training and Validation loss')\n",
        "plt.xlabel('Epochs')\n",
        "plt.ylabel('Loss')\n",
        "plt.legend()\n",
        "plt.show()"
      ],
      "execution_count": 98,
      "outputs": [
        {
          "output_type": "display_data",
          "data": {
            "image/png": "[encoded data removed]",
            "text/plain": [
              "<Figure size 432x288 with 1 Axes>"
            ]
          },
          "metadata": {
            "tags": [],
            "needs_background": "light"
          }
        }
      ]
    },
    {
      "cell_type": "code",
      "metadata": {
        "id": "oNjlAmm7r0c4",
        "outputId": "b0e7de99-bb81-4768-f0b5-e6760f5517ed",
        "colab": {
          "base_uri": "https://localhost:8080/",
          "height": 295
        }
      },
      "source": [
        "loss_train = history.history['accuracy']\n",
        "loss_val = history.history['val_accuracy']\n",
        "epochs = range(1,11)\n",
        "plt.plot(epochs, loss_train, 'g', label='Training Accuracy')\n",
        "plt.plot(epochs, loss_val, 'b', label='validation Accuracy')\n",
        "plt.title('Training and Validation Accuracy')\n",
        "plt.xlabel('Epochs')\n",
        "plt.ylabel('Accuracy')\n",
        "plt.legend()\n",
        "plt.show()"
      ],
      "execution_count": 99,
      "outputs": [
        {
          "output_type": "display_data",
          "data": {
            "image/png": "[encoded data removed]",
            "text/plain": [
              "<Figure size 432x288 with 1 Axes>"
            ]
          },
          "metadata": {
            "tags": [],
            "needs_background": "light"
          }
        }
      ]
    },
    {
      "cell_type": "code",
      "metadata": {
        "id": "dKSeobLus3CD"
      },
      "source": [
        ""
      ],
      "execution_count": null,
      "outputs": []
    }
  ]
}