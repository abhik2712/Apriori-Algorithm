{
  "nbformat": 4,
  "nbformat_minor": 0,
  "metadata": {
    "colab": {
      "name": "Untitled",
      "provenance": []
    },
    "kernelspec": {
      "name": "python3",
      "display_name": "Python 3"
    },
    "accelerator": "GPU"
  },
  "cells": [
    {
      "cell_type": "code",
      "metadata": {
        "id": "YCZYhkbhPvkw",
        "outputId": "1c43f4c6-8e5b-4adf-a047-465b036d3985",
        "colab": {
          "base_uri": "https://localhost:8080/"
        }
      },
      "source": [
        "import nltk\n",
        "\n",
        "nltk.download('stopwords')\n",
        "nltk.download('vader_lexicon')"
      ],
      "execution_count": null,
      "outputs": [
        {
          "output_type": "stream",
          "text": [
            "[nltk_data] Downloading package stopwords to /root/nltk_data...\n",
            "[nltk_data]   Unzipping corpora/stopwords.zip.\n",
            "[nltk_data] Downloading package vader_lexicon to /root/nltk_data...\n"
          ],
          "name": "stdout"
        },
        {
          "output_type": "execute_result",
          "data": {
            "text/plain": [
              "True"
            ]
          },
          "metadata": {
            "tags": []
          },
          "execution_count": 3
        }
      ]
    },
    {
      "cell_type": "code",
      "metadata": {
        "id": "EOleypWkP8j1"
      },
      "source": [
        "import tensorflow as tf\n",
        "\n",
        "keras = tf.keras"
      ],
      "execution_count": null,
      "outputs": []
    },
    {
      "cell_type": "code",
      "metadata": {
        "id": "lPKbCls3P_EA"
      },
      "source": [
        "%matplotlib inline\n",
        "import re\n",
        "import seaborn as sbn\n",
        "import nltk\n",
        "import tqdm as tqdm\n",
        "import sqlite3\n",
        "import pandas as pd\n",
        "import numpy as np\n",
        "\n",
        "import string\n",
        "from nltk.corpus import stopwords\n",
        "stop = stopwords.words(\"english\")\n",
        "import matplotlib.pyplot as plt\n",
        "\n",
        "from sklearn.metrics import accuracy_score\n",
        "from sklearn.metrics import confusion_matrix\n",
        "from math import floor,ceil\n",
        "from nltk.stem.porter import PorterStemmer\n",
        "english_stemmer=nltk.stem.SnowballStemmer('english')\n",
        "\n",
        "from sklearn.feature_extraction.text import TfidfTransformer\n",
        "from sklearn.feature_extraction.text import CountVectorizer\n",
        "from sklearn.model_selection import train_test_split\n",
        "from sklearn.metrics import confusion_matrix\n",
        "from sklearn import metrics\n",
        "from sklearn.metrics import roc_curve, auc\n",
        "\n",
        "from sklearn.svm import LinearSVC\n",
        "\n",
        "from keras.models import Sequential\n",
        "from keras.layers import LSTM, Dense, Embedding\n",
        "\n",
        "\n",
        "from gensim import summarization\n",
        "from nltk.tokenize import word_tokenize\n",
        "from sklearn.feature_extraction.text import TfidfVectorizer\n",
        "from sklearn.model_selection import train_test_split"
      ],
      "execution_count": null,
      "outputs": []
    },
    {
      "cell_type": "code",
      "metadata": {
        "id": "hcK0IvZQQDr6"
      },
      "source": [
        "df = pd.read_csv('Reviews1.csv')"
      ],
      "execution_count": null,
      "outputs": []
    },
    {
      "cell_type": "code",
      "metadata": {
        "id": "fmyOQmZvQInR",
        "outputId": "02baee22-16cf-4925-b911-3762fd62655d",
        "colab": {
          "base_uri": "https://localhost:8080/",
          "height": 204
        }
      },
      "source": [
        "review_data = df[['UserId', 'ProductId', 'Score','Summary','Text']]\n",
        "review_data.head()"
      ],
      "execution_count": null,
      "outputs": [
        {
          "output_type": "execute_result",
          "data": {
            "text/html": [
              "<div>\n",
              "<style scoped>\n",
              "    .dataframe tbody tr th:only-of-type {\n",
              "        vertical-align: middle;\n",
              "    }\n",
              "\n",
              "    .dataframe tbody tr th {\n",
              "        vertical-align: top;\n",
              "    }\n",
              "\n",
              "    .dataframe thead th {\n",
              "        text-align: right;\n",
              "    }\n",
              "</style>\n",
              "<table border=\"1\" class=\"dataframe\">\n",
              "  <thead>\n",
              "    <tr style=\"text-align: right;\">\n",
              "      <th></th>\n",
              "      <th>UserId</th>\n",
              "      <th>ProductId</th>\n",
              "      <th>Score</th>\n",
              "      <th>Summary</th>\n",
              "      <th>Text</th>\n",
              "    </tr>\n",
              "  </thead>\n",
              "  <tbody>\n",
              "    <tr>\n",
              "      <th>0</th>\n",
              "      <td>A3SGXH7AUHU8GW</td>\n",
              "      <td>B001E4KFG0</td>\n",
              "      <td>5</td>\n",
              "      <td>Good Quality Dog Food</td>\n",
              "      <td>I have bought several of the Vitality canned d...</td>\n",
              "    </tr>\n",
              "    <tr>\n",
              "      <th>1</th>\n",
              "      <td>A1D87F6ZCVE5NK</td>\n",
              "      <td>B00813GRG4</td>\n",
              "      <td>1</td>\n",
              "      <td>Not as Advertised</td>\n",
              "      <td>Product arrived labeled as Jumbo Salted Peanut...</td>\n",
              "    </tr>\n",
              "    <tr>\n",
              "      <th>2</th>\n",
              "      <td>ABXLMWJIXXAIN</td>\n",
              "      <td>B000LQOCH0</td>\n",
              "      <td>4</td>\n",
              "      <td>\"Delight\" says it all</td>\n",
              "      <td>This is a confection that has been around a fe...</td>\n",
              "    </tr>\n",
              "    <tr>\n",
              "      <th>3</th>\n",
              "      <td>A395BORC6FGVXV</td>\n",
              "      <td>B000UA0QIQ</td>\n",
              "      <td>2</td>\n",
              "      <td>Cough Medicine</td>\n",
              "      <td>If you are looking for the secret ingredient i...</td>\n",
              "    </tr>\n",
              "    <tr>\n",
              "      <th>4</th>\n",
              "      <td>A1UQRSCLF8GW1T</td>\n",
              "      <td>B006K2ZZ7K</td>\n",
              "      <td>5</td>\n",
              "      <td>Great taffy</td>\n",
              "      <td>Great taffy at a great price.  There was a wid...</td>\n",
              "    </tr>\n",
              "  </tbody>\n",
              "</table>\n",
              "</div>"
            ],
            "text/plain": [
              "           UserId  ...                                               Text\n",
              "0  A3SGXH7AUHU8GW  ...  I have bought several of the Vitality canned d...\n",
              "1  A1D87F6ZCVE5NK  ...  Product arrived labeled as Jumbo Salted Peanut...\n",
              "2   ABXLMWJIXXAIN  ...  This is a confection that has been around a fe...\n",
              "3  A395BORC6FGVXV  ...  If you are looking for the secret ingredient i...\n",
              "4  A1UQRSCLF8GW1T  ...  Great taffy at a great price.  There was a wid...\n",
              "\n",
              "[5 rows x 5 columns]"
            ]
          },
          "metadata": {
            "tags": []
          },
          "execution_count": 53
        }
      ]
    },
    {
      "cell_type": "code",
      "metadata": {
        "id": "2iLSiMxXQK5y",
        "outputId": "b8e7607f-1216-47c6-b990-91083474b34a",
        "colab": {
          "base_uri": "https://localhost:8080/"
        }
      },
      "source": [
        "review_data['Score'][0]"
      ],
      "execution_count": null,
      "outputs": [
        {
          "output_type": "execute_result",
          "data": {
            "text/plain": [
              "5"
            ]
          },
          "metadata": {
            "tags": []
          },
          "execution_count": 54
        }
      ]
    },
    {
      "cell_type": "code",
      "metadata": {
        "id": "grLY2KS4Ue0C",
        "outputId": "10d0e6ef-b993-4375-a0c0-514947c7e462",
        "colab": {
          "base_uri": "https://localhost:8080/"
        }
      },
      "source": [
        "for i in range(0,2999):\n",
        "  if review_data['Score'][i] >= 3:\n",
        "    review_data['Score'][i]='Positive'\n",
        "  else:\n",
        "    review_data['Score'][i]='Negative'"
      ],
      "execution_count": null,
      "outputs": [
        {
          "output_type": "stream",
          "text": [
            "/usr/local/lib/python3.6/dist-packages/ipykernel_launcher.py:3: SettingWithCopyWarning: \n",
            "A value is trying to be set on a copy of a slice from a DataFrame\n",
            "\n",
            "See the caveats in the documentation: https://pandas.pydata.org/pandas-docs/stable/user_guide/indexing.html#returning-a-view-versus-a-copy\n",
            "  This is separate from the ipykernel package so we can avoid doing imports until\n",
            "/usr/local/lib/python3.6/dist-packages/pandas/core/indexing.py:670: SettingWithCopyWarning: \n",
            "A value is trying to be set on a copy of a slice from a DataFrame\n",
            "\n",
            "See the caveats in the documentation: https://pandas.pydata.org/pandas-docs/stable/user_guide/indexing.html#returning-a-view-versus-a-copy\n",
            "  iloc._setitem_with_indexer(indexer, value)\n",
            "/usr/local/lib/python3.6/dist-packages/pandas/core/series.py:1008: SettingWithCopyWarning: \n",
            "A value is trying to be set on a copy of a slice from a DataFrame\n",
            "\n",
            "See the caveats in the documentation: https://pandas.pydata.org/pandas-docs/stable/user_guide/indexing.html#returning-a-view-versus-a-copy\n",
            "  self.loc[key] = value\n",
            "/usr/local/lib/python3.6/dist-packages/IPython/core/interactiveshell.py:2882: SettingWithCopyWarning: \n",
            "A value is trying to be set on a copy of a slice from a DataFrame\n",
            "\n",
            "See the caveats in the documentation: https://pandas.pydata.org/pandas-docs/stable/user_guide/indexing.html#returning-a-view-versus-a-copy\n",
            "  exec(code_obj, self.user_global_ns, self.user_ns)\n"
          ],
          "name": "stderr"
        }
      ]
    },
    {
      "cell_type": "code",
      "metadata": {
        "id": "e7vgOk7yVKyl",
        "outputId": "da6766ca-12c7-4560-b914-5d44a829771f",
        "colab": {
          "base_uri": "https://localhost:8080/",
          "height": 204
        }
      },
      "source": [
        "review_data.head()"
      ],
      "execution_count": null,
      "outputs": [
        {
          "output_type": "execute_result",
          "data": {
            "text/html": [
              "<div>\n",
              "<style scoped>\n",
              "    .dataframe tbody tr th:only-of-type {\n",
              "        vertical-align: middle;\n",
              "    }\n",
              "\n",
              "    .dataframe tbody tr th {\n",
              "        vertical-align: top;\n",
              "    }\n",
              "\n",
              "    .dataframe thead th {\n",
              "        text-align: right;\n",
              "    }\n",
              "</style>\n",
              "<table border=\"1\" class=\"dataframe\">\n",
              "  <thead>\n",
              "    <tr style=\"text-align: right;\">\n",
              "      <th></th>\n",
              "      <th>UserId</th>\n",
              "      <th>ProductId</th>\n",
              "      <th>Score</th>\n",
              "      <th>Summary</th>\n",
              "      <th>Text</th>\n",
              "    </tr>\n",
              "  </thead>\n",
              "  <tbody>\n",
              "    <tr>\n",
              "      <th>0</th>\n",
              "      <td>A3SGXH7AUHU8GW</td>\n",
              "      <td>B001E4KFG0</td>\n",
              "      <td>Positive</td>\n",
              "      <td>Good Quality Dog Food</td>\n",
              "      <td>I have bought several of the Vitality canned d...</td>\n",
              "    </tr>\n",
              "    <tr>\n",
              "      <th>1</th>\n",
              "      <td>A1D87F6ZCVE5NK</td>\n",
              "      <td>B00813GRG4</td>\n",
              "      <td>Negative</td>\n",
              "      <td>Not as Advertised</td>\n",
              "      <td>Product arrived labeled as Jumbo Salted Peanut...</td>\n",
              "    </tr>\n",
              "    <tr>\n",
              "      <th>2</th>\n",
              "      <td>ABXLMWJIXXAIN</td>\n",
              "      <td>B000LQOCH0</td>\n",
              "      <td>Positive</td>\n",
              "      <td>\"Delight\" says it all</td>\n",
              "      <td>This is a confection that has been around a fe...</td>\n",
              "    </tr>\n",
              "    <tr>\n",
              "      <th>3</th>\n",
              "      <td>A395BORC6FGVXV</td>\n",
              "      <td>B000UA0QIQ</td>\n",
              "      <td>Negative</td>\n",
              "      <td>Cough Medicine</td>\n",
              "      <td>If you are looking for the secret ingredient i...</td>\n",
              "    </tr>\n",
              "    <tr>\n",
              "      <th>4</th>\n",
              "      <td>A1UQRSCLF8GW1T</td>\n",
              "      <td>B006K2ZZ7K</td>\n",
              "      <td>Positive</td>\n",
              "      <td>Great taffy</td>\n",
              "      <td>Great taffy at a great price.  There was a wid...</td>\n",
              "    </tr>\n",
              "  </tbody>\n",
              "</table>\n",
              "</div>"
            ],
            "text/plain": [
              "           UserId  ...                                               Text\n",
              "0  A3SGXH7AUHU8GW  ...  I have bought several of the Vitality canned d...\n",
              "1  A1D87F6ZCVE5NK  ...  Product arrived labeled as Jumbo Salted Peanut...\n",
              "2   ABXLMWJIXXAIN  ...  This is a confection that has been around a fe...\n",
              "3  A395BORC6FGVXV  ...  If you are looking for the secret ingredient i...\n",
              "4  A1UQRSCLF8GW1T  ...  Great taffy at a great price.  There was a wid...\n",
              "\n",
              "[5 rows x 5 columns]"
            ]
          },
          "metadata": {
            "tags": []
          },
          "execution_count": 93
        }
      ]
    },
    {
      "cell_type": "code",
      "metadata": {
        "id": "fy3mId_JQMfZ"
      },
      "source": [
        "def data_clean( rev, remove_stopwords=True): \n",
        "\n",
        "    new_text = re.sub(\"[^a-zA-Z]\",\" \", rev) #replace regex apart from english alphabets with ' '\n",
        "    words = new_text.lower().split()\n",
        "    if remove_stopwords:\n",
        "        sts = set(stopwords.words(\"english\"))\n",
        "        words = [w for w in words if not w in sts]\n",
        "    ary=[]\n",
        "    eng_stemmer = english_stemmer \n",
        "    for word in words:\n",
        "        ary.append(eng_stemmer.stem(word))  #stem the words to retain the root/base word\n",
        "    return(ary)"
      ],
      "execution_count": null,
      "outputs": []
    },
    {
      "cell_type": "code",
      "metadata": {
        "id": "ZT2ERUJjQPqQ"
      },
      "source": [
        "clean_reviewData = []\n",
        "for rev in review_data['Text']:\n",
        "    clean_reviewData.append( \" \".join(data_clean(rev)))\n",
        "\n",
        "clean_summaryData = []\n",
        "for rev in review_data['Summary']:\n",
        "    clean_summaryData.append( \" \".join(data_clean(rev)))"
      ],
      "execution_count": null,
      "outputs": []
    },
    {
      "cell_type": "code",
      "metadata": {
        "id": "-GtgDSWsQR4p",
        "outputId": "bfef8a7f-cb8e-4fc7-f3e1-f67586da6a6a",
        "colab": {
          "base_uri": "https://localhost:8080/"
        }
      },
      "source": [
        "Data = review_data[['Summary','Score']]\n",
        "Data['Score']= Data['Score'].map(lambda x:1 if x=='Positive' else 0)\n",
        "\n",
        "Data_x= Data['Summary']\n",
        "Data_y= Data['Score']"
      ],
      "execution_count": null,
      "outputs": [
        {
          "output_type": "stream",
          "text": [
            "/usr/local/lib/python3.6/dist-packages/ipykernel_launcher.py:2: SettingWithCopyWarning: \n",
            "A value is trying to be set on a copy of a slice from a DataFrame.\n",
            "Try using .loc[row_indexer,col_indexer] = value instead\n",
            "\n",
            "See the caveats in the documentation: https://pandas.pydata.org/pandas-docs/stable/user_guide/indexing.html#returning-a-view-versus-a-copy\n",
            "  \n"
          ],
          "name": "stderr"
        }
      ]
    },
    {
      "cell_type": "code",
      "metadata": {
        "id": "4IRvSSTSWV09",
        "outputId": "b6589298-7371-42d3-c6c5-79b338cb3dc0",
        "colab": {
          "base_uri": "https://localhost:8080/"
        }
      },
      "source": [
        "#collect all words in a single list\n",
        "list_ = []\n",
        "for i in Data_x:\n",
        "  list_ += i\n",
        "list_ = ''.join(list_)\n",
        "allWords=list_.split()\n",
        "print(len(allWords))\n",
        "# print(allWords)"
      ],
      "execution_count": null,
      "outputs": [
        {
          "output_type": "stream",
          "text": [
            "9218\n"
          ],
          "name": "stdout"
        }
      ]
    },
    {
      "cell_type": "code",
      "metadata": {
        "id": "L8qPIUI8Wwsq"
      },
      "source": [
        "vocabulary = set(allWords)\n",
        "vocab_list = list(vocabulary)\n",
        "# print(vocab_list)"
      ],
      "execution_count": null,
      "outputs": []
    },
    {
      "cell_type": "code",
      "metadata": {
        "id": "K8nH9hUOW6aZ"
      },
      "source": [
        "freq_dict = {}\n",
        "for word in vocab_list:\n",
        "  freq_dict[word]=allWords.count(word)"
      ],
      "execution_count": null,
      "outputs": []
    },
    {
      "cell_type": "code",
      "metadata": {
        "id": "2zVdfQrbYd33"
      },
      "source": [
        "#create rank list of frequent words upto 5000\n",
        "from operator import itemgetter\n",
        "sorted_list= []\n",
        "for k, v in sorted(freq_dict.items(), key=itemgetter(1),reverse=True):\n",
        "    sorted_list.append(k)"
      ],
      "execution_count": null,
      "outputs": []
    },
    {
      "cell_type": "code",
      "metadata": {
        "id": "tpwYbfYLYuTd",
        "outputId": "a987ac25-4c73-4bdd-a652-82dde7b4947c",
        "colab": {
          "base_uri": "https://localhost:8080/",
          "height": 37
        }
      },
      "source": [
        "Data_x[1]"
      ],
      "execution_count": null,
      "outputs": [
        {
          "output_type": "execute_result",
          "data": {
            "application/vnd.google.colaboratory.intrinsic+json": {
              "type": "string"
            },
            "text/plain": [
              "'Not as Advertised'"
            ]
          },
          "metadata": {
            "tags": []
          },
          "execution_count": 170
        }
      ]
    },
    {
      "cell_type": "code",
      "metadata": {
        "id": "f69dFqXAY3bD"
      },
      "source": [
        "top_words = 3000\n",
        "sorted_list = sorted_list[:3000]"
      ],
      "execution_count": null,
      "outputs": []
    },
    {
      "cell_type": "code",
      "metadata": {
        "id": "c5tQhTNRZ1CB"
      },
      "source": [
        "#Transforming Sentences of words to sequence of rank number of words\n",
        "final_x = []\n",
        "for sent in Data_x:\n",
        "  lis=[]\n",
        "  for word in sent.split():\n",
        "    if word in sorted_list:\n",
        "      lis.append(sorted_list.index(word)+1)\n",
        "  final_x.append(lis)"
      ],
      "execution_count": null,
      "outputs": []
    },
    {
      "cell_type": "code",
      "metadata": {
        "id": "bLUbuV2vaEu9"
      },
      "source": [
        "Xtrain,Xtest,Ytrain,Ytest = train_test_split(final_x, Data_y, test_size=0.4)"
      ],
      "execution_count": null,
      "outputs": []
    },
    {
      "cell_type": "code",
      "metadata": {
        "id": "bb-OAOW0aKz1",
        "outputId": "6d0f2b17-4cf3-413c-c51b-3542c1fac2fb",
        "colab": {
          "base_uri": "https://localhost:8080/"
        }
      },
      "source": [
        "print(Xtrain[1])"
      ],
      "execution_count": null,
      "outputs": [
        {
          "output_type": "stream",
          "text": [
            "[107, 3, 253, 1498, 5, 45]\n"
          ],
          "name": "stdout"
        }
      ]
    },
    {
      "cell_type": "code",
      "metadata": {
        "id": "JoDI-RiCacqt"
      },
      "source": [
        "#Applying LSTM Model on dataset\n",
        "from keras.preprocessing import sequence\n",
        "max_review_length=600\n",
        "Xtrain = sequence.pad_sequences(Xtrain, maxlen=max_review_length)\n",
        "Xtest= sequence.pad_sequences(Xtest, maxlen=max_review_length)"
      ],
      "execution_count": null,
      "outputs": []
    },
    {
      "cell_type": "code",
      "metadata": {
        "id": "T9ShYD7XanTC",
        "outputId": "f53f833c-df90-4168-8f59-03909874098a",
        "colab": {
          "base_uri": "https://localhost:8080/"
        }
      },
      "source": [
        "print(Xtest[1])"
      ],
      "execution_count": null,
      "outputs": [
        {
          "output_type": "stream",
          "text": [
            "[0 0 0 0 0 0 0 0 0 0 0 0 0 0 0 0 0 0 0 0 0 0 0 0 0 0 0 0 0 0 0 0 0 0 0 0 0\n",
            " 0 0 0 0 0 0 0 0 0 0 0 0 0 0 0 0 0 0 0 0 0 0 0 0 0 0 0 0 0 0 0 0 0 0 0 0 0\n",
            " 0 0 0 0 0 0 0 0 0 0 0 0 0 0 0 0 0 0 0 0 0 0 0 0 0 0 0 0 0 0 0 0 0 0 0 0 0\n",
            " 0 0 0 0 0 0 0 0 0 0 0 0 0 0 0 0 0 0 0 0 0 0 0 0 0 0 0 0 0 0 0 0 0 0 0 0 0\n",
            " 0 0 0 0 0 0 0 0 0 0 0 0 0 0 0 0 0 0 0 0 0 0 0 0 0 0 0 0 0 0 0 0 0 0 0 0 0\n",
            " 0 0 0 0 0 0 0 0 0 0 0 0 0 0 0 0 0 0 0 0 0 0 0 0 0 0 0 0 0 0 0 0 0 0 0 0 0\n",
            " 0 0 0 0 0 0 0 0 0 0 0 0 0 0 0 0 0 0 0 0 0 0 0 0 0 0 0 0 0 0 0 0 0 0 0 0 0\n",
            " 0 0 0 0 0 0 0 0 0 0 0 0 0 0 0 0 0 0 0 0 0 0 0 0 0 0 0 0 0 0 0 0 0 0 0 0 0\n",
            " 0 0 0 0 0 0 0 0 0 0 0 0 0 0 0 0 0 0 0 0 0 0 0 0 0 0 0 0 0 0 0 0 0 0 0 0 0\n",
            " 0 0 0 0 0 0 0 0 0 0 0 0 0 0 0 0 0 0 0 0 0 0 0 0 0 0 0 0 0 0 0 0 0 0 0 0 0\n",
            " 0 0 0 0 0 0 0 0 0 0 0 0 0 0 0 0 0 0 0 0 0 0 0 0 0 0 0 0 0 0 0 0 0 0 0 0 0\n",
            " 0 0 0 0 0 0 0 0 0 0 0 0 0 0 0 0 0 0 0 0 0 0 0 0 0 0 0 0 0 0 0 0 0 0 0 0 0\n",
            " 0 0 0 0 0 0 0 0 0 0 0 0 0 0 0 0 0 0 0 0 0 0 0 0 0 0 0 0 0 0 0 0 0 0 0 0 0\n",
            " 0 0 0 0 0 0 0 0 0 0 0 0 0 0 0 0 0 0 0 0 0 0 0 0 0 0 0 0 0 0 0 0 0 0 0 0 0\n",
            " 0 0 0 0 0 0 0 0 0 0 0 0 0 0 0 0 0 0 0 0 0 0 0 0 0 0 0 0 0 0 0 0 0 0 0 0 0\n",
            " 0 0 0 0 0 0 0 0 0 0 0 0 0 0 0 0 0 0 0 0 0 0 0 0 0 0 0 0 0 0 0 0 0 0 0 0 0\n",
            " 0 0 0 0 0 0 0 0]\n"
          ],
          "name": "stdout"
        }
      ]
    },
    {
      "cell_type": "code",
      "metadata": {
        "id": "6mTZUiNxap3B"
      },
      "source": [
        "import numpy\n",
        "from keras.datasets import imdb\n",
        "from keras.models import Sequential\n",
        "from keras.layers import Dense\n",
        "from keras.layers import LSTM,Dropout\n",
        "from keras.layers.embeddings import Embedding\n",
        "from keras.preprocessing import sequence"
      ],
      "execution_count": null,
      "outputs": []
    },
    {
      "cell_type": "code",
      "metadata": {
        "id": "KkGnSTPgasvZ",
        "outputId": "36f30a94-6f82-4293-9710-027f1967fa15",
        "colab": {
          "base_uri": "https://localhost:8080/"
        }
      },
      "source": [
        "#creating the model 1\n",
        "embedding_vecor_length = 32\n",
        "model = Sequential()\n",
        "model.add(Embedding(top_words+1, embedding_vecor_length, input_length=max_review_length))\n",
        "model.add(LSTM(100))\n",
        "model.add(Dense(1, activation='sigmoid'))\n",
        "model.compile(loss='binary_crossentropy', optimizer='adam', metrics=['accuracy'])\n",
        "print(model.summary())"
      ],
      "execution_count": null,
      "outputs": [
        {
          "output_type": "stream",
          "text": [
            "Model: \"sequential_11\"\n",
            "_________________________________________________________________\n",
            "Layer (type)                 Output Shape              Param #   \n",
            "=================================================================\n",
            "embedding_11 (Embedding)     (None, 600, 32)           96032     \n",
            "_________________________________________________________________\n",
            "lstm_13 (LSTM)               (None, 100)               53200     \n",
            "_________________________________________________________________\n",
            "dense_11 (Dense)             (None, 1)                 101       \n",
            "=================================================================\n",
            "Total params: 149,333\n",
            "Trainable params: 149,333\n",
            "Non-trainable params: 0\n",
            "_________________________________________________________________\n",
            "None\n"
          ],
          "name": "stdout"
        }
      ]
    },
    {
      "cell_type": "code",
      "metadata": {
        "id": "TOkWhan9a2rw",
        "outputId": "70c5c798-add9-4eab-9355-8f5e7db1342f",
        "colab": {
          "base_uri": "https://localhost:8080/"
        }
      },
      "source": [
        "history=  model.fit(Xtrain, Ytrain,\n",
        "          batch_size=64,\n",
        "          epochs=10,\n",
        "          verbose=1,\n",
        "          validation_data=(Xtest, Ytest),shuffle=True)# Final evaluation of the model\n",
        "scores = model.evaluate(Xtest, Ytest, verbose=0)\n",
        "print(\"Accuracy: %.2f%%\" % (scores[1]*100))"
      ],
      "execution_count": null,
      "outputs": [
        {
          "output_type": "stream",
          "text": [
            "Epoch 1/10\n",
            "29/29 [==============================] - 1s 51ms/step - loss: 0.1062 - accuracy: 0.9594 - val_loss: 0.6941 - val_accuracy: 0.8325\n",
            "Epoch 2/10\n",
            "29/29 [==============================] - 1s 49ms/step - loss: 0.1061 - accuracy: 0.9594 - val_loss: 0.7134 - val_accuracy: 0.8308\n",
            "Epoch 3/10\n",
            "29/29 [==============================] - 1s 50ms/step - loss: 0.1080 - accuracy: 0.9628 - val_loss: 0.6471 - val_accuracy: 0.8308\n",
            "Epoch 4/10\n",
            "29/29 [==============================] - 1s 49ms/step - loss: 0.1072 - accuracy: 0.9589 - val_loss: 0.6776 - val_accuracy: 0.8325\n",
            "Epoch 5/10\n",
            "29/29 [==============================] - 1s 49ms/step - loss: 0.1046 - accuracy: 0.9605 - val_loss: 0.7069 - val_accuracy: 0.8333\n",
            "Epoch 6/10\n",
            "29/29 [==============================] - 1s 49ms/step - loss: 0.1023 - accuracy: 0.9600 - val_loss: 0.7231 - val_accuracy: 0.8333\n",
            "Epoch 7/10\n",
            "29/29 [==============================] - 1s 50ms/step - loss: 0.1011 - accuracy: 0.9605 - val_loss: 0.7635 - val_accuracy: 0.8300\n",
            "Epoch 8/10\n",
            "29/29 [==============================] - 1s 50ms/step - loss: 0.0994 - accuracy: 0.9633 - val_loss: 0.7789 - val_accuracy: 0.8308\n",
            "Epoch 9/10\n",
            "29/29 [==============================] - 1s 49ms/step - loss: 0.0994 - accuracy: 0.9633 - val_loss: 0.7971 - val_accuracy: 0.8300\n",
            "Epoch 10/10\n",
            "29/29 [==============================] - 1s 49ms/step - loss: 0.1030 - accuracy: 0.9622 - val_loss: 0.7274 - val_accuracy: 0.8158\n",
            "Accuracy: 81.58%\n"
          ],
          "name": "stdout"
        }
      ]
    },
    {
      "cell_type": "code",
      "metadata": {
        "id": "jwB_J2_MbKrV",
        "outputId": "3e889f5a-9f9c-4365-9781-1490675382f2",
        "colab": {
          "base_uri": "https://localhost:8080/"
        }
      },
      "source": [
        "score= model.evaluate(Xtest, Ytest, verbose=0)\n",
        "print('Test score: ',score[0])\n",
        "print('Test accuracy: ',score[1])"
      ],
      "execution_count": null,
      "outputs": [
        {
          "output_type": "stream",
          "text": [
            "Test score:  0.44535720348358154\n",
            "Test accuracy:  0.8358333110809326\n"
          ],
          "name": "stdout"
        }
      ]
    },
    {
      "cell_type": "code",
      "metadata": {
        "id": "HYnPSwxha7h5"
      },
      "source": [
        "def plt_dynamic(x, vy, ty, ax, colors=['b']):\n",
        "    ax.plot(x, vy, 'b', label=\"Validation Loss\")\n",
        "    ax.plot(x, ty, 'r', label=\"Train Loss\")\n",
        "    plt.legend()\n",
        "    plt.grid()\n",
        "    fig.canvas.draw()"
      ],
      "execution_count": null,
      "outputs": []
    },
    {
      "cell_type": "code",
      "metadata": {
        "id": "cIoQqekcbTlU",
        "outputId": "b8cf065d-3444-4e74-b39e-b9137708045c",
        "colab": {
          "base_uri": "https://localhost:8080/"
        }
      },
      "source": [
        "hist_dict = history.history\n",
        "hist_dict.keys()"
      ],
      "execution_count": null,
      "outputs": [
        {
          "output_type": "execute_result",
          "data": {
            "text/plain": [
              "dict_keys(['loss', 'accuracy', 'val_loss', 'val_accuracy'])"
            ]
          },
          "metadata": {
            "tags": []
          },
          "execution_count": 218
        }
      ]
    },
    {
      "cell_type": "code",
      "metadata": {
        "id": "OscVpEPIbH7f",
        "outputId": "de73d659-f77f-43e6-c1ae-1c263e727391",
        "colab": {
          "base_uri": "https://localhost:8080/",
          "height": 279
        }
      },
      "source": [
        "fig,ax = plt.subplots(1,1)\n",
        "ax.set_xlabel('epoch') ; ax.set_ylabel('Categorical Crossentropy Loss')\n",
        "x = list(range(1,11))\n",
        "vy = hist_dict['val_loss']\n",
        "ty = hist_dict['loss']\n",
        "plt_dynamic(x, vy, ty, ax)"
      ],
      "execution_count": null,
      "outputs": [
        {
          "output_type": "display_data",
          "data": {
            "image/png": "[encoded data removed]",
            "text/plain": [
              "<Figure size 432x288 with 1 Axes>"
            ]
          },
          "metadata": {
            "tags": [],
            "needs_background": "light"
          }
        }
      ]
    },
    {
      "cell_type": "code",
      "metadata": {
        "id": "yJyZFUUJbPUF",
        "outputId": "30b04dfe-d4eb-4b91-bb14-2fdffaba2a85",
        "colab": {
          "base_uri": "https://localhost:8080/"
        }
      },
      "source": [
        "#model 2\n",
        "embedding_vecor_length = 32\n",
        "model2 = Sequential()\n",
        "model2.add(Embedding(top_words+1, embedding_vecor_length, input_length=max_review_length))\n",
        "model2.add(LSTM(100,return_sequences=True))\n",
        "model2.add(Dropout(0.25))\n",
        "model2.add(LSTM(80))\n",
        "model2.add(Dropout(0.5))\n",
        "model2.add(Dense(1, activation='sigmoid'))\n",
        "model2.compile(loss='binary_crossentropy', optimizer='adam', metrics=['accuracy'])\n",
        "print(model2.summary())"
      ],
      "execution_count": null,
      "outputs": [
        {
          "output_type": "stream",
          "text": [
            "Model: \"sequential_9\"\n",
            "_________________________________________________________________\n",
            "Layer (type)                 Output Shape              Param #   \n",
            "=================================================================\n",
            "embedding_9 (Embedding)      (None, 60, 32)            96032     \n",
            "_________________________________________________________________\n",
            "lstm_10 (LSTM)               (None, 60, 100)           53200     \n",
            "_________________________________________________________________\n",
            "dropout_2 (Dropout)          (None, 60, 100)           0         \n",
            "_________________________________________________________________\n",
            "lstm_11 (LSTM)               (None, 80)                57920     \n",
            "_________________________________________________________________\n",
            "dropout_3 (Dropout)          (None, 80)                0         \n",
            "_________________________________________________________________\n",
            "dense_9 (Dense)              (None, 1)                 81        \n",
            "=================================================================\n",
            "Total params: 207,233\n",
            "Trainable params: 207,233\n",
            "Non-trainable params: 0\n",
            "_________________________________________________________________\n",
            "None\n"
          ],
          "name": "stdout"
        }
      ]
    },
    {
      "cell_type": "code",
      "metadata": {
        "id": "VsZCHynBpDKy",
        "outputId": "cefddf68-ec35-4e6b-cbe7-4cc0add62e0b",
        "colab": {
          "base_uri": "https://localhost:8080/"
        }
      },
      "source": [
        "history2=  model2.fit(Xtrain, Ytrain,\n",
        "          batch_size=64,\n",
        "          epochs=10,\n",
        "          verbose=1,\n",
        "          validation_data=(Xtest, Ytest))# Final evaluation of the model\n",
        "scores = model2.evaluate(Xtest, Ytest, verbose=0)\n",
        "print(\"Accuracy: %.2f%%\" % (scores[1]*100))"
      ],
      "execution_count": null,
      "outputs": [
        {
          "output_type": "stream",
          "text": [
            "Epoch 1/10\n",
            "38/38 [==============================] - 1s 29ms/step - loss: 0.4722 - accuracy: 0.8458 - val_loss: 0.4427 - val_accuracy: 0.8383\n",
            "Epoch 2/10\n",
            "38/38 [==============================] - 0s 13ms/step - loss: 0.4205 - accuracy: 0.8487 - val_loss: 0.4437 - val_accuracy: 0.8383\n",
            "Epoch 3/10\n",
            "38/38 [==============================] - 1s 13ms/step - loss: 0.4156 - accuracy: 0.8487 - val_loss: 0.4257 - val_accuracy: 0.8383\n",
            "Epoch 4/10\n",
            "38/38 [==============================] - 0s 13ms/step - loss: 0.3566 - accuracy: 0.8566 - val_loss: 0.3965 - val_accuracy: 0.8383\n",
            "Epoch 5/10\n",
            "38/38 [==============================] - 1s 13ms/step - loss: 0.2652 - accuracy: 0.8904 - val_loss: 0.4331 - val_accuracy: 0.8183\n",
            "Epoch 6/10\n",
            "38/38 [==============================] - 1s 13ms/step - loss: 0.2253 - accuracy: 0.9037 - val_loss: 0.4779 - val_accuracy: 0.8267\n",
            "Epoch 7/10\n",
            "38/38 [==============================] - 1s 13ms/step - loss: 0.1989 - accuracy: 0.9183 - val_loss: 0.5062 - val_accuracy: 0.8333\n",
            "Epoch 8/10\n",
            "38/38 [==============================] - 0s 13ms/step - loss: 0.1759 - accuracy: 0.9321 - val_loss: 0.5428 - val_accuracy: 0.8417\n",
            "Epoch 9/10\n",
            "38/38 [==============================] - 0s 13ms/step - loss: 0.1703 - accuracy: 0.9362 - val_loss: 0.5429 - val_accuracy: 0.8467\n",
            "Epoch 10/10\n",
            "38/38 [==============================] - 0s 13ms/step - loss: 0.1600 - accuracy: 0.9416 - val_loss: 0.5751 - val_accuracy: 0.8367\n",
            "Accuracy: 83.67%\n"
          ],
          "name": "stdout"
        }
      ]
    },
    {
      "cell_type": "code",
      "metadata": {
        "id": "lU1-8kNCpGvY",
        "outputId": "f3d9a8b1-2032-4541-ecc7-f4fa0f607d26",
        "colab": {
          "base_uri": "https://localhost:8080/"
        }
      },
      "source": [
        "score= model2.evaluate(Xtest, Ytest, verbose=0)\n",
        "print('Test score: ',score[0])\n",
        "print('Test accuracy: ',score[1])"
      ],
      "execution_count": null,
      "outputs": [
        {
          "output_type": "stream",
          "text": [
            "Test score:  0.5750994086265564\n",
            "Test accuracy:  0.8366666436195374\n"
          ],
          "name": "stdout"
        }
      ]
    },
    {
      "cell_type": "code",
      "metadata": {
        "id": "65DgDnBfpd8m"
      },
      "source": [
        "hist_dict = history.history"
      ],
      "execution_count": null,
      "outputs": []
    },
    {
      "cell_type": "code",
      "metadata": {
        "id": "tkbh1xLgpTHX",
        "outputId": "9826de38-c8e3-4ca0-d05f-e402d01da172",
        "colab": {
          "base_uri": "https://localhost:8080/",
          "height": 279
        }
      },
      "source": [
        "fig,ax = plt.subplots(1,1)\n",
        "ax.set_xlabel('epoch') ; ax.set_ylabel('Categorical Crossentropy Loss')\n",
        "x = list(range(1,11))\n",
        "vy = hist_dict['val_loss']\n",
        "ty = hist_dict['loss']\n",
        "plt_dynamic(x, vy, ty, ax)"
      ],
      "execution_count": null,
      "outputs": [
        {
          "output_type": "display_data",
          "data": {
            "image/png": "[encoded data removed]",
            "text/plain": [
              "<Figure size 432x288 with 1 Axes>"
            ]
          },
          "metadata": {
            "tags": [],
            "needs_background": "light"
          }
        }
      ]
    },
    {
      "cell_type": "code",
      "metadata": {
        "id": "9VrO46NbpWJP"
      },
      "source": [
        "#testing model on self made review system\n",
        "sentence = \"Not as Advertised\"\n",
        "clean_reviewData = []\n",
        "clean_reviewData.append( \" \".join(data_clean(sentence)))"
      ],
      "execution_count": null,
      "outputs": []
    },
    {
      "cell_type": "code",
      "metadata": {
        "id": "Nmu2-fZvp50L",
        "outputId": "1a02b551-f83a-4a3d-9c2f-a4f6b29689f6",
        "colab": {
          "base_uri": "https://localhost:8080/"
        }
      },
      "source": [
        "print(clean_reviewData)"
      ],
      "execution_count": null,
      "outputs": [
        {
          "output_type": "stream",
          "text": [
            "['advertis']\n"
          ],
          "name": "stdout"
        }
      ]
    },
    {
      "cell_type": "code",
      "metadata": {
        "id": "zAHAyrdAp9Fb",
        "outputId": "8dfed4f1-57c1-4627-d4b1-27af0b34ccec",
        "colab": {
          "base_uri": "https://localhost:8080/"
        }
      },
      "source": [
        "final_string = []\n",
        "lis=[]\n",
        "for word in sentence.split():\n",
        "  if word in sorted_list:\n",
        "    lis.append(sorted_list.index(word)+1)\n",
        "print(lis)"
      ],
      "execution_count": null,
      "outputs": [
        {
          "output_type": "stream",
          "text": [
            "[65, 16]\n"
          ],
          "name": "stdout"
        }
      ]
    },
    {
      "cell_type": "code",
      "metadata": {
        "id": "eYg1LTiyqYRf",
        "outputId": "5649ed69-c648-4a44-a2f7-14ec06c1b3e2",
        "colab": {
          "base_uri": "https://localhost:8080/"
        }
      },
      "source": [
        "final_string = sequence.pad_sequences([lis], maxlen=max_review_length)\n",
        "what= ''\n",
        "if (round(float(model.predict(final_string)))==1):\n",
        "    what= 'Positive'\n",
        "    acc= round(float(model.predict(final_string))*100,2)\n",
        "else:\n",
        "    what='Negative'\n",
        "    acc= 100- round(float(model.predict(final_string))*100,2)\n",
        "print(what,'review with',acc,'% Accuracy')"
      ],
      "execution_count": null,
      "outputs": [
        {
          "output_type": "stream",
          "text": [
            "Negative review with 70.31 % Accuracy\n"
          ],
          "name": "stdout"
        }
      ]
    },
    {
      "cell_type": "code",
      "metadata": {
        "id": "xjonX9BNqbEu"
      },
      "source": [
        ""
      ],
      "execution_count": null,
      "outputs": []
    }
  ]
}