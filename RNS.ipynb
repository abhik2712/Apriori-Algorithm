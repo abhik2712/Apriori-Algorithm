{
  "nbformat": 4,
  "nbformat_minor": 0,
  "metadata": {
    "colab": {
      "name": "RNS.ipynb",
      "provenance": [],
      "collapsed_sections": [],
      "toc_visible": true
    },
    "kernelspec": {
      "name": "python3",
      "display_name": "Python 3"
    },
    "language_info": {
      "name": "python"
    },
    "accelerator": "TPU"
  },
  "cells": [
    {
      "cell_type": "code",
      "metadata": {
        "id": "6chnKFK7uGVd",
        "colab": {
          "base_uri": "https://localhost:8080/"
        },
        "outputId": "d8158e99-ba39-4dfd-9ed6-5b51daf7432e"
      },
      "source": [
        "import numpy as np\n",
        "import re\n",
        "import string\n",
        "import pandas as pd\n",
        "from math import exp\n",
        "from nltk.corpus import stopwords\n",
        "from wordcloud import WordCloud, STOPWORDS\n",
        "from nltk.stem import WordNetLemmatizer\n",
        "import spacy\n",
        "import nltk\n",
        "nltk.download('stopwords')  \n",
        "nltk.download('wordnet')  \n",
        "import matplotlib.pyplot as plt\n",
        "import seaborn as sns\n",
        "from sklearn.naive_bayes import MultinomialNB\n",
        "from sklearn.linear_model import LogisticRegression\n",
        "from sklearn.ensemble import RandomForestClassifier\n",
        "from sklearn.svm import LinearSVC\n",
        "from sklearn.model_selection import train_test_split, cross_val_score,GridSearchCV, RandomizedSearchCV\n",
        "from sklearn.metrics import confusion_matrix, classification_report, roc_curve, roc_auc_score"
      ],
      "execution_count": null,
      "outputs": [
        {
          "output_type": "stream",
          "text": [
            "[nltk_data] Downloading package stopwords to /root/nltk_data...\n",
            "[nltk_data]   Package stopwords is already up-to-date!\n",
            "[nltk_data] Downloading package wordnet to /root/nltk_data...\n",
            "[nltk_data]   Package wordnet is already up-to-date!\n"
          ],
          "name": "stdout"
        }
      ]
    },
    {
      "cell_type": "code",
      "metadata": {
        "id": "3FtflFaShagC"
      },
      "source": [
        "from pickle import load\n",
        "from numpy import array\n",
        "import keras\n",
        "from keras.preprocessing.text import Tokenizer\n",
        "from keras.preprocessing.sequence import pad_sequences\n",
        "from keras.utils.vis_utils import plot_model\n",
        "from keras.models import Model\n",
        "from keras.layers import Input\n",
        "from keras.layers import Dense\n",
        "from keras.layers import Flatten\n",
        "from keras.layers import Dropout\n",
        "from keras.layers import Embedding\n",
        "from keras.layers.convolutional import Conv1D\n",
        "from keras.layers.convolutional import MaxPooling1D\n",
        "from keras.layers.merge import concatenate\n",
        "from keras.models import Sequential\n",
        "from tensorflow.keras import layers"
      ],
      "execution_count": null,
      "outputs": []
    },
    {
      "cell_type": "code",
      "metadata": {
        "colab": {
          "base_uri": "https://localhost:8080/",
          "height": 313
        },
        "id": "20VCBhFdxp2o",
        "outputId": "96b6e894-e8f4-4776-c5f4-60e6e1060804"
      },
      "source": [
        "df = pd.read_csv('kindle_reviews1.csv')\n",
        "df.head()"
      ],
      "execution_count": null,
      "outputs": [
        {
          "output_type": "execute_result",
          "data": {
            "text/html": [
              "<div>\n",
              "<style scoped>\n",
              "    .dataframe tbody tr th:only-of-type {\n",
              "        vertical-align: middle;\n",
              "    }\n",
              "\n",
              "    .dataframe tbody tr th {\n",
              "        vertical-align: top;\n",
              "    }\n",
              "\n",
              "    .dataframe thead th {\n",
              "        text-align: right;\n",
              "    }\n",
              "</style>\n",
              "<table border=\"1\" class=\"dataframe\">\n",
              "  <thead>\n",
              "    <tr style=\"text-align: right;\">\n",
              "      <th></th>\n",
              "      <th>Unnamed: 0</th>\n",
              "      <th>asin</th>\n",
              "      <th>helpful</th>\n",
              "      <th>overall</th>\n",
              "      <th>reviewText</th>\n",
              "      <th>reviewTime</th>\n",
              "      <th>reviewerID</th>\n",
              "      <th>reviewerName</th>\n",
              "      <th>summary</th>\n",
              "      <th>unixReviewTime</th>\n",
              "    </tr>\n",
              "  </thead>\n",
              "  <tbody>\n",
              "    <tr>\n",
              "      <th>0</th>\n",
              "      <td>0</td>\n",
              "      <td>B000F83SZQ</td>\n",
              "      <td>[0, 0]</td>\n",
              "      <td>5</td>\n",
              "      <td>I enjoy vintage books and movies so I enjoyed ...</td>\n",
              "      <td>05 5, 2014</td>\n",
              "      <td>A1F6404F1VG29J</td>\n",
              "      <td>Avidreader</td>\n",
              "      <td>Nice vintage story</td>\n",
              "      <td>1399248000</td>\n",
              "    </tr>\n",
              "    <tr>\n",
              "      <th>1</th>\n",
              "      <td>1</td>\n",
              "      <td>B000F83SZQ</td>\n",
              "      <td>[2, 2]</td>\n",
              "      <td>4</td>\n",
              "      <td>This book is a reissue of an old one; the auth...</td>\n",
              "      <td>01 6, 2014</td>\n",
              "      <td>AN0N05A9LIJEQ</td>\n",
              "      <td>critters</td>\n",
              "      <td>Different...</td>\n",
              "      <td>1388966400</td>\n",
              "    </tr>\n",
              "    <tr>\n",
              "      <th>2</th>\n",
              "      <td>2</td>\n",
              "      <td>B000F83SZQ</td>\n",
              "      <td>[2, 2]</td>\n",
              "      <td>4</td>\n",
              "      <td>This was a fairly interesting read.  It had ol...</td>\n",
              "      <td>04 4, 2014</td>\n",
              "      <td>A795DMNCJILA6</td>\n",
              "      <td>dot</td>\n",
              "      <td>Oldie</td>\n",
              "      <td>1396569600</td>\n",
              "    </tr>\n",
              "    <tr>\n",
              "      <th>3</th>\n",
              "      <td>3</td>\n",
              "      <td>B000F83SZQ</td>\n",
              "      <td>[1, 1]</td>\n",
              "      <td>5</td>\n",
              "      <td>I'd never read any of the Amy Brewster mysteri...</td>\n",
              "      <td>02 19, 2014</td>\n",
              "      <td>A1FV0SX13TWVXQ</td>\n",
              "      <td>Elaine H. Turley \"Montana Songbird\"</td>\n",
              "      <td>I really liked it.</td>\n",
              "      <td>1392768000</td>\n",
              "    </tr>\n",
              "    <tr>\n",
              "      <th>4</th>\n",
              "      <td>4</td>\n",
              "      <td>B000F83SZQ</td>\n",
              "      <td>[0, 1]</td>\n",
              "      <td>4</td>\n",
              "      <td>If you like period pieces - clothing, lingo, y...</td>\n",
              "      <td>03 19, 2014</td>\n",
              "      <td>A3SPTOKDG7WBLN</td>\n",
              "      <td>Father Dowling Fan</td>\n",
              "      <td>Period Mystery</td>\n",
              "      <td>1395187200</td>\n",
              "    </tr>\n",
              "  </tbody>\n",
              "</table>\n",
              "</div>"
            ],
            "text/plain": [
              "   Unnamed: 0        asin  ...             summary  unixReviewTime\n",
              "0           0  B000F83SZQ  ...  Nice vintage story      1399248000\n",
              "1           1  B000F83SZQ  ...        Different...      1388966400\n",
              "2           2  B000F83SZQ  ...               Oldie      1396569600\n",
              "3           3  B000F83SZQ  ...  I really liked it.      1392768000\n",
              "4           4  B000F83SZQ  ...      Period Mystery      1395187200\n",
              "\n",
              "[5 rows x 10 columns]"
            ]
          },
          "metadata": {
            "tags": []
          },
          "execution_count": 3
        }
      ]
    },
    {
      "cell_type": "code",
      "metadata": {
        "id": "3MHDppvDQIwK"
      },
      "source": [
        "nlp = spacy.load('en', disable=['parser', 'ner'])\n",
        "df['new_reviews'] = df['reviewText'].apply(lambda x: \" \".join(x.lower() for x in x.split()))\n",
        "# df['new_reviews'].head()"
      ],
      "execution_count": null,
      "outputs": []
    },
    {
      "cell_type": "code",
      "metadata": {
        "id": "gwI9DxQUyCen"
      },
      "source": [
        "#changing the reviewTime column to be of datetime type\n",
        "df.reviewTime = pd.to_datetime(df.reviewTime)\n",
        "# df.head(5)\n",
        "#creating a column with just the year\n",
        "df['Year'] = df.reviewTime.dt.year\n",
        "# df.head(5)"
      ],
      "execution_count": null,
      "outputs": []
    },
    {
      "cell_type": "code",
      "metadata": {
        "colab": {
          "base_uri": "https://localhost:8080/",
          "height": 311
        },
        "id": "ZDjEh-ZZyYcn",
        "outputId": "41c96a73-e89e-467c-dba3-e0e1d56d9b2a"
      },
      "source": [
        "df.Year.value_counts().sort_index().plot(kind = 'bar')\n",
        "plt.title('Number of Reviews per Year')\n",
        "plt.xlabel('Year')\n",
        "plt.ylabel('Number of Reviews')\n",
        "plt.show()"
      ],
      "execution_count": null,
      "outputs": [
        {
          "output_type": "display_data",
          "data": {
            "image/png": "[encoded data removed]",
            "text/plain": [
              "<Figure size 432x288 with 1 Axes>"
            ]
          },
          "metadata": {
            "tags": [],
            "needs_background": "light"
          }
        }
      ]
    },
    {
      "cell_type": "code",
      "metadata": {
        "colab": {
          "base_uri": "https://localhost:8080/",
          "height": 367
        },
        "id": "8lQB9rJ1yh_s",
        "outputId": "888e0356-1eb1-440c-bba9-57e187ba93ed"
      },
      "source": [
        "# top 10 users based on reviews\n",
        "df.reviewerID.value_counts().head(10).plot(kind = 'bar')\n",
        "plt.xticks(rotation = 80)\n",
        "plt.xlabel('UserID')\n",
        "plt.ylabel('Number of Reviews')\n",
        "plt.show()"
      ],
      "execution_count": null,
      "outputs": [
        {
          "output_type": "display_data",
          "data": {
            "image/png": "[encoded data removed]",
            "text/plain": [
              "<Figure size 432x288 with 1 Axes>"
            ]
          },
          "metadata": {
            "tags": [],
            "needs_background": "light"
          }
        }
      ]
    },
    {
      "cell_type": "code",
      "metadata": {
        "colab": {
          "base_uri": "https://localhost:8080/",
          "height": 348
        },
        "id": "d3F0fokd0K7J",
        "outputId": "ba39d5c8-1832-470f-e727-2f42276d7591"
      },
      "source": [
        "# top 10 users based on reviews\n",
        "df.asin.value_counts().head(10).plot(kind = 'bar')\n",
        "plt.xticks(rotation = 80)\n",
        "plt.xlabel('ItemID')\n",
        "plt.ylabel('Number of Reviews')\n",
        "plt.show()"
      ],
      "execution_count": null,
      "outputs": [
        {
          "output_type": "display_data",
          "data": {
            "image/png": "[encoded data removed]",
            "text/plain": [
              "<Figure size 432x288 with 1 Axes>"
            ]
          },
          "metadata": {
            "tags": [],
            "needs_background": "light"
          }
        }
      ]
    },
    {
      "cell_type": "code",
      "metadata": {
        "id": "Wv47ahdoezge"
      },
      "source": [
        "#TEXT PRE-PROCESSING\n",
        "punc = str.maketrans('', '', string.punctuation)\n",
        "#apply the empty mapping table to each element of the series where x is the review for one document.\n",
        "df['new_reviews'] = df['new_reviews'].apply(lambda x : ' '.join(word.translate(punc) for word in x.split()))\n",
        "\n",
        "#removing words that is non alpha\n",
        "df['new_reviews'] = df['new_reviews'].apply(lambda x: ' '.join(word for word in x.split() if word.isalpha()))\n",
        "\n",
        "#making all words to be lowercase\n",
        "df['new_reviews'] = df['new_reviews'].apply(lambda x: ' '.join(word.lower() for word in x.split()))\n",
        "\n",
        "#list of stop words\n",
        "stop = stopwords.words('english')\n",
        "\n",
        "#removing the stop words\n",
        "df['new_reviews'] = df['new_reviews'].apply(lambda x : ' '.join(word for word in x.split() if word not in stop))\n",
        "\n",
        "#Lemmatize words to reduce them to their root form. Note: added the pos = 'v' to reduce the incoming word to verb root\n",
        "lem = WordNetLemmatizer()\n",
        "df['new_reviews'] = df['new_reviews'].apply(lambda x : ' '.join(lem.lemmatize(word, pos = 'v') for word in x.split()))"
      ],
      "execution_count": null,
      "outputs": []
    },
    {
      "cell_type": "code",
      "metadata": {
        "colab": {
          "base_uri": "https://localhost:8080/"
        },
        "id": "nAWbsc97fnhl",
        "outputId": "bc84ea21-39ef-4fd6-e48e-5da4b18e6d5c"
      },
      "source": [
        "#most frequent user id\n",
        "topcust = \"A320TMDV6KCFU\"\n",
        "#most frequent item id\n",
        "topitem = \"B000JMLBHU\"\n",
        "df1 = df.loc[df['reviewerID'] == topcust]\n",
        "df2 = df.loc[df['asin'] == topitem]\n",
        "reviewsUser=''\n",
        "reviewsItem=''\n",
        "for str in df1['new_reviews']:\n",
        "  reviewsUser = reviewsUser + str\n",
        "print(reviewsUser)\n",
        "for str in df2['new_reviews']:\n",
        "  reviewsItem = reviewsItem + str\n",
        "print(reviewsItem)\n",
        "df1['new_reviews'] = df1['new_reviews'].str.replace('[^\\w\\s]','')\n",
        "# df['new_reviews'].head()"
      ],
      "execution_count": null,
      "outputs": [
        {
          "output_type": "stream",
          "text": [
            "simon lebeaux inherit seaton house uncle recuperate injury stay seemingly haunt house simon haunt memories one fateful night beautiful stranger simon stay away women past four months intend keep way one rainy night another beautiful stranger show doorlottie santori trouble pennsylvania research josef zangara psychology professor zangara make seaton house exclusive hotel nineteen thirties later convict serial killer lottie overprotect five older brothers relish idea solve mystery two relax hopefully find hot guy fool around shes arrive seaton house thunderstorm lottie meet simon fall instantly lust simon clearly want nothing lotties give though plan discover mystery surround house simon try seduce bed strange things happen someone get simon go crazyleslie kelly write another hit ask trouble funny sexy sometimes spooky story blast read simon begin haunt memories guiltridden soul make want hold never let go lottie sweetheart shes beautiful witty fearless chemistry simon lottie simply sizzle ask trouble entertain read come trouble first book series trouble nothing still come readers get plenty town trouble pennsylvania something scary passionate bind happennannette review joyfully reviewtempt methe next day dump seemingly perfect boyfriend carrie friends take trip napa valley ex seem perfect moment propose closer get wine country carrie realize close come make huge mistake carrie meet tyson handsome winemaker see perfect really istaste mefullfigured rise know feel like dump trip napa valley boyfriend dump much thinner woman arrive hotel surprise win weekend cook lessons delectable chef jack gerard jack find roses voluptuous curve delicioustouch mevanessa know want know get see paint desire shell stop nothing get mean take gorgeous sexy artist struggle show immunity wiles ittempt taste touch bella andre collection three erotically charge novellas leave pant devour three course even fell asleep satisfy smile face love three favorite taste fan rubenesque heroines adore men love touch taste touch bella andre deliver three erotic novellas appeal romantic us allannmariereviewed joyfully reviewfire captain dean wolcott dream since young adult blonde hair figure die haunt dream invade wake moments yearn make love life mother children find move back town heart jump joy know probably wont even look man like himveronica abbott get parent control even though marry widow move back hometown decide open romance shop take basket local fire department thank save childhood home burn veronica walk locker room come face face dean wolcott object secret teenage crush veronica proceed show much miss attract himdean want veronica every ounce doesnt want part time lover want love life forever promise give time unsure girl like ever love himcaught guard naughty look two people whose childhood crush still alive strong years later fell love dean completely absolutely intentions love honorable find wince veronicas mannerisms blatant sexuality realize want finally free control could see come catch guard tonya ramagos delightful read like plot love true love prevailstaliareviewed joyfully reviewbelora live mother isolate forest set magical andenchanted world although raise delightful stories ofdragons bond knight belora never meet dragonfirsthand noble dragon kelvan inadvertently enter herlife beloras future take sharp turnbecause beloras ability communicate dragons kelvanrecognizes special woman believe shecould well mate one powerful knight kelvansnatches take meet knight garethgareth strong noble reside border lair theother fight dragons warrior knight fightingagainst evils land kelvan partner longwhile upon meet belora gareth feel instant attraction notesthat mutual shortage wive knightslife border lair far cry beliefs belorawas raise gareth hope belora able accept thetraditions lair recognize gareth matemaiden flight fantasy dash drama lot heatwhich completely fascinate way expect wascaptivated contradiction almost childlike innocenceof dialogue love scenes pack steamy sexuality inone paragraph would pure syrupy word next idbe read scorch meacutenage scene would blow boot offevery character extremely likable although seem almost tooperfect flaw make human thoroughly enjoyedthe journey read maiden flight love bond thedragons knight families definitely lookingforward sequels ms darc may later offerjoliereviewed joyfully reviewnate kelly happy go home tire play dumb bodyguard russian arm dealer go last assignment ready undercover encounter beautiful woman natalya seem fit curious need finish job find arm exchange go take placesamantha taylor con artist run scam local sport star daz actually involve much bargain samantha sexy natalya samantha realize get late get outnate samantha bump search dazs study nate feel choice take sexy natalya home find know samantha find handcuff nates bed things heat nate samantha attempt bring bad guy grow closer feel part throw closely together morethe twelve lie christmas fast pace read nate sexy spy really want settle bite samantha good even though con artist nate samantha share instant attraction interest watch fight bad guy well feel read kate johnsongraciereviewed joyfully reviewtony casavetti work devlin group job one undercover danger quite often thing depend besides calm voice end link voice name face end rest group call meet new york city tony know charlotte efficient calm circumstances also know ruthless guess matronly ladycharlotte rhames executive assistant devlin group job love respect know people take appear rich beautiful charlotte cant wait meet tony know everything never actually meet man charlotte many expectations meet hop end hometony stun actually discover person behind voice young sexy woman come pick shock begin events put entire devlin group high alert group attack discover inside job charlotte know one get person behind attack mean go back world swear never visit tony wont let charlotte go danger alone things go horribly wrong depend voice abilities people end linkson edge bring back character devlin group time charlottes turn get happy ever member group nothing ever easy include love tony put life background one make perfect undercover work charlotte work hard years remove past must face save others danger feed passion tony charlotte already flame rise even danger happen never happier tony charlotte make okay tear apart make want knock head together reward end perfect end suspense stories always able hold grip ms stacey one even better wouldnt let put book last word read edge sexy full danger two main character back also book reread time im surejoreviewed joyfully reviewtwo years caitlyn culver back town shes get want despite father threats want rancher cord daily aware truth behind cord wicked reputation cait decide beat cord game luscious cowboy soon find tie leave want father barn cait better watch paybacks hellof delicious sortcord love cait years doesnt mean hes go let vixen get away trick cousin dolan crane court treat cait passionate night beyond wildest dream dawn break reality set cord find isnt one want cait dolan make move cait caits father make choose life shes always know future could cordtake first story ive read mackenzie mckade wont last cait character would love friends wouldnt want spend night arm cord dolan impress take besides sexy cowboys natural emotional complications arise trios passionate encounter dreamily sigh cord possessiveness admire ms mckade handle dolans attraction cait hand another author dolans desire start relationship cait might annoy detract tale however case ms mckade deftly handle emotions involve happy storys end take engage read fill likeable character deliciously hot love scenes sinful yet satisfy greatly enjoy ms mckades bookshaynareviewed joyfully revieweast meet west texas cowboy rafe walker fall well bostonian cathy fitzgerald weekend hot passion lead rafe cathy rearrange live together spontaneous marriage proposal surprise yes cathy pack city life move rafes texas ranchfour years later rafe cathy find passion may enough build relationship marriage crumble apart two obviously love find way salvage marriage start trust one anothersecond wind good story communication trust key solid relationship rafe cathy neither add problems job didnt leave much one one time cathy well rafe honestly give whole lot get rafe wasnt bad person wasnt cathys level opposites attract definitely demonstrate lack aspects marriage compensate strong passion hot together need work life outside bedroom readers look good break make story second wind great choice enjoy muchleyreviewed joyfully reviewage twentysix lady cicely ware consider quite shelf shes quite determine however let spinsterhood keep know feel like experience passion quickly come list rake believe able teach shes always halfway love douglas duke ethingham waltz proposition douglas stun cicely ask seduce quickly refuse although cicely disappoint resolve move next gentleman list however much douglas discover cant allow cicely anyones arm begin sensuous journey douglas stun find every moment cicelys company make want finally begin realize fall deeply love cicelys life threaten douglas whatever necessary protect attack continue find person responsible latewithout doubt melissa schroeder get better every book love historical romance admit bite historical romance snob take lot truly become absorb book genre melissa schroeders accidental series certainly hook lessons seduction scrumptious feast readers romance want devourmelissareviewed joyfully reviewdeidre nelson back ventura texas watch parent bedand breakfast away jonas mendez towns sheriffthe last time deidre jonas saw say goodbyebefore deidre leave new york ten years agoten years long time attraction simmer betweendeidre jonas strong ever anticipation whatmight become even strongeranticipation perfect title jonas deidres story ilove get back course time itsbetter lot heat heart anticipationits sexy romantic storynannettereviewed joyfully review\n",
            "manual desert island survival right book besides old verne slow build climax love much lot interest little asides give lot information attitudes behaviour time treatment castaways towards land around animals worth readremember go movie theatre yrs old cousin years older enjoy much staye second showingand get huge trouble saw book availability realize id never actually read book disappoint upcoming family reunion id like share movie experience grandkidsbut send book enjoy firstok book slow time actually put read something else come back second part better people come storyclassic else need say adventure classic must remember verne write world different placeread thing phone enjoy lot much king salomons mine also freekeep interest recommend age genuine masterpiece everyone read good children make wonderful giftclassic must read especial anyone read league even simply watch walt disneys early film adaptation sure enjoy story place drag bite language usage date seem add charmsimply outstanding even though ive read verne outstanding writer n generation offer childrenwould highly recommend classic everyone young teens senior adults warn long involve tale cant read one even since every character man less sentimental journey though definitely tearful scenes one character former slave treat others equal though somewhat condescendedly enjoy look back culture customs long go spoilers may want read another verne classic do oneadventure seekers literature aficionados alike satisfy rich story group castaways come together name survival remote island pacificcould take book get start great amount mystery could figure especially familiar jules verne however lot twist turn keep guess must do tremendous amount research able describe things character order survive like say educationalauthor great story line bring character life quite interest end didnt see end come recommend book friends familycould enjoy jules verne story entertain others interest men strand island come ways survive islandenjoy book trouble follow storyi recommend itbut enjoy others moreit good book like kind storyknow classic author feel join positive reviewers im afraid cantthe book start well enough dare prisonerofwar camp escape balloon follow harrow flight storm force land pacific island plot weakensone book biggest mysteries must whilst huge number indiginent pacific islanders evolve scratch live fish sandbar island extemely large visible huge mountain middle island remain undiscovered pity surely must one verdant farmingfriendly mineral wealthy islands earth also extremely wellstocked manner useful tasty beasts heroes short years manage become completely selfsufficient soon spoil choice abide supperi would estimate full eighty percent plot dedicate ingenious almost miraculous development islands bounty five heroes innovative castaways nothing beyond time island knowhow resources produce bricks pottery ironware gunpowder nitroglycerene etc etc even introduce telegraph system detail spar descriptions operation consequence book read like cross handymans journal construction weekly farm monthlythe castaways deadly bore bunch quickly become firm friends respectful tolerant pass time mutual heroworship devotion hailfellow well meet group complete absence sort jealousy resentment discontent moan indeed complete absence emotional excitementthere mystery involve didnt feel worth effort wad massive amount technical detail find end resultlook blandness doityourself tip look elsewhere adventureone better fiction book ive read long time jules verne master subtly build suspensequite good read get little carry away still interest show people could work togetheryouve already see movie book serve clear lot things movie didnt make sense wish read book first wouldnt jadegreat suspense story keep guess till end story like classic authorgreat work really enjoygood interest story well tell actually book tourdeforce survival techniques proverbial field manual survival semitropical island encapsulate within framework novel provide one ability recognize identify plant minerals find within page ability transform use identify authorchildren saw latest movie base jules vernes book decide let read original story move little slowly normal timeframe write style funny ideas natural science storyline good adventurefinally read book last month enjoy every chapter show manage survive island make tool items cave book far one best strand island book could hope probably one jules vernes best inhabitants island band together get tight spot mysterious force always help force reveal nearly end highly recommend everyoneread book years ago enjoy however enjoy even read kindle inspire book people book island different yet come together work together survive yes know lot review book however want say look book inspire survive anything read bookand read low time life meaningful see right answer find book help see importantalmost regret take time read book could condense page would nice afterward league sea really worth read standalone storyevery child read league sea classic adventure follow little prompt intrigue read sequel happen captain nemo nautilus classic book viewpoint children expose tom sawyer sequel huckleberry finn last mohicans animal farm hobbit tarzan harry potter yankee king arthurs courtthis book good league interest peak tehy may stll wade novel read classics far better activity children video gameread story take back youth remind school library favorite place school imagination soar place could dreamexpect think would like movie pleasantly surpriseillustration describe good job jules verne husband dislexic prefer read pleasure read together read aloud time however mysterious island couldnt tear away download onto phone could read spare time breakthrough folks excellent excite educational readold story never read love kindle free classics android love write style language descriptive great author great scifi mind enjoyable readtypical jules vern advance science beyond timesa good read hard put sometimesmuch enjoy jules verne book keep interest time think descriptions castaways creations lengthy also think lot write never actually experience things bite naive book definitely make one think would circumstancescome book expect great surprise exceed even inflate expectations ive read many jules vernes work sit thoroughly amuse whole time read book ive come realization writers today even come close marvelous work work hand jules verne would recommend yes enjoy little bite scifi lot adventure laugh good time well spend youll love read jules vernes mysteriouscaptivate engage truly pleasurable classic worthy late night attention look forward book likecant go wrong jules verne scenes graphic accurate wellresearched draw storyone verne book disappointment poor unbelievable plot dragcould easily talk give four star high adventure intrigue mystery appeal character youve get love book grab right beginningare rise contrary descend worse captain fall heavens sake heave ballast last sack empty balloon rise hear noise like dash wave sea car cannot feet us overboard every weighteverythingi must say listen via kindle speech feature drive better read exclamation point hook enjoy vicarious adventurejules vernes mysterious island embrace everpopular story line men survivingeven thrivingon desert island instead get shipwreck men escape civil war richmond siege hot air balloon blow thousands miles course grip rag storm eventually balloon lose air fall sea wash island establish settlement remarkable knowhow tenacity courage make quite nice life last four years despite challenge tempest wild animals injuries pirate intriguingly mysteriously benevolent invisible presence seem defy castaways belief alone islandthis book write must surely influence swiss family robinson write similarities strike remarkably clever things castaways envision build fabricate ensure comfort safetyeverything lodge outbuildings small sail ship conveniently bring extensive knowledge engineer sail shipbuilding astronomy geography botany chemistrythe book bog occasionally century language somewhat stilted every conversation seem include boy man friend eg doubt boy answer engineer character ennoble author unrealistic paradigms century virtue industrious courageous practical compassionatebut quibble face pleasure give good story way jules verne tie book story league sea interest unexpected twist book classic reasontrue jules verne style rich descriptions real character adventure action download mistake thoroughly gladbook captivate character interest story amaze may find descriptions bite long add dimension character read book like adventure action suspense enjoy league sea youll likealways love jules verne creator steampunk book true classic make worthwhile timetale everything something historical lot action character sense cooperation imagination unique way make find plus find fate captain nemoverne favorites download kindle library always touch finger easy share daughter recommend keep favorite classics digital librarywonderful jules verne give plausible possibilties escape hot air balloon midst hurricane volcanic island later meet mystery person perfect wish even tiny bite jules vernes talent write love science explanations neither didactic bore character wonderful well good readfirst read book years ago enjoy much couldnt realize time read precursor macgyver lose lassie countless book movies tv show jules verne genius write style absolutely delightful unfortunately book word thus today would realize sale ten copy try imitate style didnt workbook inspire true story alexander selkirk survive alone almost five years uninhabited island coast chileit interest story lot imagination verne write later start march richmond va capital confederacy siege union army lt gen u grantfive men cyrus pencroft herbert neb gideon dog name top trap richmond wish escape town weather bad balloon tether middle town storm seem provide cover confederate less attentive storm get balloon dog set adventure blow west storm end ocean balloon lose altitude fortunately crash tropical island turn volcanic large enough variety islandinteresting verne use balloon come use device get folks onto desert tropical islandthe five men good collection skills personalities work well together captain cyrus knowledgeable inspire leader engineer practical knowledge pencroft practical hardworking sailor gideon kind everyman observant strong resourceful love herbert young man learn become naturalist well do book whole crew work hard make life island use available excellent job use hand make chemicals include nitroglycerine use islanda well do interest adventure tale hard always appreciate write age well enjoyable verne adventure novel certainly one bestbook first bookmobile book buy school book club love story bet dollar donut love memory serve buy book grade would look forward relive memoriestry go classic book years find many interest refresh book different great character wonderful story line recommend enjoy bite sci fiish bookwonderful adventure describe great detail jules verne readers age greatly enjoy booksorry accidentally delete kindle time check apologizeprobably good book around sience containswell writen story even tho fictiontrue classic like movie fight large dinosaur good tail survival get good read age true adventure lesson human nature good evil best understand wish otherspurchase husband totally enjoy could put one jules vernes best bookone interest book read keep suspense throughout entire book amaze much men accomplish island love book couldnt put would recommend book adventure readersfirst tread jules verne reward good read complaint lot detail put different mechanisms make however still interest learn things way build many things raw resources create makeshift items help survivalthe story begin prisoners engineer sailor reporter servant young man along bright dog travel hot air balloon escape imprisonment civil war throw onto island isnt list map well way ship pacific go even go short trip close unuseful island help castaway four long years escape start nothing make civilize dwell create everything house granite rock garden animal farm mechanism might need create something survive spend days work build create necessities well want build two ship last second fear death save reference league seas captain nemo well historical thingsthe story long detail learn feel like know islanders also enough see surround feel anxieties adventure camaraderie pirate survival many things wrap amaze classicone classic stories jules verne also one favorites five prisoners war escape use balloon catch massive storm carry thousands miles land remote island inhabitants begin build life creative ingenious adventure make story entertain true nature island discover group face threats enemies help mysterious benefactorjules vernes write perceptions future scifi well ahead time excellent story recommendgreat read jules verne fan little simplistic detail get character long way impossible situation suspend disbelief much lead final scene slap forehead see come lot funalways fantastic read good age taste well worth time spend enjoy story better moviesill fat escape balloon end disaster deposit men dog seemingly desert island work start colony sort experience many hardships triumph classic story fill well define character interest locale one downfall somewhat wordy course explanations scientific kind outdated small complaints nothing diminish quality talefun see mysterious island play primary part wonderful book love good mystery one great thankgreat read really glad download didnt want put would recommend read mysterious islandexpect yet interest book usually read book era go show interestfirst read book read itevery years sincea boys tale embroider history science survivalscience fiction bravery comradeship silken mapim glad grow read stories dreadfulharry potter hogwash eyewash obliterate young peoplesminds turn zombiesmysterious island first read author long read detail make island come alive lot surpriseslow beginningto much information number charcters begin turn quite boregive rat good adventure tale characterization also good enjoy learn something survive islandtake long time read get story overall good slow read book would recommend book anyone interest science interest turnclassic book time action character may pc story give real view attitudes particular era expect tale like movies inspire book find story men survive difficult circumstances somewhat fantastical real readableunexpectedly story predominantly complex discussions page page physics engineer chemistry really bogged story interest story line way much detail include captain nemo story interest twistjules verne knack detail book good plot mystery solve end keep one read even though tedious chore similar many writers object keep wander around many irrelevant ideas add suspect readers read line two page order make headway story one also accept absurd achievements similar jam bond movie better read sex novel write someone demented mind lynn jacksonvilledidnt realize author wonderful finish keep interestjules verne indeed author rely fast flow suspense enjoy read classics write way originally pen much enjoyable children age would benefit read book eminencenever read great book grow time catch classics thinkgood sequel jules verne league sea like book although movies dont justicegrow consider jules verne contamparies people scientific vision read work include one feel betray racist people believe white man superiority look like recurrent theme bite pseudoscience throw waste timeokay thrill cup tea sure story could getnever read old classics pick book read many good review start little slow time intrigue mystery bullet come time could put enjoy character find interest create things take grant today hard remember people use everything sure lose art western society find write wonderful jules verne paint wonderful detail make story pleasure readstory man lifeworking together betterment allthe betterment group manthe respect lifeall things intendbest book ever read life years old read book year story group men really care risk live help plenty action adventure keep interest true story group men keep kindle nothing else read open book reread wish modern novels quality enjoy book best recommend everyone free get betterlike jules vern stories enjoy read little kindle away home need something read wait modegrow expose literary world purchase kindle book glad didit time repetitive want say ok tell us already time idealistic time realistic detail make island educationali definitely get catch would recommend book middle school students preteens imaginationthe language require attention worth effortanother old classics amazon release ebook format read story first fifty years ago hold hardback bind library book conjunction twenty thousand league sea search castaways discover excite jules vernes write truly start read book could find certainty appreciate every one saw mysterious island ebook format amazon simply copy desire acquire book read book personal hardcopy library ebook format even though grow read hardback paperback book enjoy smell printers ink experience feel good bind fine paper hand longer able collect original format due lack available shelf space discover able carry book around kindle fire hd bad way go hunt book shelf book shelf novel dig box box book place storage book completely take home look right book unfortunately become unrealistic however regress review jules verne book mysterious island read believe lovejules vernes guide survival enjoy adventure one classic dont want miss fun read might learn something well next time read fully intend read book im go keep laptop elbow find picture animals plant mention id especially like know horse real makebelievecouldnt put book finish never read book read work write jules verne always wonder happen captain memo know great story keeperdidnt care story others may like couldnt keep read much good stuff keep go onegroup men escape balloon confederate prison land desert island need meet mysterious benefactoranother classic read perform samsung galaxy iii one recommend others probably read futurelove read old classics read one many time later like bookgood book keep reader suspense although get little bore time men get strand island get adventure pretty standard plot however orangutan name joop dog name top give novel heart soul addition diversity felt cheat quite bite end however still enjoyenjoyable read first verne book read want read would survive island old world wisdom share within chronologytake place castaways good mystery well write keep come back find outwhostar think one best book write jules verne saw movie young glamorous book however book endear men hardships would recommend book anyone enjoy good readmysterious island time read jules verne course ive know years alive since teenage years say really enjoy book download free amazon kindle one classics jules verne remarkable intelligent thoughtful writer definitely read workanother adventure story everything need keep read action intrigue mystery likable character always happy reader verne think readers would likeread jules vernes stories worth reread believe make movies worth refresh story especially one movie never justice date language little difficult fun like use dictionary often search obscure word phrase anyone never read saw storymovie strongly recommend good early science fictionlove jules verne man ahead time story comparable league sea even ignore fact way ahead time stories always fun pleasure readfind work understand hopefully still hold high esteem science fiction read communitybook keep attention first page end could see myselfin position escape manage survive help themysterious person end quite surpriseslow first totally suspenseful end glad stick find end cant possibly imagineexpect something pace around world days drag spot end skip lot part make things little incredulous easily everything come able accomplishcomplexity detail story amaze especially since recently publish story hard putbook interest fun read character interest make book better great read downtimeexcellent read extremely descriptive almost feel though one character first novel read jules verne hesitate read stories himno matter far fetch may seem first pen themif enjoy bite fantasize would problems recommend purchase sit back enjoycant get enough type literature years old something keep long time maybe old stories something get backsay book one never read itit good read nice adventure bite old stylejules vernes attempt write robinson crusoe swiss family robinson castaway story twist five castaways crashland balloon thus come island almost nothing unlike crusoe swiss family castaways dont boatfull resources tool etc fall back make everything grind arm knowledge science engineer since always seem crusoe swiss family cheat bite bring many tool forth along really enjoy scientific focus replace swiss family answer one book would want desert island questionparts novel drag bite jules verne novel theres good story island mysterious unseen inhabitant also pirate always awesomethe main flaw base kingston translation make fair number edit vernes original example change protagonistss name remove captain nemos antiimperialist antibritish rhetoric theres accurate translation available free kindle store id recommend grab accurate version instead look edition engineer name cyrus smith rather cyrus harding kingston reportedly felt smith gypsy name hence unsuitable heroic character find version kindle store herethe mysterious islandoh yeah captain nemo book ways sequel vernes twenty thousand league seas well search castaways sequence isnt direct really case cameo character direct plot sequel either book might want read two book first pick onegood read anyone age book could share kid age five ninty five learn much experience time travelersread see non hollywood version story get little wordy involve descriptive verse probably typical time periodlike creative ideas make build items whole story greatexcept kill many animals book write different time history world language interest read understand distroy much need save plantet hurt read think aboutthe book worth readingas author booksnaturally would perfer kill lead mystery man many life formsthe writer genuisentertain seem could inspiration tv series lose many things alike\n"
          ],
          "name": "stdout"
        },
        {
          "output_type": "stream",
          "text": [
            "/usr/local/lib/python3.7/dist-packages/ipykernel_launcher.py:15: SettingWithCopyWarning: \n",
            "A value is trying to be set on a copy of a slice from a DataFrame.\n",
            "Try using .loc[row_indexer,col_indexer] = value instead\n",
            "\n",
            "See the caveats in the documentation: https://pandas.pydata.org/pandas-docs/stable/user_guide/indexing.html#returning-a-view-versus-a-copy\n",
            "  from ipykernel import kernelapp as app\n"
          ],
          "name": "stderr"
        }
      ]
    },
    {
      "cell_type": "code",
      "metadata": {
        "colab": {
          "base_uri": "https://localhost:8080/"
        },
        "id": "uVBQIOkc1lpv",
        "outputId": "671f5b93-9c37-4d79-adcf-756975f34458"
      },
      "source": [
        "#L=5 recently purchased item in 2008\n",
        "df3 = df1.loc[df1['Year'] == 2008]\n",
        "recentreviews=[]\n",
        "cnt=0\n",
        "for str in df3['new_reviews']:\n",
        "  if cnt>=5:\n",
        "    break\n",
        "  cnt+=1\n",
        "  recentreviews.append(str)\n",
        "print(len(recentreviews[4]))"
      ],
      "execution_count": null,
      "outputs": [
        {
          "output_type": "stream",
          "text": [
            "930\n"
          ],
          "name": "stdout"
        }
      ]
    },
    {
      "cell_type": "code",
      "metadata": {
        "id": "Hbnrnjiadjme"
      },
      "source": [
        "#Contextual word embeddings using bert\n"
      ],
      "execution_count": null,
      "outputs": []
    },
    {
      "cell_type": "code",
      "metadata": {
        "colab": {
          "base_uri": "https://localhost:8080/"
        },
        "id": "_Iwew0KP8vRM",
        "outputId": "35308fb4-8f51-41b6-d49b-0d0bc15110a3"
      },
      "source": [
        "!pip install tensorflow\n",
        "!pip install tensorflow_hub\n",
        "!pip install bert-for-tf2\n",
        "!pip install sentencepiece"
      ],
      "execution_count": null,
      "outputs": [
        {
          "output_type": "stream",
          "text": [
            "Requirement already satisfied: tensorflow in /usr/local/lib/python3.7/dist-packages (2.4.1)\n",
            "Requirement already satisfied: grpcio~=1.32.0 in /usr/local/lib/python3.7/dist-packages (from tensorflow) (1.32.0)\n",
            "Requirement already satisfied: wheel~=0.35 in /usr/local/lib/python3.7/dist-packages (from tensorflow) (0.36.2)\n",
            "Requirement already satisfied: flatbuffers~=1.12.0 in /usr/local/lib/python3.7/dist-packages (from tensorflow) (1.12)\n",
            "Requirement already satisfied: wrapt~=1.12.1 in /usr/local/lib/python3.7/dist-packages (from tensorflow) (1.12.1)\n",
            "Requirement already satisfied: astunparse~=1.6.3 in /usr/local/lib/python3.7/dist-packages (from tensorflow) (1.6.3)\n",
            "Requirement already satisfied: tensorboard~=2.4 in /usr/local/lib/python3.7/dist-packages (from tensorflow) (2.4.1)\n",
            "Requirement already satisfied: protobuf>=3.9.2 in /usr/local/lib/python3.7/dist-packages (from tensorflow) (3.12.4)\n",
            "Requirement already satisfied: google-pasta~=0.2 in /usr/local/lib/python3.7/dist-packages (from tensorflow) (0.2.0)\n",
            "Requirement already satisfied: keras-preprocessing~=1.1.2 in /usr/local/lib/python3.7/dist-packages (from tensorflow) (1.1.2)\n",
            "Requirement already satisfied: six~=1.15.0 in /usr/local/lib/python3.7/dist-packages (from tensorflow) (1.15.0)\n",
            "Requirement already satisfied: gast==0.3.3 in /usr/local/lib/python3.7/dist-packages (from tensorflow) (0.3.3)\n",
            "Requirement already satisfied: opt-einsum~=3.3.0 in /usr/local/lib/python3.7/dist-packages (from tensorflow) (3.3.0)\n",
            "Requirement already satisfied: termcolor~=1.1.0 in /usr/local/lib/python3.7/dist-packages (from tensorflow) (1.1.0)\n",
            "Requirement already satisfied: typing-extensions~=3.7.4 in /usr/local/lib/python3.7/dist-packages (from tensorflow) (3.7.4.3)\n",
            "Requirement already satisfied: absl-py~=0.10 in /usr/local/lib/python3.7/dist-packages (from tensorflow) (0.12.0)\n",
            "Requirement already satisfied: h5py~=2.10.0 in /usr/local/lib/python3.7/dist-packages (from tensorflow) (2.10.0)\n",
            "Requirement already satisfied: tensorflow-estimator<2.5.0,>=2.4.0 in /usr/local/lib/python3.7/dist-packages (from tensorflow) (2.4.0)\n",
            "Requirement already satisfied: numpy~=1.19.2 in /usr/local/lib/python3.7/dist-packages (from tensorflow) (1.19.5)\n",
            "Requirement already satisfied: google-auth-oauthlib<0.5,>=0.4.1 in /usr/local/lib/python3.7/dist-packages (from tensorboard~=2.4->tensorflow) (0.4.4)\n",
            "Requirement already satisfied: setuptools>=41.0.0 in /usr/local/lib/python3.7/dist-packages (from tensorboard~=2.4->tensorflow) (54.2.0)\n",
            "Requirement already satisfied: requests<3,>=2.21.0 in /usr/local/lib/python3.7/dist-packages (from tensorboard~=2.4->tensorflow) (2.23.0)\n",
            "Requirement already satisfied: werkzeug>=0.11.15 in /usr/local/lib/python3.7/dist-packages (from tensorboard~=2.4->tensorflow) (1.0.1)\n",
            "Requirement already satisfied: markdown>=2.6.8 in /usr/local/lib/python3.7/dist-packages (from tensorboard~=2.4->tensorflow) (3.3.4)\n",
            "Requirement already satisfied: tensorboard-plugin-wit>=1.6.0 in /usr/local/lib/python3.7/dist-packages (from tensorboard~=2.4->tensorflow) (1.8.0)\n",
            "Requirement already satisfied: google-auth<2,>=1.6.3 in /usr/local/lib/python3.7/dist-packages (from tensorboard~=2.4->tensorflow) (1.28.1)\n",
            "Requirement already satisfied: requests-oauthlib>=0.7.0 in /usr/local/lib/python3.7/dist-packages (from google-auth-oauthlib<0.5,>=0.4.1->tensorboard~=2.4->tensorflow) (1.3.0)\n",
            "Requirement already satisfied: certifi>=2017.4.17 in /usr/local/lib/python3.7/dist-packages (from requests<3,>=2.21.0->tensorboard~=2.4->tensorflow) (2020.12.5)\n",
            "Requirement already satisfied: idna<3,>=2.5 in /usr/local/lib/python3.7/dist-packages (from requests<3,>=2.21.0->tensorboard~=2.4->tensorflow) (2.10)\n",
            "Requirement already satisfied: chardet<4,>=3.0.2 in /usr/local/lib/python3.7/dist-packages (from requests<3,>=2.21.0->tensorboard~=2.4->tensorflow) (3.0.4)\n",
            "Requirement already satisfied: urllib3!=1.25.0,!=1.25.1,<1.26,>=1.21.1 in /usr/local/lib/python3.7/dist-packages (from requests<3,>=2.21.0->tensorboard~=2.4->tensorflow) (1.24.3)\n",
            "Requirement already satisfied: importlib-metadata; python_version < \"3.8\" in /usr/local/lib/python3.7/dist-packages (from markdown>=2.6.8->tensorboard~=2.4->tensorflow) (3.10.1)\n",
            "Requirement already satisfied: cachetools<5.0,>=2.0.0 in /usr/local/lib/python3.7/dist-packages (from google-auth<2,>=1.6.3->tensorboard~=2.4->tensorflow) (4.2.1)\n",
            "Requirement already satisfied: rsa<5,>=3.1.4; python_version >= \"3.6\" in /usr/local/lib/python3.7/dist-packages (from google-auth<2,>=1.6.3->tensorboard~=2.4->tensorflow) (4.7.2)\n",
            "Requirement already satisfied: pyasn1-modules>=0.2.1 in /usr/local/lib/python3.7/dist-packages (from google-auth<2,>=1.6.3->tensorboard~=2.4->tensorflow) (0.2.8)\n",
            "Requirement already satisfied: oauthlib>=3.0.0 in /usr/local/lib/python3.7/dist-packages (from requests-oauthlib>=0.7.0->google-auth-oauthlib<0.5,>=0.4.1->tensorboard~=2.4->tensorflow) (3.1.0)\n",
            "Requirement already satisfied: zipp>=0.5 in /usr/local/lib/python3.7/dist-packages (from importlib-metadata; python_version < \"3.8\"->markdown>=2.6.8->tensorboard~=2.4->tensorflow) (3.4.1)\n",
            "Requirement already satisfied: pyasn1>=0.1.3 in /usr/local/lib/python3.7/dist-packages (from rsa<5,>=3.1.4; python_version >= \"3.6\"->google-auth<2,>=1.6.3->tensorboard~=2.4->tensorflow) (0.4.8)\n",
            "Requirement already satisfied: tensorflow_hub in /usr/local/lib/python3.7/dist-packages (0.12.0)\n",
            "Requirement already satisfied: protobuf>=3.8.0 in /usr/local/lib/python3.7/dist-packages (from tensorflow_hub) (3.12.4)\n",
            "Requirement already satisfied: numpy>=1.12.0 in /usr/local/lib/python3.7/dist-packages (from tensorflow_hub) (1.19.5)\n",
            "Requirement already satisfied: setuptools in /usr/local/lib/python3.7/dist-packages (from protobuf>=3.8.0->tensorflow_hub) (54.2.0)\n",
            "Requirement already satisfied: six>=1.9 in /usr/local/lib/python3.7/dist-packages (from protobuf>=3.8.0->tensorflow_hub) (1.15.0)\n",
            "Collecting bert-for-tf2\n",
            "\u001b[?25l  Downloading https://files.pythonhosted.org/packages/a5/a1/acb891630749c56901e770a34d6bac8a509a367dd74a05daf7306952e910/bert-for-tf2-0.14.9.tar.gz (41kB)\n",
            "\u001b[K     |████████████████████████████████| 51kB 3.8MB/s \n",
            "\u001b[?25hCollecting py-params>=0.9.6\n",
            "  Downloading https://files.pythonhosted.org/packages/aa/e0/4f663d8abf83c8084b75b995bd2ab3a9512ebc5b97206fde38cef906ab07/py-params-0.10.2.tar.gz\n",
            "Collecting params-flow>=0.8.0\n",
            "  Downloading https://files.pythonhosted.org/packages/a9/95/ff49f5ebd501f142a6f0aaf42bcfd1c192dc54909d1d9eb84ab031d46056/params-flow-0.8.2.tar.gz\n",
            "Requirement already satisfied: numpy in /usr/local/lib/python3.7/dist-packages (from params-flow>=0.8.0->bert-for-tf2) (1.19.5)\n",
            "Requirement already satisfied: tqdm in /usr/local/lib/python3.7/dist-packages (from params-flow>=0.8.0->bert-for-tf2) (4.41.1)\n",
            "Building wheels for collected packages: bert-for-tf2, py-params, params-flow\n",
            "  Building wheel for bert-for-tf2 (setup.py) ... \u001b[?25l\u001b[?25hdone\n",
            "  Created wheel for bert-for-tf2: filename=bert_for_tf2-0.14.9-cp37-none-any.whl size=30535 sha256=0e2763e3cac922fcdeb329e3001d93703bd7617b668215195e8c3b8fb6bf1474\n",
            "  Stored in directory: /root/.cache/pip/wheels/a1/04/ee/347bd9f5b821b637c76411d280271a857aece00358896a230f\n",
            "  Building wheel for py-params (setup.py) ... \u001b[?25l\u001b[?25hdone\n",
            "  Created wheel for py-params: filename=py_params-0.10.2-cp37-none-any.whl size=7912 sha256=4a62002d2b8a5c31aa692155e1bc2fdb4fd5572db644bbb8b5e0570275e1ae32\n",
            "  Stored in directory: /root/.cache/pip/wheels/d0/4a/70/ff12450229ff1955abf01f365051d4faae1c20aef53ab4cf09\n",
            "  Building wheel for params-flow (setup.py) ... \u001b[?25l\u001b[?25hdone\n",
            "  Created wheel for params-flow: filename=params_flow-0.8.2-cp37-none-any.whl size=19472 sha256=e6e1ca558c98a61719f223bb4ff30755f29543622214b82236fdc7af2532a0eb\n",
            "  Stored in directory: /root/.cache/pip/wheels/08/c8/7f/81c86b9ff2b86e2c477e3914175be03e679e596067dc630c06\n",
            "Successfully built bert-for-tf2 py-params params-flow\n",
            "Installing collected packages: py-params, params-flow, bert-for-tf2\n",
            "Successfully installed bert-for-tf2-0.14.9 params-flow-0.8.2 py-params-0.10.2\n",
            "Collecting sentencepiece\n",
            "\u001b[?25l  Downloading https://files.pythonhosted.org/packages/f5/99/e0808cb947ba10f575839c43e8fafc9cc44e4a7a2c8f79c60db48220a577/sentencepiece-0.1.95-cp37-cp37m-manylinux2014_x86_64.whl (1.2MB)\n",
            "\u001b[K     |████████████████████████████████| 1.2MB 6.2MB/s \n",
            "\u001b[?25hInstalling collected packages: sentencepiece\n",
            "Successfully installed sentencepiece-0.1.95\n"
          ],
          "name": "stdout"
        }
      ]
    },
    {
      "cell_type": "code",
      "metadata": {
        "colab": {
          "base_uri": "https://localhost:8080/"
        },
        "id": "NV-yr9ulP_E-",
        "outputId": "931bb2be-c50a-4a99-945e-ec835eab2379"
      },
      "source": [
        "import tensorflow as tf\n",
        "import tensorflow_hub as hub\n",
        "print(\"TF version: \", tf.__version__)\n",
        "print(\"Hub version: \", hub.__version__)"
      ],
      "execution_count": null,
      "outputs": [
        {
          "output_type": "stream",
          "text": [
            "TF version:  2.4.1\n",
            "Hub version:  0.12.0\n"
          ],
          "name": "stdout"
        }
      ]
    },
    {
      "cell_type": "code",
      "metadata": {
        "colab": {
          "base_uri": "https://localhost:8080/",
          "height": 273
        },
        "id": "8eqpYzQQufhT",
        "outputId": "f2b29f91-244e-40bd-f647-2044aea6cb4b"
      },
      "source": [
        "!pip install tf-hub-nightly"
      ],
      "execution_count": null,
      "outputs": [
        {
          "output_type": "stream",
          "text": [
            "Collecting tf-hub-nightly\n",
            "\u001b[?25l  Downloading https://files.pythonhosted.org/packages/44/29/0d11128bbd578abf1079fb3a46c31825cdae87322e2490a4d25fe8497b43/tf_hub_nightly-0.13.0.dev202104220006-py2.py3-none-any.whl (109kB)\n",
            "\r\u001b[K     |███                             | 10kB 7.5MB/s eta 0:00:01\r\u001b[K     |██████                          | 20kB 11.8MB/s eta 0:00:01\r\u001b[K     |█████████                       | 30kB 12.0MB/s eta 0:00:01\r\u001b[K     |████████████                    | 40kB 8.7MB/s eta 0:00:01\r\u001b[K     |███████████████                 | 51kB 5.4MB/s eta 0:00:01\r\u001b[K     |██████████████████              | 61kB 6.1MB/s eta 0:00:01\r\u001b[K     |█████████████████████           | 71kB 5.5MB/s eta 0:00:01\r\u001b[K     |████████████████████████        | 81kB 6.1MB/s eta 0:00:01\r\u001b[K     |███████████████████████████     | 92kB 5.9MB/s eta 0:00:01\r\u001b[K     |██████████████████████████████  | 102kB 5.0MB/s eta 0:00:01\r\u001b[K     |████████████████████████████████| 112kB 5.0MB/s \n",
            "\u001b[?25hRequirement already satisfied: protobuf>=3.8.0 in /usr/local/lib/python3.7/dist-packages (from tf-hub-nightly) (3.12.4)\n",
            "Requirement already satisfied: numpy>=1.12.0 in /usr/local/lib/python3.7/dist-packages (from tf-hub-nightly) (1.19.5)\n",
            "Requirement already satisfied: six>=1.9 in /usr/local/lib/python3.7/dist-packages (from protobuf>=3.8.0->tf-hub-nightly) (1.15.0)\n",
            "Requirement already satisfied: setuptools in /usr/local/lib/python3.7/dist-packages (from protobuf>=3.8.0->tf-hub-nightly) (54.2.0)\n",
            "Installing collected packages: tf-hub-nightly\n",
            "Successfully installed tf-hub-nightly-0.13.0.dev202104220006\n"
          ],
          "name": "stdout"
        },
        {
          "output_type": "display_data",
          "data": {
            "application/vnd.colab-display-data+json": {
              "pip_warning": {
                "packages": [
                  "tensorflow_hub"
                ]
              }
            }
          },
          "metadata": {
            "tags": []
          }
        }
      ]
    },
    {
      "cell_type": "code",
      "metadata": {
        "colab": {
          "base_uri": "https://localhost:8080/",
          "height": 35
        },
        "id": "2-T-xK8qujeA",
        "outputId": "1ff6a9b0-3b08-4543-d306-7409845ed3a3"
      },
      "source": [
        "hub.__version__"
      ],
      "execution_count": null,
      "outputs": [
        {
          "output_type": "execute_result",
          "data": {
            "application/vnd.google.colaboratory.intrinsic+json": {
              "type": "string"
            },
            "text/plain": [
              "'0.12.0'"
            ]
          },
          "metadata": {
            "tags": []
          },
          "execution_count": 16
        }
      ]
    },
    {
      "cell_type": "code",
      "metadata": {
        "id": "3DpCfbFauomk"
      },
      "source": [
        "import math\n",
        "import tensorflow_hub as hub\n",
        "import tensorflow as tf\n",
        "from tensorflow.keras.models import Model \n",
        "import bert"
      ],
      "execution_count": null,
      "outputs": []
    },
    {
      "cell_type": "code",
      "metadata": {
        "id": "mMMKohjRusL2"
      },
      "source": [
        "max_seq_length = 512  # Your choice here.\n",
        "input_word_ids = tf.keras.layers.Input(shape=(max_seq_length,), dtype=tf.int32,\n",
        "                                       name=\"input_word_ids\")\n",
        "input_mask = tf.keras.layers.Input(shape=(max_seq_length,), dtype=tf.int32,\n",
        "                                   name=\"input_mask\")\n",
        "segment_ids = tf.keras.layers.Input(shape=(max_seq_length,), dtype=tf.int32,\n",
        "                                    name=\"segment_ids\")\n",
        "bert_layer = hub.KerasLayer(\"https://tfhub.dev/tensorflow/bert_en_uncased_L-12_H-768_A-12/1\",\n",
        "                            trainable=True)\n",
        "pooled_output, sequence_output = bert_layer([input_word_ids, input_mask, segment_ids])"
      ],
      "execution_count": null,
      "outputs": []
    },
    {
      "cell_type": "code",
      "metadata": {
        "id": "irPeTOIlvayn"
      },
      "source": [
        "model = Model(inputs=[input_word_ids, input_mask, segment_ids], outputs=[pooled_output, sequence_output])"
      ],
      "execution_count": null,
      "outputs": []
    },
    {
      "cell_type": "code",
      "metadata": {
        "id": "HfYKSLrPvjtY"
      },
      "source": [
        "# See BERT paper: https://arxiv.org/pdf/1810.04805.pdf\n",
        "# And BERT implementation convert_single_example() at https://github.com/google-research/bert/blob/master/run_classifier.py\n",
        "\n",
        "def get_masks(tokens, max_seq_length):\n",
        "    \"\"\"Mask for padding\"\"\"\n",
        "    if len(tokens)>max_seq_length:\n",
        "        raise IndexError(\"Token length more than max seq length!\")\n",
        "    return [1]*len(tokens) + [0] * (max_seq_length - len(tokens))\n",
        "\n",
        "\n",
        "def get_segments(tokens, max_seq_length):\n",
        "    \"\"\"Segments: 0 for the first sequence, 1 for the second\"\"\"\n",
        "    if len(tokens)>max_seq_length:\n",
        "        raise IndexError(\"Token length more than max seq length!\")\n",
        "    segments = []\n",
        "    current_segment_id = 0\n",
        "    for token in tokens:\n",
        "        segments.append(current_segment_id)\n",
        "        if token == \"[SEP]\":\n",
        "            current_segment_id = 1\n",
        "    return segments + [0] * (max_seq_length - len(tokens))\n",
        "\n",
        "\n",
        "def get_ids(tokens, tokenizer, max_seq_length):\n",
        "    \"\"\"Token ids from Tokenizer vocab\"\"\"\n",
        "    token_ids = tokenizer.convert_tokens_to_ids(tokens)\n",
        "    input_ids = token_ids + [0] * (max_seq_length-len(token_ids))\n",
        "    return input_ids"
      ],
      "execution_count": null,
      "outputs": []
    },
    {
      "cell_type": "code",
      "metadata": {
        "id": "WnwiCDkTv9J-"
      },
      "source": [
        "FullTokenizer = bert.bert_tokenization.FullTokenizer"
      ],
      "execution_count": null,
      "outputs": []
    },
    {
      "cell_type": "code",
      "metadata": {
        "id": "mW6TRmVMvobz"
      },
      "source": [
        "vocab_file = bert_layer.resolved_object.vocab_file.asset_path.numpy()\n",
        "do_lower_case = bert_layer.resolved_object.do_lower_case.numpy()\n",
        "tokenizer = FullTokenizer(vocab_file, do_lower_case)"
      ],
      "execution_count": null,
      "outputs": []
    },
    {
      "cell_type": "code",
      "metadata": {
        "colab": {
          "base_uri": "https://localhost:8080/"
        },
        "id": "xXKg6l87vq-T",
        "outputId": "54aeda71-2342-4112-ce44-bcb8333dc9a3"
      },
      "source": [
        "userTokens = tokenizer.tokenize(reviewsUser)\n",
        "userTrunc=[]\n",
        "cnt=0\n",
        "for str in userTokens:\n",
        "  if cnt<510:\n",
        "    userTrunc.append(str)\n",
        "  else:\n",
        "    break\n",
        "  cnt+=1\n",
        "userTrunc = [\"[CLS]\"] + userTrunc + [\"[SEP]\"]\n",
        "print(len(userTrunc))"
      ],
      "execution_count": null,
      "outputs": [
        {
          "output_type": "stream",
          "text": [
            "512\n"
          ],
          "name": "stdout"
        }
      ]
    },
    {
      "cell_type": "code",
      "metadata": {
        "id": "BZIZWXM1wdPB"
      },
      "source": [
        "input_ids = get_ids(userTrunc, tokenizer, max_seq_length)\n",
        "input_masks = get_masks(userTrunc, max_seq_length)\n",
        "input_segments = get_segments(userTrunc, max_seq_length)"
      ],
      "execution_count": null,
      "outputs": []
    },
    {
      "cell_type": "code",
      "metadata": {
        "colab": {
          "base_uri": "https://localhost:8080/"
        },
        "id": "x45yzyXTxElb",
        "outputId": "bcc6a8fb-324d-4593-9bf5-16b8472e03d2"
      },
      "source": [
        "input_ids = np.array(input_ids)\n",
        "input_masks = np.array(input_masks)\n",
        "input_segments = np.array(input_segments)\n",
        "pool_embs, all_embs = model.predict([[input_ids],[input_masks],[input_segments]])\n",
        "for i in range(0,512):\n",
        "  all_embs[i] = all_embs[i].flatten(order='A')"
      ],
      "execution_count": null,
      "outputs": [
        {
          "output_type": "stream",
          "text": [
            "WARNING:tensorflow:Model was constructed with shape (None, 512) for input KerasTensor(type_spec=TensorSpec(shape=(None, 512), dtype=tf.int32, name='input_word_ids'), name='input_word_ids', description=\"created by layer 'input_word_ids'\"), but it was called on an input with incompatible shape (32, 1).\n"
          ],
          "name": "stdout"
        },
        {
          "output_type": "stream",
          "text": [
            "WARNING:tensorflow:Model was constructed with shape (None, 512) for input KerasTensor(type_spec=TensorSpec(shape=(None, 512), dtype=tf.int32, name='input_word_ids'), name='input_word_ids', description=\"created by layer 'input_word_ids'\"), but it was called on an input with incompatible shape (32, 1).\n"
          ],
          "name": "stderr"
        },
        {
          "output_type": "stream",
          "text": [
            "WARNING:tensorflow:Model was constructed with shape (None, 512) for input KerasTensor(type_spec=TensorSpec(shape=(None, 512), dtype=tf.int32, name='input_mask'), name='input_mask', description=\"created by layer 'input_mask'\"), but it was called on an input with incompatible shape (32, 1).\n"
          ],
          "name": "stdout"
        },
        {
          "output_type": "stream",
          "text": [
            "WARNING:tensorflow:Model was constructed with shape (None, 512) for input KerasTensor(type_spec=TensorSpec(shape=(None, 512), dtype=tf.int32, name='input_mask'), name='input_mask', description=\"created by layer 'input_mask'\"), but it was called on an input with incompatible shape (32, 1).\n"
          ],
          "name": "stderr"
        },
        {
          "output_type": "stream",
          "text": [
            "WARNING:tensorflow:Model was constructed with shape (None, 512) for input KerasTensor(type_spec=TensorSpec(shape=(None, 512), dtype=tf.int32, name='segment_ids'), name='segment_ids', description=\"created by layer 'segment_ids'\"), but it was called on an input with incompatible shape (32, 1).\n"
          ],
          "name": "stdout"
        },
        {
          "output_type": "stream",
          "text": [
            "WARNING:tensorflow:Model was constructed with shape (None, 512) for input KerasTensor(type_spec=TensorSpec(shape=(None, 512), dtype=tf.int32, name='segment_ids'), name='segment_ids', description=\"created by layer 'segment_ids'\"), but it was called on an input with incompatible shape (32, 1).\n"
          ],
          "name": "stderr"
        }
      ]
    },
    {
      "cell_type": "code",
      "metadata": {
        "colab": {
          "base_uri": "https://localhost:8080/"
        },
        "id": "11EGzijkc1UV",
        "outputId": "8f46f3bc-aa1c-4ebe-844c-45907c6b5ac1"
      },
      "source": [
        "all_embs1 = all_embs.swapaxes(0,1).swapaxes(1,2)\n",
        "print(all_embs1.shape)\n",
        "vocab_size=512\n",
        "maxlen=768"
      ],
      "execution_count": null,
      "outputs": [
        {
          "output_type": "stream",
          "text": [
            "(1, 768, 512)\n"
          ],
          "name": "stdout"
        }
      ]
    },
    {
      "cell_type": "code",
      "metadata": {
        "id": "dDTz78f68idO"
      },
      "source": [
        "#Applying the ACNN architecture\n",
        "filter_kernels = [1,3,5,7,9]\n",
        "input_shape=(768,512)"
      ],
      "execution_count": null,
      "outputs": []
    },
    {
      "cell_type": "code",
      "metadata": {
        "id": "migdXxjv1cET"
      },
      "source": [
        "model = Sequential([\n",
        "    layers.Conv1D(10, filter_kernels[0], activation='relu',name='conv1',input_shape=input_shape),\n",
        "    # layers.Flatten(),\n",
        "    layers.Conv1D(10, filter_kernels[0], activation='relu',name='conv1a'),\n",
        "    layers.Conv1D(10, filter_kernels[1], activation='relu',name='conv2'),\n",
        "    layers.Conv1D(10, filter_kernels[1], activation='relu',name='conv2a'),\n",
        "    layers.MaxPooling1D(2),\n",
        "    layers.Conv1D(10, filter_kernels[2], activation='relu',name='conv3'),\n",
        "    layers.Conv1D(10, filter_kernels[2], activation='relu',name='conv3a'),\n",
        "    layers.Conv1D(10, filter_kernels[3], activation='relu',name='conv4'),\n",
        "    layers.Conv1D(10, filter_kernels[3], activation='relu',name='conv4a'),\n",
        "    layers.Conv1D(10, filter_kernels[4], activation='relu',name='conv5'),\n",
        "    layers.Conv1D(10, filter_kernels[4], activation='relu',name='conv5a'),\n",
        "    layers.GlobalMaxPooling1D(),\n",
        "    # layers.Dense(10),\n",
        "])\n",
        "extractor = keras.Model(inputs=model.inputs,\n",
        "                        outputs=[layer.output for layer in model.layers])\n",
        "features = extractor(all_embs1)"
      ],
      "execution_count": null,
      "outputs": []
    },
    {
      "cell_type": "code",
      "metadata": {
        "colab": {
          "base_uri": "https://localhost:8080/"
        },
        "id": "3EVrzCMl3F7o",
        "outputId": "4f55221f-781c-45f4-d014-1af88286a4b4"
      },
      "source": [
        "layer_name = ['conv1','conv1a','conv2','conv2a','conv3','conv3a','conv4','conv4a','conv5','conv5a']\n",
        "userDoc=[]\n",
        "for name in layer_name:\n",
        "  intermediate_layer_model = keras.Model(inputs=model.input,\n",
        "                                       outputs=model.get_layer(name).output)\n",
        "  intermediate_output = intermediate_layer_model(all_embs1)\n",
        "  out1 = np.array(intermediate_output)\n",
        "  dim = out1.shape\n",
        "  out1r = out1.reshape(1,dim[1]*dim[2])\n",
        "  userDoc.append(np.max(out1r))\n",
        "print(userDoc)"
      ],
      "execution_count": null,
      "outputs": [
        {
          "output_type": "stream",
          "text": [
            "[7.024048, 5.530336, 2.7702756, 1.5315677, 1.0225488, 0.6518656, 0.27778795, 0.23561232, 0.19516999, 0.1145332]\n"
          ],
          "name": "stdout"
        }
      ]
    },
    {
      "cell_type": "code",
      "metadata": {
        "id": "PVstz6PL8Xsu"
      },
      "source": [
        "# inputs = Input(shape=(maxlen, vocab_size), name='input', dtype='float32')\n",
        "\n",
        "# conv = Convolution1D(nb_filter=nb_filter, filter_length=filter_kernels[0],\n",
        "#                      border_mode='valid', activation='relu',\n",
        "#                      input_shape=(maxlen, vocab_size))(inputs)\n",
        "# conv = MaxPooling1D(pool_length=3)(conv)\n",
        "\n",
        "# conv1 = Convolution1D(nb_filter=nb_filter, filter_length=filter_kernels[1],\n",
        "#                       border_mode='valid', activation='relu')(conv)\n",
        "# conv1 = MaxPooling1D(pool_length=3)(conv1)\n",
        "\n",
        "# conv2 = Convolution1D(nb_filter=nb_filter, filter_length=filter_kernels[2],\n",
        "#                       border_mode='valid', activation='relu')(conv1)\n",
        "\n",
        "# conv3 = Convolution1D(nb_filter=nb_filter, filter_length=filter_kernels[3],\n",
        "#                       border_mode='valid', activation='relu')(conv2)\n",
        "\n",
        "# conv4 = Convolution1D(nb_filter=nb_filter, filter_length=filter_kernels[4],\n",
        "#                       border_mode='valid', activation='relu')(conv3)\n",
        "\n",
        "# conv5 = Convolution1D(nb_filter=nb_filter, filter_length=filter_kernels[5],\n",
        "#                       border_mode='valid', activation='relu')(conv4)\n",
        "# conv5 = MaxPooling1D(pool_length=3)(conv5)\n",
        "# conv5 = Flatten()(conv5)"
      ],
      "execution_count": null,
      "outputs": []
    },
    {
      "cell_type": "code",
      "metadata": {
        "id": "cP-kM-lr9vEX",
        "colab": {
          "base_uri": "https://localhost:8080/"
        },
        "outputId": "4ed5c356-4ff2-4cdb-8e2a-9ea091eb33fc"
      },
      "source": [
        "itemTokens = tokenizer.tokenize(reviewsItem)\n",
        "itemTrunc=[]\n",
        "cnt=0\n",
        "for str in itemTokens:\n",
        "  if cnt<510:\n",
        "    itemTrunc.append(str)\n",
        "  else:\n",
        "    break\n",
        "  cnt+=1\n",
        "itemTrunc = [\"[CLS]\"] + itemTrunc + [\"[SEP]\"]\n",
        "print(len(itemTrunc))"
      ],
      "execution_count": null,
      "outputs": [
        {
          "output_type": "stream",
          "text": [
            "512\n"
          ],
          "name": "stdout"
        }
      ]
    },
    {
      "cell_type": "code",
      "metadata": {
        "id": "kQ2CMf6mEXqq"
      },
      "source": [
        "input_ids = get_ids(itemTrunc, tokenizer, max_seq_length)\n",
        "input_masks = get_masks(itemTrunc, max_seq_length)\n",
        "input_segments = get_segments(itemTrunc, max_seq_length)"
      ],
      "execution_count": null,
      "outputs": []
    },
    {
      "cell_type": "code",
      "metadata": {
        "id": "bP3pkD2gE3dp"
      },
      "source": [
        "model = Model(inputs=[input_word_ids, input_mask, segment_ids], outputs=[pooled_output, sequence_output])"
      ],
      "execution_count": null,
      "outputs": []
    },
    {
      "cell_type": "code",
      "metadata": {
        "colab": {
          "base_uri": "https://localhost:8080/"
        },
        "id": "U6WhAftbEnoh",
        "outputId": "33a47601-805c-4479-eea6-640119508604"
      },
      "source": [
        "input_ids = np.array(input_ids)\n",
        "input_masks = np.array(input_masks)\n",
        "input_segments = np.array(input_segments)\n",
        "pool_embs, all_embs = model.predict([[input_ids],[input_masks],[input_segments]])\n",
        "for i in range(0,512):\n",
        "  all_embs[i] = all_embs[i].flatten(order='A')"
      ],
      "execution_count": null,
      "outputs": [
        {
          "output_type": "stream",
          "text": [
            "WARNING:tensorflow:Model was constructed with shape (None, 512) for input KerasTensor(type_spec=TensorSpec(shape=(None, 512), dtype=tf.int32, name='input_word_ids'), name='input_word_ids', description=\"created by layer 'input_word_ids'\"), but it was called on an input with incompatible shape (32, 1).\n"
          ],
          "name": "stdout"
        },
        {
          "output_type": "stream",
          "text": [
            "WARNING:tensorflow:Model was constructed with shape (None, 512) for input KerasTensor(type_spec=TensorSpec(shape=(None, 512), dtype=tf.int32, name='input_word_ids'), name='input_word_ids', description=\"created by layer 'input_word_ids'\"), but it was called on an input with incompatible shape (32, 1).\n"
          ],
          "name": "stderr"
        },
        {
          "output_type": "stream",
          "text": [
            "WARNING:tensorflow:Model was constructed with shape (None, 512) for input KerasTensor(type_spec=TensorSpec(shape=(None, 512), dtype=tf.int32, name='input_mask'), name='input_mask', description=\"created by layer 'input_mask'\"), but it was called on an input with incompatible shape (32, 1).\n"
          ],
          "name": "stdout"
        },
        {
          "output_type": "stream",
          "text": [
            "WARNING:tensorflow:Model was constructed with shape (None, 512) for input KerasTensor(type_spec=TensorSpec(shape=(None, 512), dtype=tf.int32, name='input_mask'), name='input_mask', description=\"created by layer 'input_mask'\"), but it was called on an input with incompatible shape (32, 1).\n"
          ],
          "name": "stderr"
        },
        {
          "output_type": "stream",
          "text": [
            "WARNING:tensorflow:Model was constructed with shape (None, 512) for input KerasTensor(type_spec=TensorSpec(shape=(None, 512), dtype=tf.int32, name='segment_ids'), name='segment_ids', description=\"created by layer 'segment_ids'\"), but it was called on an input with incompatible shape (32, 1).\n"
          ],
          "name": "stdout"
        },
        {
          "output_type": "stream",
          "text": [
            "WARNING:tensorflow:Model was constructed with shape (None, 512) for input KerasTensor(type_spec=TensorSpec(shape=(None, 512), dtype=tf.int32, name='segment_ids'), name='segment_ids', description=\"created by layer 'segment_ids'\"), but it was called on an input with incompatible shape (32, 1).\n"
          ],
          "name": "stderr"
        }
      ]
    },
    {
      "cell_type": "code",
      "metadata": {
        "colab": {
          "base_uri": "https://localhost:8080/"
        },
        "id": "dRUZ3FnjEsTb",
        "outputId": "9a373c19-de3c-41bc-f351-4d34ae965774"
      },
      "source": [
        "all_embs1 = all_embs.swapaxes(0,1).swapaxes(1,2)\n",
        "print(all_embs1.shape)\n",
        "vocab_size=512\n",
        "maxlen=768"
      ],
      "execution_count": null,
      "outputs": [
        {
          "output_type": "stream",
          "text": [
            "(1, 768, 512)\n"
          ],
          "name": "stdout"
        }
      ]
    },
    {
      "cell_type": "code",
      "metadata": {
        "id": "19BUT8r4E-2B"
      },
      "source": [
        "#Applying the ACNN architecture\n",
        "filter_kernels = [1,3,5,7,9]\n",
        "input_shape=(768,512)"
      ],
      "execution_count": null,
      "outputs": []
    },
    {
      "cell_type": "code",
      "metadata": {
        "id": "RZl1Bja7FCgC"
      },
      "source": [
        "model = Sequential([\n",
        "    layers.Conv1D(10, filter_kernels[0], activation='relu',name='conv1',input_shape=input_shape),\n",
        "    # layers.Flatten(),\n",
        "    layers.Conv1D(10, filter_kernels[0], activation='relu',name='conv1a'),\n",
        "    layers.Conv1D(10, filter_kernels[1], activation='relu',name='conv2'),\n",
        "    layers.Conv1D(10, filter_kernels[1], activation='relu',name='conv2a'),\n",
        "    layers.MaxPooling1D(2),\n",
        "    layers.Conv1D(10, filter_kernels[2], activation='relu',name='conv3'),\n",
        "    layers.Conv1D(10, filter_kernels[2], activation='relu',name='conv3a'),\n",
        "    layers.Conv1D(10, filter_kernels[3], activation='relu',name='conv4'),\n",
        "    layers.Conv1D(10, filter_kernels[3], activation='relu',name='conv4a'),\n",
        "    layers.Conv1D(10, filter_kernels[4], activation='relu',name='conv5'),\n",
        "    layers.Conv1D(10, filter_kernels[4], activation='relu',name='conv5a'),\n",
        "    layers.GlobalMaxPooling1D(),\n",
        "    # layers.Dense(10),\n",
        "])\n",
        "extractor = keras.Model(inputs=model.inputs,\n",
        "                        outputs=[layer.output for layer in model.layers])\n",
        "features = extractor(all_embs1)"
      ],
      "execution_count": null,
      "outputs": []
    },
    {
      "cell_type": "code",
      "metadata": {
        "colab": {
          "base_uri": "https://localhost:8080/"
        },
        "id": "zLzZzThcFJAd",
        "outputId": "f9e69cca-b2f5-46de-b2a1-084a505b7eca"
      },
      "source": [
        "layer_name = ['conv1','conv1a','conv2','conv2a','conv3','conv3a','conv4','conv4a','conv5','conv5a']\n",
        "itemDoc=[]\n",
        "for name in layer_name:\n",
        "  intermediate_layer_model = keras.Model(inputs=model.input,\n",
        "                                       outputs=model.get_layer(name).output)\n",
        "  intermediate_output = intermediate_layer_model(all_embs1)\n",
        "  out1 = np.array(intermediate_output)\n",
        "  dim = out1.shape\n",
        "  out1r = out1.reshape(1,dim[1]*dim[2])\n",
        "  itemDoc.append(np.max(out1r))\n",
        "print(itemDoc)"
      ],
      "execution_count": null,
      "outputs": [
        {
          "output_type": "stream",
          "text": [
            "[16.565798, 9.707199, 6.686211, 5.5094557, 3.468925, 1.2824925, 0.8897752, 0.6022097, 0.3273684, 0.34958112]\n"
          ],
          "name": "stdout"
        }
      ]
    },
    {
      "cell_type": "code",
      "metadata": {
        "colab": {
          "base_uri": "https://localhost:8080/"
        },
        "id": "BGtHhDvfFZdf",
        "outputId": "04f53dca-5566-48f1-8b88-9a98ca4946a2"
      },
      "source": [
        "recentList=[]\n",
        "for i in range(0,5):\n",
        "  recentTokens = tokenizer.tokenize(recentreviews[i])\n",
        "  recentTrunc=[]\n",
        "  cnt=0\n",
        "  for str in recentTokens:\n",
        "    if cnt<510:\n",
        "      recentTrunc.append(str)\n",
        "    else:\n",
        "      break\n",
        "    cnt+=1\n",
        "  recentTrunc = [\"[CLS]\"] + recentTrunc + [\"[SEP]\"]\n",
        "  print(len(recentTrunc))\n",
        "  input_ids = get_ids(recentTrunc, tokenizer, max_seq_length)\n",
        "  input_masks = get_masks(recentTrunc, max_seq_length)\n",
        "  input_segments = get_segments(recentTrunc, max_seq_length)\n",
        "  model = Model(inputs=[input_word_ids, input_mask, segment_ids], outputs=[pooled_output, sequence_output])\n",
        "  input_ids = np.array(input_ids)\n",
        "  input_masks = np.array(input_masks)\n",
        "  input_segments = np.array(input_segments)\n",
        "  pool_embs, all_embs = model.predict([[input_ids],[input_masks],[input_segments]])\n",
        "  for i in range(0,512):\n",
        "    all_embs[i] = all_embs[i].flatten(order='A')\n",
        "  all_embs1 = all_embs.swapaxes(0,1).swapaxes(1,2)\n",
        "  print(all_embs1.shape)\n",
        "  vocab_size=512\n",
        "  maxlen=768\n",
        "  filter_kernels = [1,3,5,7,9]\n",
        "  input_shape=(768,512)\n",
        "  model = Sequential([\n",
        "      layers.Conv1D(10, filter_kernels[0], activation='relu',name='conv1',input_shape=input_shape),\n",
        "      # layers.Flatten(),\n",
        "      layers.Conv1D(10, filter_kernels[0], activation='relu',name='conv1a'),\n",
        "      layers.Conv1D(10, filter_kernels[1], activation='relu',name='conv2'),\n",
        "      layers.Conv1D(10, filter_kernels[1], activation='relu',name='conv2a'),\n",
        "      layers.MaxPooling1D(2),\n",
        "      layers.Conv1D(10, filter_kernels[2], activation='relu',name='conv3'),\n",
        "      layers.Conv1D(10, filter_kernels[2], activation='relu',name='conv3a'),\n",
        "      layers.Conv1D(10, filter_kernels[3], activation='relu',name='conv4'),\n",
        "      layers.Conv1D(10, filter_kernels[3], activation='relu',name='conv4a'),\n",
        "      layers.Conv1D(10, filter_kernels[4], activation='relu',name='conv5'),\n",
        "      layers.Conv1D(10, filter_kernels[4], activation='relu',name='conv5a'),\n",
        "      layers.GlobalMaxPooling1D(),\n",
        "      # layers.Dense(10),\n",
        "  ])\n",
        "  extractor = keras.Model(inputs=model.inputs,\n",
        "                          outputs=[layer.output for layer in model.layers])\n",
        "  features = extractor(all_embs1)\n",
        "  layer_name = ['conv1','conv1a','conv2','conv2a','conv3','conv3a','conv4','conv4a','conv5','conv5a']\n",
        "  recentDoc=[]\n",
        "  for name in layer_name:\n",
        "    intermediate_layer_model = keras.Model(inputs=model.input,\n",
        "                                        outputs=model.get_layer(name).output)\n",
        "    intermediate_output = intermediate_layer_model(all_embs1)\n",
        "    out1 = np.array(intermediate_output)\n",
        "    dim = out1.shape\n",
        "    out1r = out1.reshape(1,dim[1]*dim[2])\n",
        "    recentDoc.append(np.max(out1r))\n",
        "  print(recentDoc)\n",
        "  recentList.append(recentDoc)"
      ],
      "execution_count": null,
      "outputs": [
        {
          "output_type": "stream",
          "text": [
            "184\n",
            "WARNING:tensorflow:Model was constructed with shape (None, 512) for input KerasTensor(type_spec=TensorSpec(shape=(None, 512), dtype=tf.int32, name='input_word_ids'), name='input_word_ids', description=\"created by layer 'input_word_ids'\"), but it was called on an input with incompatible shape (32, 1).\n"
          ],
          "name": "stdout"
        },
        {
          "output_type": "stream",
          "text": [
            "WARNING:tensorflow:Model was constructed with shape (None, 512) for input KerasTensor(type_spec=TensorSpec(shape=(None, 512), dtype=tf.int32, name='input_word_ids'), name='input_word_ids', description=\"created by layer 'input_word_ids'\"), but it was called on an input with incompatible shape (32, 1).\n"
          ],
          "name": "stderr"
        },
        {
          "output_type": "stream",
          "text": [
            "WARNING:tensorflow:Model was constructed with shape (None, 512) for input KerasTensor(type_spec=TensorSpec(shape=(None, 512), dtype=tf.int32, name='input_mask'), name='input_mask', description=\"created by layer 'input_mask'\"), but it was called on an input with incompatible shape (32, 1).\n"
          ],
          "name": "stdout"
        },
        {
          "output_type": "stream",
          "text": [
            "WARNING:tensorflow:Model was constructed with shape (None, 512) for input KerasTensor(type_spec=TensorSpec(shape=(None, 512), dtype=tf.int32, name='input_mask'), name='input_mask', description=\"created by layer 'input_mask'\"), but it was called on an input with incompatible shape (32, 1).\n"
          ],
          "name": "stderr"
        },
        {
          "output_type": "stream",
          "text": [
            "WARNING:tensorflow:Model was constructed with shape (None, 512) for input KerasTensor(type_spec=TensorSpec(shape=(None, 512), dtype=tf.int32, name='segment_ids'), name='segment_ids', description=\"created by layer 'segment_ids'\"), but it was called on an input with incompatible shape (32, 1).\n"
          ],
          "name": "stdout"
        },
        {
          "output_type": "stream",
          "text": [
            "WARNING:tensorflow:Model was constructed with shape (None, 512) for input KerasTensor(type_spec=TensorSpec(shape=(None, 512), dtype=tf.int32, name='segment_ids'), name='segment_ids', description=\"created by layer 'segment_ids'\"), but it was called on an input with incompatible shape (32, 1).\n"
          ],
          "name": "stderr"
        },
        {
          "output_type": "stream",
          "text": [
            "(1, 768, 512)\n",
            "[4.493006, 2.5554054, 2.0454295, 0.7994128, 0.5279776, 0.29756525, 0.24511604, 0.2066627, 0.13866447, 0.10159314]\n",
            "259\n",
            "WARNING:tensorflow:Model was constructed with shape (None, 512) for input KerasTensor(type_spec=TensorSpec(shape=(None, 512), dtype=tf.int32, name='input_word_ids'), name='input_word_ids', description=\"created by layer 'input_word_ids'\"), but it was called on an input with incompatible shape (32, 1).\n"
          ],
          "name": "stdout"
        },
        {
          "output_type": "stream",
          "text": [
            "WARNING:tensorflow:Model was constructed with shape (None, 512) for input KerasTensor(type_spec=TensorSpec(shape=(None, 512), dtype=tf.int32, name='input_word_ids'), name='input_word_ids', description=\"created by layer 'input_word_ids'\"), but it was called on an input with incompatible shape (32, 1).\n"
          ],
          "name": "stderr"
        },
        {
          "output_type": "stream",
          "text": [
            "WARNING:tensorflow:Model was constructed with shape (None, 512) for input KerasTensor(type_spec=TensorSpec(shape=(None, 512), dtype=tf.int32, name='input_mask'), name='input_mask', description=\"created by layer 'input_mask'\"), but it was called on an input with incompatible shape (32, 1).\n"
          ],
          "name": "stdout"
        },
        {
          "output_type": "stream",
          "text": [
            "WARNING:tensorflow:Model was constructed with shape (None, 512) for input KerasTensor(type_spec=TensorSpec(shape=(None, 512), dtype=tf.int32, name='input_mask'), name='input_mask', description=\"created by layer 'input_mask'\"), but it was called on an input with incompatible shape (32, 1).\n"
          ],
          "name": "stderr"
        },
        {
          "output_type": "stream",
          "text": [
            "WARNING:tensorflow:Model was constructed with shape (None, 512) for input KerasTensor(type_spec=TensorSpec(shape=(None, 512), dtype=tf.int32, name='segment_ids'), name='segment_ids', description=\"created by layer 'segment_ids'\"), but it was called on an input with incompatible shape (32, 1).\n"
          ],
          "name": "stdout"
        },
        {
          "output_type": "stream",
          "text": [
            "WARNING:tensorflow:Model was constructed with shape (None, 512) for input KerasTensor(type_spec=TensorSpec(shape=(None, 512), dtype=tf.int32, name='segment_ids'), name='segment_ids', description=\"created by layer 'segment_ids'\"), but it was called on an input with incompatible shape (32, 1).\n"
          ],
          "name": "stderr"
        },
        {
          "output_type": "stream",
          "text": [
            "(1, 768, 512)\n",
            "[6.225554, 3.7549357, 3.0684958, 1.6978108, 1.3687761, 0.76109076, 0.531363, 0.21965055, 0.1630478, 0.14592241]\n",
            "148\n",
            "WARNING:tensorflow:Model was constructed with shape (None, 512) for input KerasTensor(type_spec=TensorSpec(shape=(None, 512), dtype=tf.int32, name='input_word_ids'), name='input_word_ids', description=\"created by layer 'input_word_ids'\"), but it was called on an input with incompatible shape (32, 1).\n"
          ],
          "name": "stdout"
        },
        {
          "output_type": "stream",
          "text": [
            "WARNING:tensorflow:Model was constructed with shape (None, 512) for input KerasTensor(type_spec=TensorSpec(shape=(None, 512), dtype=tf.int32, name='input_word_ids'), name='input_word_ids', description=\"created by layer 'input_word_ids'\"), but it was called on an input with incompatible shape (32, 1).\n"
          ],
          "name": "stderr"
        },
        {
          "output_type": "stream",
          "text": [
            "WARNING:tensorflow:Model was constructed with shape (None, 512) for input KerasTensor(type_spec=TensorSpec(shape=(None, 512), dtype=tf.int32, name='input_mask'), name='input_mask', description=\"created by layer 'input_mask'\"), but it was called on an input with incompatible shape (32, 1).\n"
          ],
          "name": "stdout"
        },
        {
          "output_type": "stream",
          "text": [
            "WARNING:tensorflow:Model was constructed with shape (None, 512) for input KerasTensor(type_spec=TensorSpec(shape=(None, 512), dtype=tf.int32, name='input_mask'), name='input_mask', description=\"created by layer 'input_mask'\"), but it was called on an input with incompatible shape (32, 1).\n"
          ],
          "name": "stderr"
        },
        {
          "output_type": "stream",
          "text": [
            "WARNING:tensorflow:Model was constructed with shape (None, 512) for input KerasTensor(type_spec=TensorSpec(shape=(None, 512), dtype=tf.int32, name='segment_ids'), name='segment_ids', description=\"created by layer 'segment_ids'\"), but it was called on an input with incompatible shape (32, 1).\n"
          ],
          "name": "stdout"
        },
        {
          "output_type": "stream",
          "text": [
            "WARNING:tensorflow:Model was constructed with shape (None, 512) for input KerasTensor(type_spec=TensorSpec(shape=(None, 512), dtype=tf.int32, name='segment_ids'), name='segment_ids', description=\"created by layer 'segment_ids'\"), but it was called on an input with incompatible shape (32, 1).\n"
          ],
          "name": "stderr"
        },
        {
          "output_type": "stream",
          "text": [
            "(1, 768, 512)\n",
            "[7.791362, 2.9909315, 1.6105893, 0.6794121, 0.43529454, 0.3717173, 0.1883695, 0.08936656, 0.06410217, 0.05023249]\n",
            "255\n",
            "WARNING:tensorflow:Model was constructed with shape (None, 512) for input KerasTensor(type_spec=TensorSpec(shape=(None, 512), dtype=tf.int32, name='input_word_ids'), name='input_word_ids', description=\"created by layer 'input_word_ids'\"), but it was called on an input with incompatible shape (32, 1).\n"
          ],
          "name": "stdout"
        },
        {
          "output_type": "stream",
          "text": [
            "WARNING:tensorflow:Model was constructed with shape (None, 512) for input KerasTensor(type_spec=TensorSpec(shape=(None, 512), dtype=tf.int32, name='input_word_ids'), name='input_word_ids', description=\"created by layer 'input_word_ids'\"), but it was called on an input with incompatible shape (32, 1).\n"
          ],
          "name": "stderr"
        },
        {
          "output_type": "stream",
          "text": [
            "WARNING:tensorflow:Model was constructed with shape (None, 512) for input KerasTensor(type_spec=TensorSpec(shape=(None, 512), dtype=tf.int32, name='input_mask'), name='input_mask', description=\"created by layer 'input_mask'\"), but it was called on an input with incompatible shape (32, 1).\n"
          ],
          "name": "stdout"
        },
        {
          "output_type": "stream",
          "text": [
            "WARNING:tensorflow:Model was constructed with shape (None, 512) for input KerasTensor(type_spec=TensorSpec(shape=(None, 512), dtype=tf.int32, name='input_mask'), name='input_mask', description=\"created by layer 'input_mask'\"), but it was called on an input with incompatible shape (32, 1).\n"
          ],
          "name": "stderr"
        },
        {
          "output_type": "stream",
          "text": [
            "WARNING:tensorflow:Model was constructed with shape (None, 512) for input KerasTensor(type_spec=TensorSpec(shape=(None, 512), dtype=tf.int32, name='segment_ids'), name='segment_ids', description=\"created by layer 'segment_ids'\"), but it was called on an input with incompatible shape (32, 1).\n"
          ],
          "name": "stdout"
        },
        {
          "output_type": "stream",
          "text": [
            "WARNING:tensorflow:Model was constructed with shape (None, 512) for input KerasTensor(type_spec=TensorSpec(shape=(None, 512), dtype=tf.int32, name='segment_ids'), name='segment_ids', description=\"created by layer 'segment_ids'\"), but it was called on an input with incompatible shape (32, 1).\n"
          ],
          "name": "stderr"
        },
        {
          "output_type": "stream",
          "text": [
            "(1, 768, 512)\n",
            "[14.09284, 9.401013, 5.7297907, 3.6028974, 3.352019, 1.3139675, 0.5671944, 0.37271324, 0.22624482, 0.13550693]\n",
            "179\n",
            "WARNING:tensorflow:Model was constructed with shape (None, 512) for input KerasTensor(type_spec=TensorSpec(shape=(None, 512), dtype=tf.int32, name='input_word_ids'), name='input_word_ids', description=\"created by layer 'input_word_ids'\"), but it was called on an input with incompatible shape (32, 1).\n"
          ],
          "name": "stdout"
        },
        {
          "output_type": "stream",
          "text": [
            "WARNING:tensorflow:Model was constructed with shape (None, 512) for input KerasTensor(type_spec=TensorSpec(shape=(None, 512), dtype=tf.int32, name='input_word_ids'), name='input_word_ids', description=\"created by layer 'input_word_ids'\"), but it was called on an input with incompatible shape (32, 1).\n"
          ],
          "name": "stderr"
        },
        {
          "output_type": "stream",
          "text": [
            "WARNING:tensorflow:Model was constructed with shape (None, 512) for input KerasTensor(type_spec=TensorSpec(shape=(None, 512), dtype=tf.int32, name='input_mask'), name='input_mask', description=\"created by layer 'input_mask'\"), but it was called on an input with incompatible shape (32, 1).\n"
          ],
          "name": "stdout"
        },
        {
          "output_type": "stream",
          "text": [
            "WARNING:tensorflow:Model was constructed with shape (None, 512) for input KerasTensor(type_spec=TensorSpec(shape=(None, 512), dtype=tf.int32, name='input_mask'), name='input_mask', description=\"created by layer 'input_mask'\"), but it was called on an input with incompatible shape (32, 1).\n"
          ],
          "name": "stderr"
        },
        {
          "output_type": "stream",
          "text": [
            "WARNING:tensorflow:Model was constructed with shape (None, 512) for input KerasTensor(type_spec=TensorSpec(shape=(None, 512), dtype=tf.int32, name='segment_ids'), name='segment_ids', description=\"created by layer 'segment_ids'\"), but it was called on an input with incompatible shape (32, 1).\n"
          ],
          "name": "stdout"
        },
        {
          "output_type": "stream",
          "text": [
            "WARNING:tensorflow:Model was constructed with shape (None, 512) for input KerasTensor(type_spec=TensorSpec(shape=(None, 512), dtype=tf.int32, name='segment_ids'), name='segment_ids', description=\"created by layer 'segment_ids'\"), but it was called on an input with incompatible shape (32, 1).\n"
          ],
          "name": "stderr"
        },
        {
          "output_type": "stream",
          "text": [
            "(1, 768, 512)\n",
            "[6.415463, 4.6312766, 3.0596147, 2.7755778, 1.012485, 0.4626322, 0.42359036, 0.22248018, 0.15012784, 0.106482565]\n"
          ],
          "name": "stdout"
        }
      ]
    },
    {
      "cell_type": "code",
      "metadata": {
        "colab": {
          "base_uri": "https://localhost:8080/"
        },
        "id": "9zLr5OXFHxo0",
        "outputId": "6f5733fd-c874-4eb3-c8e0-0073c854d8a5"
      },
      "source": [
        "print(\"UserDoc: \",userDoc)\n",
        "print(\"ItemDoc: \",itemDoc)\n",
        "print(\"RecentList \",recentList)"
      ],
      "execution_count": null,
      "outputs": [
        {
          "output_type": "stream",
          "text": [
            "UserDoc:  [6.432637, 6.7074785, 2.677761, 1.7300099, 1.1392902, 0.71103656, 0.41709504, 0.3632914, 0.24258043, 0.10484188]\n",
            "ItemDoc:  [9.840025, 7.481489, 2.7987692, 1.2563887, 0.6164318, 0.3191705, 0.20942439, 0.21586806, 0.16734228, 0.07859534]\n",
            "RecentList  [[5.6895604, 4.548986, 2.8336587, 2.0734646, 1.2343717, 0.9271105, 0.77492636, 0.32730904, 0.14787185, 0.10690422], [5.344586, 4.5485635, 2.6167397, 1.2791425, 0.4807127, 0.26414192, 0.22324322, 0.12571996, 0.12368317, 0.08234267], [6.5836, 4.6039085, 3.791173, 2.631643, 1.7523223, 0.76761377, 0.39229175, 0.35104364, 0.12937154, 0.09109939], [9.649419, 4.056567, 2.5472648, 2.1904345, 1.8616736, 1.473857, 0.5289143, 0.32949197, 0.22005191, 0.09665949], [3.4469538, 4.515317, 1.2586894, 0.73069644, 0.46894342, 0.22655752, 0.16195221, 0.07943063, 0.06900027, 0.03624004]]\n"
          ],
          "name": "stdout"
        }
      ]
    },
    {
      "cell_type": "code",
      "metadata": {
        "id": "TgMjKDhV62fl"
      },
      "source": [
        "# Applying head to head attention"
      ],
      "execution_count": null,
      "outputs": []
    },
    {
      "cell_type": "code",
      "metadata": {
        "id": "fKNlbjucJ3XA",
        "colab": {
          "base_uri": "https://localhost:8080/"
        },
        "outputId": "c7b817d6-af92-467d-9757-58c30fc02755"
      },
      "source": [
        "# calculating the attention weights\n",
        "w=[]\n",
        "p=[]\n",
        "for i in range(0,5):\n",
        "  pi = exp(np.dot(itemDoc,recentList[i]))\n",
        "  p.append(pi)\n",
        "for i in range(0,5):\n",
        "  wi = p[i]/(np.sum(p))\n",
        "  w.append(wi)\n",
        "print(w)"
      ],
      "execution_count": null,
      "outputs": [
        {
          "output_type": "stream",
          "text": [
            "[4.595586388522704e-121, 8.98390646913288e-97, 3.2291241181254914e-97, 1.0, 6.538703706910277e-90]\n"
          ],
          "name": "stdout"
        }
      ]
    },
    {
      "cell_type": "code",
      "metadata": {
        "colab": {
          "base_uri": "https://localhost:8080/"
        },
        "id": "y8a7-kx_5LFL",
        "outputId": "d40a4657-cf9a-40e5-9ee0-78ab052b82bf"
      },
      "source": [
        "# short term preference of user u wrt to candidate item\n",
        "pus1=np.array([0,0,0,0,0,0,0,0,0,0])\n",
        "for i in range(0,5):\n",
        "  p1 = np.array(np.dot(w[i],recentList[i]))\n",
        "  # print(p1)\n",
        "  pus1 = np.add(pus1,p1)\n",
        "  # print(pus1)\n",
        "print(pus1)"
      ],
      "execution_count": null,
      "outputs": [
        {
          "output_type": "stream",
          "text": [
            "[14.09284019  9.40101337  5.72979069  3.60289741  3.35201907  1.31396747\n",
            "  0.5671944   0.37271324  0.22624482  0.13550693]\n"
          ],
          "name": "stdout"
        }
      ]
    },
    {
      "cell_type": "code",
      "metadata": {
        "colab": {
          "base_uri": "https://localhost:8080/"
        },
        "id": "8dW3tTpp-CY5",
        "outputId": "8a340ad5-b86a-4da9-f9a3-ab1a340ba103"
      },
      "source": [
        "#maximum attention weight\n",
        "mu = np.argmax(w)\n",
        "pus2 = recentList[mu]\n",
        "print(pus2)\n",
        "pusl=[]\n",
        "pusl.append(pus1)\n",
        "pusl.append(pus2)"
      ],
      "execution_count": null,
      "outputs": [
        {
          "output_type": "stream",
          "text": [
            "[14.09284, 9.401013, 5.7297907, 3.6028974, 3.352019, 1.3139675, 0.5671944, 0.37271324, 0.22624482, 0.13550693]\n"
          ],
          "name": "stdout"
        }
      ]
    },
    {
      "cell_type": "code",
      "metadata": {
        "colab": {
          "base_uri": "https://localhost:8080/"
        },
        "id": "32OZyruvAemu",
        "outputId": "a583f83a-a1f2-43e4-defa-05fe04306275"
      },
      "source": [
        "beta = []\n",
        "p=[]\n",
        "p1 = exp(np.dot(itemDoc,pus1))\n",
        "p.append(p1)\n",
        "p2 = exp(np.dot(itemDoc,pus2))\n",
        "p.append(p2)\n",
        "beta1 = p1/np.sum(p)\n",
        "beta.append(beta1)\n",
        "beta2 = p2/np.sum(p)\n",
        "beta.append(beta2)\n",
        "print(beta)"
      ],
      "execution_count": null,
      "outputs": [
        {
          "output_type": "stream",
          "text": [
            "[0.4999999290633923, 0.5000000709366077]\n"
          ],
          "name": "stdout"
        }
      ]
    },
    {
      "cell_type": "code",
      "metadata": {
        "colab": {
          "base_uri": "https://localhost:8080/"
        },
        "id": "tU5OBVhBDXKf",
        "outputId": "0584f5ab-990b-42d9-ba47-e09753530965"
      },
      "source": [
        "pus=np.array([0,0,0,0,0,0,0,0,0,0])\n",
        "for i in range(0,2):\n",
        "  pi = np.array(np.dot(beta[i],pusl[i]))\n",
        "  pus = np.add(pus,pi)\n",
        "print(pus)"
      ],
      "execution_count": null,
      "outputs": [
        {
          "output_type": "stream",
          "text": [
            "[14.09284019  9.40101337  5.72979069  3.60289741  3.35201907  1.31396747\n",
            "  0.5671944   0.37271324  0.22624482  0.13550693]\n"
          ],
          "name": "stdout"
        }
      ]
    },
    {
      "cell_type": "code",
      "metadata": {
        "colab": {
          "base_uri": "https://localhost:8080/"
        },
        "id": "uoGJ27-4ESsz",
        "outputId": "bae41256-8df2-45d2-b3fc-e03b1ed94dc8"
      },
      "source": [
        "# calculate preference score\n",
        "def sigmoid(val):\n",
        "  temp = 1/(1+exp(-val))\n",
        "  return temp\n",
        "userDoc = np.add(userDoc,np.dot(0.1,pus))\n",
        "# print(userDoc)\n",
        "purchaseScore = sigmoid(np.dot(userDoc,itemDoc))\n",
        "print(purchaseScore)"
      ],
      "execution_count": null,
      "outputs": [
        {
          "output_type": "stream",
          "text": [
            "1.0\n"
          ],
          "name": "stdout"
        }
      ]
    },
    {
      "cell_type": "code",
      "metadata": {
        "id": "g7iNMMKrEqZp"
      },
      "source": [
        ""
      ],
      "execution_count": null,
      "outputs": []
    }
  ]
}